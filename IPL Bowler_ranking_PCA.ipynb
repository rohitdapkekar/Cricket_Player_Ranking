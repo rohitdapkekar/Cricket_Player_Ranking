{
 "cells": [
  {
   "cell_type": "markdown",
   "id": "011f3669",
   "metadata": {},
   "source": [
    "# Import Library & Data"
   ]
  },
  {
   "cell_type": "code",
   "execution_count": 1,
   "id": "7c415041",
   "metadata": {},
   "outputs": [],
   "source": [
    "# importing required libraries \n",
    "import numpy as np \n",
    "import matplotlib.pyplot as plt \n",
    "import pandas as pd \n",
    "import seaborn as sns"
   ]
  },
  {
   "cell_type": "code",
   "execution_count": 2,
   "id": "0063ebb0",
   "metadata": {},
   "outputs": [],
   "source": [
    "import os \n",
    "os.chdir(r\"C:\\Users\\akash\\Downloads\\DATA SCIENCE PROJECTS\\IPL\\Final\\Dataset\") "
   ]
  },
  {
   "cell_type": "code",
   "execution_count": 3,
   "id": "a82b154e",
   "metadata": {},
   "outputs": [
    {
     "data": {
      "text/html": [
       "<div>\n",
       "<style scoped>\n",
       "    .dataframe tbody tr th:only-of-type {\n",
       "        vertical-align: middle;\n",
       "    }\n",
       "\n",
       "    .dataframe tbody tr th {\n",
       "        vertical-align: top;\n",
       "    }\n",
       "\n",
       "    .dataframe thead th {\n",
       "        text-align: right;\n",
       "    }\n",
       "</style>\n",
       "<table border=\"1\" class=\"dataframe\">\n",
       "  <thead>\n",
       "    <tr style=\"text-align: right;\">\n",
       "      <th></th>\n",
       "      <th>Name</th>\n",
       "      <th>Role</th>\n",
       "      <th>Wickets</th>\n",
       "      <th>Economy</th>\n",
       "      <th>Bowling_Average</th>\n",
       "      <th>Bowling_strike_rate</th>\n",
       "    </tr>\n",
       "  </thead>\n",
       "  <tbody>\n",
       "    <tr>\n",
       "      <th>0</th>\n",
       "      <td>Basil Thampi</td>\n",
       "      <td>BOWLER</td>\n",
       "      <td>17</td>\n",
       "      <td>9.80</td>\n",
       "      <td>40.82</td>\n",
       "      <td>25.00</td>\n",
       "    </tr>\n",
       "    <tr>\n",
       "      <th>1</th>\n",
       "      <td>Mitchell Santner</td>\n",
       "      <td>BOWLER</td>\n",
       "      <td>6</td>\n",
       "      <td>7.00</td>\n",
       "      <td>24.50</td>\n",
       "      <td>21.00</td>\n",
       "    </tr>\n",
       "    <tr>\n",
       "      <th>2</th>\n",
       "      <td>Rahul Tewatia</td>\n",
       "      <td>BOWLER</td>\n",
       "      <td>24</td>\n",
       "      <td>7.13</td>\n",
       "      <td>28.33</td>\n",
       "      <td>23.83</td>\n",
       "    </tr>\n",
       "    <tr>\n",
       "      <th>3</th>\n",
       "      <td>Hardik Pandya</td>\n",
       "      <td>BOWLER</td>\n",
       "      <td>42</td>\n",
       "      <td>9.07</td>\n",
       "      <td>31.26</td>\n",
       "      <td>20.69</td>\n",
       "    </tr>\n",
       "    <tr>\n",
       "      <th>4</th>\n",
       "      <td>Kieron Pollard</td>\n",
       "      <td>BOWLER</td>\n",
       "      <td>60</td>\n",
       "      <td>8.88</td>\n",
       "      <td>32.67</td>\n",
       "      <td>22.08</td>\n",
       "    </tr>\n",
       "  </tbody>\n",
       "</table>\n",
       "</div>"
      ],
      "text/plain": [
       "               Name    Role  Wickets  Economy  Bowling_Average  \\\n",
       "0      Basil Thampi  BOWLER       17     9.80            40.82   \n",
       "1  Mitchell Santner  BOWLER        6     7.00            24.50   \n",
       "2     Rahul Tewatia  BOWLER       24     7.13            28.33   \n",
       "3     Hardik Pandya  BOWLER       42     9.07            31.26   \n",
       "4    Kieron Pollard  BOWLER       60     8.88            32.67   \n",
       "\n",
       "   Bowling_strike_rate  \n",
       "0                25.00  \n",
       "1                21.00  \n",
       "2                23.83  \n",
       "3                20.69  \n",
       "4                22.08  "
      ]
     },
     "execution_count": 3,
     "metadata": {},
     "output_type": "execute_result"
    }
   ],
   "source": [
    "# importing or loading the dataset \n",
    "Data_for_PCA = pd.read_csv(r\"BOWLERS.csv\")\n",
    "\n",
    "Data_for_PCA.head()"
   ]
  },
  {
   "cell_type": "markdown",
   "id": "c4814a73",
   "metadata": {},
   "source": [
    "# Data Pre-Processing"
   ]
  },
  {
   "cell_type": "markdown",
   "id": "d9f4f2e9",
   "metadata": {},
   "source": [
    "### Checking missing values"
   ]
  },
  {
   "cell_type": "code",
   "execution_count": 4,
   "id": "3a0f993c",
   "metadata": {},
   "outputs": [
    {
     "data": {
      "text/plain": [
       "Name                   0\n",
       "Role                   0\n",
       "Wickets                0\n",
       "Economy                0\n",
       "Bowling_Average        0\n",
       "Bowling_strike_rate    0\n",
       "dtype: int64"
      ]
     },
     "execution_count": 4,
     "metadata": {},
     "output_type": "execute_result"
    }
   ],
   "source": [
    "Data_for_PCA.isna().sum()"
   ]
  },
  {
   "cell_type": "markdown",
   "id": "b8bd8141",
   "metadata": {},
   "source": [
    "- There is no missing value in the data"
   ]
  },
  {
   "cell_type": "markdown",
   "id": "71da11ba",
   "metadata": {},
   "source": [
    "# Exploratory Data Analysis"
   ]
  },
  {
   "cell_type": "code",
   "execution_count": 5,
   "id": "9f5296ba",
   "metadata": {},
   "outputs": [
    {
     "data": {
      "text/plain": [
       "<AxesSubplot:xlabel='Wickets', ylabel='Count'>"
      ]
     },
     "execution_count": 5,
     "metadata": {},
     "output_type": "execute_result"
    },
    {
     "data": {
      "image/png": "[encoded data removed]",
      "text/plain": [
       "<Figure size 432x288 with 1 Axes>"
      ]
     },
     "metadata": {
      "needs_background": "light"
     },
     "output_type": "display_data"
    }
   ],
   "source": [
    "sns.histplot(data = Data_for_PCA, x = \"Wickets\")"
   ]
  },
  {
   "cell_type": "code",
   "execution_count": 6,
   "id": "062661dc",
   "metadata": {},
   "outputs": [
    {
     "data": {
      "text/plain": [
       "<AxesSubplot:xlabel='Economy', ylabel='Count'>"
      ]
     },
     "execution_count": 6,
     "metadata": {},
     "output_type": "execute_result"
    },
    {
     "data": {
      "image/png": "[encoded data removed]",
      "text/plain": [
       "<Figure size 432x288 with 1 Axes>"
      ]
     },
     "metadata": {
      "needs_background": "light"
     },
     "output_type": "display_data"
    }
   ],
   "source": [
    "sns.histplot(data = Data_for_PCA, x = \"Economy\")"
   ]
  },
  {
   "cell_type": "code",
   "execution_count": 7,
   "id": "f53dbc29",
   "metadata": {},
   "outputs": [
    {
     "data": {
      "text/plain": [
       "<AxesSubplot:xlabel='Bowling_Average', ylabel='Count'>"
      ]
     },
     "execution_count": 7,
     "metadata": {},
     "output_type": "execute_result"
    },
    {
     "data": {
      "image/png": "[encoded data removed]",
      "text/plain": [
       "<Figure size 432x288 with 1 Axes>"
      ]
     },
     "metadata": {
      "needs_background": "light"
     },
     "output_type": "display_data"
    }
   ],
   "source": [
    "sns.histplot(data = Data_for_PCA, x = \"Bowling_Average\")"
   ]
  },
  {
   "cell_type": "code",
   "execution_count": 8,
   "id": "d031e3e7",
   "metadata": {},
   "outputs": [
    {
     "data": {
      "text/plain": [
       "<AxesSubplot:xlabel='Bowling_strike_rate', ylabel='Count'>"
      ]
     },
     "execution_count": 8,
     "metadata": {},
     "output_type": "execute_result"
    },
    {
     "data": {
      "image/png": "[encoded data removed]",
      "text/plain": [
       "<Figure size 432x288 with 1 Axes>"
      ]
     },
     "metadata": {
      "needs_background": "light"
     },
     "output_type": "display_data"
    }
   ],
   "source": [
    "sns.histplot(data = Data_for_PCA, x = \"Bowling_strike_rate\")"
   ]
  },
  {
   "cell_type": "code",
   "execution_count": 9,
   "id": "2120b624",
   "metadata": {},
   "outputs": [
    {
     "name": "stdout",
     "output_type": "stream",
     "text": [
      "<class 'pandas.core.frame.DataFrame'>\n",
      "RangeIndex: 101 entries, 0 to 100\n",
      "Data columns (total 6 columns):\n",
      " #   Column               Non-Null Count  Dtype  \n",
      "---  ------               --------------  -----  \n",
      " 0   Name                 101 non-null    object \n",
      " 1   Role                 101 non-null    object \n",
      " 2   Wickets              101 non-null    int64  \n",
      " 3   Economy              101 non-null    float64\n",
      " 4   Bowling_Average      101 non-null    float64\n",
      " 5   Bowling_strike_rate  101 non-null    float64\n",
      "dtypes: float64(3), int64(1), object(2)\n",
      "memory usage: 4.9+ KB\n"
     ]
    }
   ],
   "source": [
    "Data_for_PCA.info()"
   ]
  },
  {
   "cell_type": "code",
   "execution_count": 10,
   "id": "a887463a",
   "metadata": {},
   "outputs": [
    {
     "data": {
      "text/plain": [
       "<seaborn.axisgrid.PairGrid at 0x1733447f1c0>"
      ]
     },
     "execution_count": 10,
     "metadata": {},
     "output_type": "execute_result"
    },
    {
     "data": {
      "image/png": "[encoded data removed]",
      "text/plain": [
       "<Figure size 720x720 with 20 Axes>"
      ]
     },
     "metadata": {
      "needs_background": "light"
     },
     "output_type": "display_data"
    }
   ],
   "source": [
    "sns.pairplot(data=Data_for_PCA)"
   ]
  },
  {
   "cell_type": "code",
   "execution_count": 11,
   "id": "8d1f538a",
   "metadata": {},
   "outputs": [
    {
     "data": {
      "text/html": [
       "<div>\n",
       "<style scoped>\n",
       "    .dataframe tbody tr th:only-of-type {\n",
       "        vertical-align: middle;\n",
       "    }\n",
       "\n",
       "    .dataframe tbody tr th {\n",
       "        vertical-align: top;\n",
       "    }\n",
       "\n",
       "    .dataframe thead th {\n",
       "        text-align: right;\n",
       "    }\n",
       "</style>\n",
       "<table border=\"1\" class=\"dataframe\">\n",
       "  <thead>\n",
       "    <tr style=\"text-align: right;\">\n",
       "      <th></th>\n",
       "      <th>Wickets</th>\n",
       "      <th>Economy</th>\n",
       "      <th>Bowling_Average</th>\n",
       "      <th>Bowling_strike_rate</th>\n",
       "    </tr>\n",
       "  </thead>\n",
       "  <tbody>\n",
       "    <tr>\n",
       "      <th>count</th>\n",
       "      <td>101.000000</td>\n",
       "      <td>101.000000</td>\n",
       "      <td>101.000000</td>\n",
       "      <td>101.000000</td>\n",
       "    </tr>\n",
       "    <tr>\n",
       "      <th>mean</th>\n",
       "      <td>39.920792</td>\n",
       "      <td>8.103168</td>\n",
       "      <td>29.453267</td>\n",
       "      <td>21.553762</td>\n",
       "    </tr>\n",
       "    <tr>\n",
       "      <th>std</th>\n",
       "      <td>41.141143</td>\n",
       "      <td>1.563866</td>\n",
       "      <td>12.561604</td>\n",
       "      <td>9.020566</td>\n",
       "    </tr>\n",
       "    <tr>\n",
       "      <th>min</th>\n",
       "      <td>0.000000</td>\n",
       "      <td>0.000000</td>\n",
       "      <td>0.000000</td>\n",
       "      <td>0.000000</td>\n",
       "    </tr>\n",
       "    <tr>\n",
       "      <th>25%</th>\n",
       "      <td>10.000000</td>\n",
       "      <td>7.510000</td>\n",
       "      <td>24.170000</td>\n",
       "      <td>18.330000</td>\n",
       "    </tr>\n",
       "    <tr>\n",
       "      <th>50%</th>\n",
       "      <td>24.000000</td>\n",
       "      <td>8.260000</td>\n",
       "      <td>28.540000</td>\n",
       "      <td>21.000000</td>\n",
       "    </tr>\n",
       "    <tr>\n",
       "      <th>75%</th>\n",
       "      <td>59.000000</td>\n",
       "      <td>8.890000</td>\n",
       "      <td>33.450000</td>\n",
       "      <td>25.170000</td>\n",
       "    </tr>\n",
       "    <tr>\n",
       "      <th>max</th>\n",
       "      <td>160.000000</td>\n",
       "      <td>12.500000</td>\n",
       "      <td>79.670000</td>\n",
       "      <td>60.000000</td>\n",
       "    </tr>\n",
       "  </tbody>\n",
       "</table>\n",
       "</div>"
      ],
      "text/plain": [
       "          Wickets     Economy  Bowling_Average  Bowling_strike_rate\n",
       "count  101.000000  101.000000       101.000000           101.000000\n",
       "mean    39.920792    8.103168        29.453267            21.553762\n",
       "std     41.141143    1.563866        12.561604             9.020566\n",
       "min      0.000000    0.000000         0.000000             0.000000\n",
       "25%     10.000000    7.510000        24.170000            18.330000\n",
       "50%     24.000000    8.260000        28.540000            21.000000\n",
       "75%     59.000000    8.890000        33.450000            25.170000\n",
       "max    160.000000   12.500000        79.670000            60.000000"
      ]
     },
     "execution_count": 11,
     "metadata": {},
     "output_type": "execute_result"
    }
   ],
   "source": [
    "Data_for_PCA.describe()"
   ]
  },
  {
   "cell_type": "markdown",
   "id": "551aa22e",
   "metadata": {},
   "source": [
    "## Taking specific column for Analysis"
   ]
  },
  {
   "cell_type": "code",
   "execution_count": 12,
   "id": "55ddbfd0",
   "metadata": {},
   "outputs": [],
   "source": [
    "numeric_predictors=['Wickets','Economy','Bowling_Average','Bowling_strike_rate']\n",
    "X_train = Data_for_PCA[numeric_predictors]\n",
    "y_train = Data_for_PCA['Name']"
   ]
  },
  {
   "cell_type": "code",
   "execution_count": 13,
   "id": "f7402b33",
   "metadata": {},
   "outputs": [
    {
     "data": {
      "text/html": [
       "<div>\n",
       "<style scoped>\n",
       "    .dataframe tbody tr th:only-of-type {\n",
       "        vertical-align: middle;\n",
       "    }\n",
       "\n",
       "    .dataframe tbody tr th {\n",
       "        vertical-align: top;\n",
       "    }\n",
       "\n",
       "    .dataframe thead th {\n",
       "        text-align: right;\n",
       "    }\n",
       "</style>\n",
       "<table border=\"1\" class=\"dataframe\">\n",
       "  <thead>\n",
       "    <tr style=\"text-align: right;\">\n",
       "      <th></th>\n",
       "      <th>Wickets</th>\n",
       "      <th>Economy</th>\n",
       "      <th>Bowling_Average</th>\n",
       "      <th>Bowling_strike_rate</th>\n",
       "    </tr>\n",
       "  </thead>\n",
       "  <tbody>\n",
       "    <tr>\n",
       "      <th>0</th>\n",
       "      <td>17</td>\n",
       "      <td>9.80</td>\n",
       "      <td>40.82</td>\n",
       "      <td>25.00</td>\n",
       "    </tr>\n",
       "    <tr>\n",
       "      <th>1</th>\n",
       "      <td>6</td>\n",
       "      <td>7.00</td>\n",
       "      <td>24.50</td>\n",
       "      <td>21.00</td>\n",
       "    </tr>\n",
       "    <tr>\n",
       "      <th>2</th>\n",
       "      <td>24</td>\n",
       "      <td>7.13</td>\n",
       "      <td>28.33</td>\n",
       "      <td>23.83</td>\n",
       "    </tr>\n",
       "    <tr>\n",
       "      <th>3</th>\n",
       "      <td>42</td>\n",
       "      <td>9.07</td>\n",
       "      <td>31.26</td>\n",
       "      <td>20.69</td>\n",
       "    </tr>\n",
       "    <tr>\n",
       "      <th>4</th>\n",
       "      <td>60</td>\n",
       "      <td>8.88</td>\n",
       "      <td>32.67</td>\n",
       "      <td>22.08</td>\n",
       "    </tr>\n",
       "  </tbody>\n",
       "</table>\n",
       "</div>"
      ],
      "text/plain": [
       "   Wickets  Economy  Bowling_Average  Bowling_strike_rate\n",
       "0       17     9.80            40.82                25.00\n",
       "1        6     7.00            24.50                21.00\n",
       "2       24     7.13            28.33                23.83\n",
       "3       42     9.07            31.26                20.69\n",
       "4       60     8.88            32.67                22.08"
      ]
     },
     "execution_count": 13,
     "metadata": {},
     "output_type": "execute_result"
    }
   ],
   "source": [
    "X_train.head()"
   ]
  },
  {
   "cell_type": "code",
   "execution_count": 14,
   "id": "c782d61c",
   "metadata": {},
   "outputs": [
    {
     "data": {
      "text/html": [
       "<style type=\"text/css\">\n",
       "#T_e6e00_row0_col0, #T_e6e00_row1_col1, #T_e6e00_row2_col2, #T_e6e00_row2_col3, #T_e6e00_row3_col2, #T_e6e00_row3_col3 {\n",
       "  background-color: yellow;\n",
       "}\n",
       "</style>\n",
       "<table id=\"T_e6e00\">\n",
       "  <thead>\n",
       "    <tr>\n",
       "      <th class=\"blank level0\" >&nbsp;</th>\n",
       "      <th id=\"T_e6e00_level0_col0\" class=\"col_heading level0 col0\" >Wickets</th>\n",
       "      <th id=\"T_e6e00_level0_col1\" class=\"col_heading level0 col1\" >Economy</th>\n",
       "      <th id=\"T_e6e00_level0_col2\" class=\"col_heading level0 col2\" >Bowling_Average</th>\n",
       "      <th id=\"T_e6e00_level0_col3\" class=\"col_heading level0 col3\" >Bowling_strike_rate</th>\n",
       "    </tr>\n",
       "  </thead>\n",
       "  <tbody>\n",
       "    <tr>\n",
       "      <th id=\"T_e6e00_level0_row0\" class=\"row_heading level0 row0\" >Wickets</th>\n",
       "      <td id=\"T_e6e00_row0_col0\" class=\"data row0 col0\" >1.000000</td>\n",
       "      <td id=\"T_e6e00_row0_col1\" class=\"data row0 col1\" >-0.106171</td>\n",
       "      <td id=\"T_e6e00_row0_col2\" class=\"data row0 col2\" >-0.139140</td>\n",
       "      <td id=\"T_e6e00_row0_col3\" class=\"data row0 col3\" >-0.063906</td>\n",
       "    </tr>\n",
       "    <tr>\n",
       "      <th id=\"T_e6e00_level0_row1\" class=\"row_heading level0 row1\" >Economy</th>\n",
       "      <td id=\"T_e6e00_row1_col0\" class=\"data row1 col0\" >-0.106171</td>\n",
       "      <td id=\"T_e6e00_row1_col1\" class=\"data row1 col1\" >1.000000</td>\n",
       "      <td id=\"T_e6e00_row1_col2\" class=\"data row1 col2\" >0.345487</td>\n",
       "      <td id=\"T_e6e00_row1_col3\" class=\"data row1 col3\" >0.147944</td>\n",
       "    </tr>\n",
       "    <tr>\n",
       "      <th id=\"T_e6e00_level0_row2\" class=\"row_heading level0 row2\" >Bowling_Average</th>\n",
       "      <td id=\"T_e6e00_row2_col0\" class=\"data row2 col0\" >-0.139140</td>\n",
       "      <td id=\"T_e6e00_row2_col1\" class=\"data row2 col1\" >0.345487</td>\n",
       "      <td id=\"T_e6e00_row2_col2\" class=\"data row2 col2\" >1.000000</td>\n",
       "      <td id=\"T_e6e00_row2_col3\" class=\"data row2 col3\" >0.941686</td>\n",
       "    </tr>\n",
       "    <tr>\n",
       "      <th id=\"T_e6e00_level0_row3\" class=\"row_heading level0 row3\" >Bowling_strike_rate</th>\n",
       "      <td id=\"T_e6e00_row3_col0\" class=\"data row3 col0\" >-0.063906</td>\n",
       "      <td id=\"T_e6e00_row3_col1\" class=\"data row3 col1\" >0.147944</td>\n",
       "      <td id=\"T_e6e00_row3_col2\" class=\"data row3 col2\" >0.941686</td>\n",
       "      <td id=\"T_e6e00_row3_col3\" class=\"data row3 col3\" >1.000000</td>\n",
       "    </tr>\n",
       "  </tbody>\n",
       "</table>\n"
      ],
      "text/plain": [
       "<pandas.io.formats.style.Styler at 0x17334dec910>"
      ]
     },
     "execution_count": 14,
     "metadata": {},
     "output_type": "execute_result"
    }
   ],
   "source": [
    "Correlation=X_train.corr()\n",
    "Correlation.style.applymap(lambda x: 'background-color : yellow' if x > 0.5 else '')"
   ]
  },
  {
   "cell_type": "code",
   "execution_count": 15,
   "id": "18999b2a",
   "metadata": {},
   "outputs": [
    {
     "data": {
      "text/plain": [
       "<AxesSubplot:>"
      ]
     },
     "execution_count": 15,
     "metadata": {},
     "output_type": "execute_result"
    },
    {
     "data": {
      "image/png": "[encoded data removed]",
      "text/plain": [
       "<Figure size 432x288 with 2 Axes>"
      ]
     },
     "metadata": {
      "needs_background": "light"
     },
     "output_type": "display_data"
    }
   ],
   "source": [
    "sns.heatmap(X_train.corr(), annot=True)"
   ]
  },
  {
   "cell_type": "markdown",
   "id": "054f4393",
   "metadata": {},
   "source": [
    "### PCA is effected by scale so you need to scale the features in the data before applying PCA. \n",
    "\n",
    "* You can transform the data onto unit scale (mean = 0 and variance = 1)"
   ]
  },
  {
   "cell_type": "code",
   "execution_count": 16,
   "id": "efee17ce",
   "metadata": {},
   "outputs": [],
   "source": [
    "# performing preprocessing part \n",
    "from sklearn.preprocessing import StandardScaler \n",
    "\n",
    "sc = StandardScaler() # mean 0 & std=1\n",
    "  \n",
    "X_train_1 = sc.fit_transform(X_train)  # Fit to data, then transform it."
   ]
  },
  {
   "cell_type": "markdown",
   "id": "affdb253",
   "metadata": {},
   "source": [
    "### Mean"
   ]
  },
  {
   "cell_type": "code",
   "execution_count": 17,
   "id": "e50563f1",
   "metadata": {},
   "outputs": [
    {
     "data": {
      "text/plain": [
       "array([-2.41830758e-17,  2.58319219e-16, -1.47022108e-16,  2.68212295e-16])"
      ]
     },
     "execution_count": 17,
     "metadata": {},
     "output_type": "execute_result"
    }
   ],
   "source": [
    "X_train_1.mean(axis=0)"
   ]
  },
  {
   "cell_type": "markdown",
   "id": "e8fe9cf1",
   "metadata": {},
   "source": [
    "### Standard Deviation"
   ]
  },
  {
   "cell_type": "code",
   "execution_count": 18,
   "id": "c3c2fbc7",
   "metadata": {},
   "outputs": [
    {
     "data": {
      "text/plain": [
       "array([1., 1., 1., 1.])"
      ]
     },
     "execution_count": 18,
     "metadata": {},
     "output_type": "execute_result"
    }
   ],
   "source": [
    "X_train_1.std(axis=0)"
   ]
  },
  {
   "cell_type": "code",
   "execution_count": 19,
   "id": "c4f62944",
   "metadata": {},
   "outputs": [
    {
     "data": {
      "text/html": [
       "<div>\n",
       "<style scoped>\n",
       "    .dataframe tbody tr th:only-of-type {\n",
       "        vertical-align: middle;\n",
       "    }\n",
       "\n",
       "    .dataframe tbody tr th {\n",
       "        vertical-align: top;\n",
       "    }\n",
       "\n",
       "    .dataframe thead th {\n",
       "        text-align: right;\n",
       "    }\n",
       "</style>\n",
       "<table border=\"1\" class=\"dataframe\">\n",
       "  <thead>\n",
       "    <tr style=\"text-align: right;\">\n",
       "      <th></th>\n",
       "      <th>Wickets</th>\n",
       "      <th>Economy</th>\n",
       "      <th>Bowling_Average</th>\n",
       "      <th>Bowling_strike_rate</th>\n",
       "    </tr>\n",
       "  </thead>\n",
       "  <tbody>\n",
       "    <tr>\n",
       "      <th>0</th>\n",
       "      <td>17</td>\n",
       "      <td>9.80</td>\n",
       "      <td>40.82</td>\n",
       "      <td>25.00</td>\n",
       "    </tr>\n",
       "    <tr>\n",
       "      <th>1</th>\n",
       "      <td>6</td>\n",
       "      <td>7.00</td>\n",
       "      <td>24.50</td>\n",
       "      <td>21.00</td>\n",
       "    </tr>\n",
       "    <tr>\n",
       "      <th>2</th>\n",
       "      <td>24</td>\n",
       "      <td>7.13</td>\n",
       "      <td>28.33</td>\n",
       "      <td>23.83</td>\n",
       "    </tr>\n",
       "  </tbody>\n",
       "</table>\n",
       "</div>"
      ],
      "text/plain": [
       "   Wickets  Economy  Bowling_Average  Bowling_strike_rate\n",
       "0       17     9.80            40.82                25.00\n",
       "1        6     7.00            24.50                21.00\n",
       "2       24     7.13            28.33                23.83"
      ]
     },
     "execution_count": 19,
     "metadata": {},
     "output_type": "execute_result"
    }
   ],
   "source": [
    "X_train.head(3)"
   ]
  },
  {
   "cell_type": "code",
   "execution_count": 20,
   "id": "2806a295",
   "metadata": {},
   "outputs": [
    {
     "data": {
      "text/plain": [
       "array([[-5.59904494e-01,  1.09043511e+00,  9.09392241e-01,\n",
       "         3.83947745e-01],\n",
       "       [-8.28610279e-01, -7.08929161e-01, -3.96284755e-01,\n",
       "        -6.16950538e-02],\n",
       "       [-3.88909903e-01, -6.25387249e-01, -8.98666856e-02,\n",
       "         2.53597226e-01],\n",
       "       [ 5.07904724e-02,  6.21315137e-01,  1.44547138e-01,\n",
       "        -9.62323707e-02],\n",
       "       [ 4.90490848e-01,  4.99215419e-01,  2.57353790e-01,\n",
       "         5.86285019e-02],\n",
       "       [ 5.14918647e-01,  5.50625827e-01, -1.09867865e-01,\n",
       "        -3.06798593e-01],\n",
       "       [-8.28610279e-01,  2.10031876e-01,  6.97379738e-01,\n",
       "         6.25708963e-01],\n",
       "       [-4.69207222e-02,  1.84326672e-01,  2.62954120e-01,\n",
       "         2.07918839e-01],\n",
       "       [-2.91198709e-01,  8.20530467e-01,  7.81432219e-02,\n",
       "        -2.33267531e-01],\n",
       "       [-6.82043487e-01,  4.47805011e-01,  2.83755347e-01,\n",
       "         1.05420996e-01],\n",
       "       [-7.55326883e-01,  2.18933257e+00,  5.41370538e-01,\n",
       "        -2.96771630e-01],\n",
       "       [-2.91198709e-01,  2.74294885e-01,  3.92561763e-01,\n",
       "         2.92590971e-01],\n",
       "       [ 1.80959198e+00, -2.78366997e-01,  7.89432691e-02,\n",
       "         2.50254905e-01],\n",
       "       [ 1.48501667e-01, -5.35419035e-01,  2.66154309e-01,\n",
       "         6.14567893e-01],\n",
       "       [ 9.79046821e-01, -1.88398784e-01, -4.37087161e-01,\n",
       "        -3.48020552e-01],\n",
       "       [-4.13337702e-01,  5.05641720e-01, -3.62635246e-02,\n",
       "        -2.21012354e-01],\n",
       "       [-9.75177071e-01, -5.20733983e+00, -2.35640034e+00,\n",
       "        -2.40131975e+00],\n",
       "       [ 2.76227612e+00,  1.97179274e-01, -3.70683245e-01,\n",
       "        -4.27122149e-01],\n",
       "       [-5.11048896e-01,  3.00000089e-01,  9.27793326e-01,\n",
       "         8.00623762e-01],\n",
       "       [-7.30899084e-01,  6.79151846e-01,  1.07580205e+00,\n",
       "         7.29320914e-01],\n",
       "       [ 4.66063049e-01, -4.13319317e-01, -1.16268242e-01,\n",
       "         1.06535103e-01],\n",
       "       [-7.30899084e-01, -6.18960948e-01,  1.07744968e-01,\n",
       "         4.84217375e-01],\n",
       "       [ 9.79046821e-01, -5.16140132e-01,  9.97444958e-02,\n",
       "         4.10686313e-01],\n",
       "       [-9.01893675e-01,  7.88398962e-01,  6.30175775e-01,\n",
       "         2.72537045e-01],\n",
       "       [-9.75177071e-01,  5.76331031e-01, -2.35640034e+00,\n",
       "        -2.40131975e+00],\n",
       "       [-4.86621098e-01, -1.30562075e-01, -6.76301267e-01,\n",
       "        -6.24319087e-01],\n",
       "       [-2.66770910e-01, -2.03605575e-03,  1.48547374e-01,\n",
       "         1.84522593e-01],\n",
       "       [-1.44631917e-01, -9.84305701e-02,  8.37435522e-02,\n",
       "         1.64468667e-01],\n",
       "       [-3.88909903e-01, -7.92471074e-01,  1.40546902e-01,\n",
       "         6.34621819e-01],\n",
       "       [-8.77465876e-01, -3.29777405e-01, -7.36304806e-01,\n",
       "        -6.18748552e-01],\n",
       "       [-8.04182480e-01,  2.16458177e-01,  1.32381668e+00,\n",
       "         1.24292424e+00],\n",
       "       [ 2.12715336e+00, -8.50307782e-01, -3.73883434e-01,\n",
       "         4.19168969e-02],\n",
       "       [-7.06471286e-01, -9.98112704e-01, -1.46622508e-02,\n",
       "         5.86715219e-01],\n",
       "       [ 4.66063049e-01, -1.24135774e-01, -1.73071592e-01,\n",
       "        -9.40041567e-02],\n",
       "       [ 2.68899273e+00, -6.76797656e-01, -2.40275555e-01,\n",
       "         1.04306889e-01],\n",
       "       [ 1.48501667e-01, -6.25387249e-01, -6.49899711e-01,\n",
       "        -4.03725902e-01],\n",
       "       [-5.11048896e-01,  2.03605575e-01, -8.66664968e-02,\n",
       "        -1.49709507e-01],\n",
       "       [-5.59904494e-01,  1.13637362e-01,  1.29581503e+00,\n",
       "         1.28191798e+00],\n",
       "       [-6.57615688e-01,  1.00784760e-01,  1.10220361e+00,\n",
       "         1.09474801e+00],\n",
       "       [-1.44631917e-01, -1.49840978e-01, -1.46670035e-01,\n",
       "        -5.50104118e-02],\n",
       "       [ 1.68745298e+00, -4.39024521e-01, -4.57888388e-01,\n",
       "        -2.63348420e-01],\n",
       "       [ 1.97357264e-01, -1.62693580e-01, -4.17886029e-01,\n",
       "        -3.37993589e-01],\n",
       "       [ 5.14918647e-01,  8.79321577e-02, -9.08314949e-01,\n",
       "        -9.32926726e-01],\n",
       "       [-9.01893675e-01,  1.19325592e+00,  4.01757553e+00,\n",
       "         2.94639384e+00],\n",
       "       [-5.35476695e-01,  1.77900371e-01, -3.87484236e-01,\n",
       "        -4.39377326e-01],\n",
       "       [ 2.83555952e+00, -1.49840978e-01, -1.69871403e-01,\n",
       "        -8.06348728e-02],\n",
       "       [ 2.93327071e+00, -4.90434929e-01, -4.22686312e-01,\n",
       "        -1.99844321e-01],\n",
       "       [ 1.12561361e+00,  1.00784760e-01, -9.94672517e-02,\n",
       "        -1.17400404e-01],\n",
       "       [-2.24929235e-02,  6.27741438e-01, -1.33069233e-01,\n",
       "        -3.55819301e-01],\n",
       "       [ 1.24073868e-01, -3.04072201e-01, -9.70671102e-02,\n",
       "         7.42259998e-02],\n",
       "       [ 2.39585914e+00, -7.92471074e-01, -2.11473857e-01,\n",
       "         2.06804732e-01],\n",
       "       [-3.64482105e-01,  7.30562254e-01, -5.13091643e-01,\n",
       "        -7.34615680e-01],\n",
       "       [ 1.93487514e-03,  2.35737080e-01, -6.12297493e-01,\n",
       "        -6.80024437e-01],\n",
       "       [ 1.48501667e-01,  4.09247206e-01, -9.86196770e-03,\n",
       "        -1.58622363e-01],\n",
       "       [ 1.48501667e-01,  4.09247206e-01, -9.86196770e-03,\n",
       "        -1.58622363e-01],\n",
       "       [ 1.93487514e-03,  1.13637362e-01,  1.15745439e-01,\n",
       "         9.42799258e-02],\n",
       "       [ 7.59196633e-01,  1.08165462e-02,  5.78172709e-01,\n",
       "         6.19024321e-01],\n",
       "       [ 1.00347462e+00,  4.67083914e-01,  3.41406271e-02,\n",
       "        -1.39682544e-01],\n",
       "       [-5.84332292e-01,  2.80721186e-01, -2.21074423e-01,\n",
       "        -3.12369128e-01],\n",
       "       [ 1.68745298e+00, -2.46235492e-01, -4.13885793e-01,\n",
       "        -2.98999844e-01],\n",
       "       [ 1.93173097e+00,  2.61442284e-01,  5.01415707e-02,\n",
       "        -4.05270209e-02],\n",
       "       [ 8.56907828e-01, -1.19090173e+00, -7.17103674e-01,\n",
       "        -2.08757177e-01],\n",
       "       [-2.42343111e-01, -4.06893016e-01, -2.25874706e-01,\n",
       "        -1.71307739e-02],\n",
       "       [ 9.79046821e-01, -1.75546182e-01, -6.69100843e-01,\n",
       "        -6.02036947e-01],\n",
       "       [-7.79754682e-01,  1.00689319e+00,  1.12380488e+00,\n",
       "         6.06769144e-01],\n",
       "       [ 1.48501667e-01,  5.24920623e-01, -2.58629113e-02,\n",
       "        -2.18784140e-01],\n",
       "       [ 2.63626738e-02, -2.46235492e-01, -5.51493908e-01,\n",
       "        -4.47176075e-01],\n",
       "       [-8.53038078e-01,  4.99215419e-01,  1.33981762e+00,\n",
       "         1.07469408e+00],\n",
       "       [ 2.34700355e+00, -5.54697938e-01, -4.42687491e-01,\n",
       "        -1.92045572e-01],\n",
       "       [-6.82043487e-01, -4.71156026e-01,  1.50147468e-01,\n",
       "         4.39653095e-01],\n",
       "       [-4.62193299e-01,  7.88398962e-01, -6.26650815e-02,\n",
       "        -3.48020552e-01],\n",
       "       [ 4.90490848e-01,  5.05641720e-01,  3.19757470e-01,\n",
       "         1.13219745e-01],\n",
       "       [-5.35476695e-01, -6.38239851e-01, -6.18697871e-01,\n",
       "        -3.59161622e-01],\n",
       "       [-6.33187890e-01,  5.31346924e-01,  3.98162093e-01,\n",
       "         1.76723844e-01],\n",
       "       [ 5.63774244e-01,  2.74294885e-01, -3.53882254e-01,\n",
       "        -4.40491433e-01],\n",
       "       [-7.55326883e-01,  9.74761690e-01,  9.06192052e-01,\n",
       "         4.32968453e-01],\n",
       "       [-5.59904494e-01,  8.79321577e-02,  2.93355913e-01,\n",
       "         2.85906329e-01],\n",
       "       [ 1.98058657e+00, -2.78366997e-01, -5.56294191e-01,\n",
       "        -4.40491433e-01],\n",
       "       [-8.77465876e-01,  1.10971401e+00,  1.18380842e+00,\n",
       "         6.06769144e-01],\n",
       "       [ 1.72929466e-01, -3.61908909e-01,  6.18975115e-01,\n",
       "         8.96436964e-01],\n",
       "       [-8.28610279e-01, -9.85260103e-01,  1.49742692e+00,\n",
       "         2.50075104e+00],\n",
       "       [ 2.70640660e-01,  3.51410497e-01, -8.34663081e-02,\n",
       "        -2.05414856e-01],\n",
       "       [-5.35476695e-01,  7.88398962e-01,  1.20380960e+00,\n",
       "         7.86140371e-01],\n",
       "       [-4.62193299e-01, -2.33382890e-01, -9.46717214e-01,\n",
       "        -8.78335483e-01],\n",
       "       [-3.64482105e-01, -2.20530288e-01,  1.52547610e-01,\n",
       "         2.99275613e-01],\n",
       "       [-3.88909903e-01, -3.81187812e-01, -7.30656948e-02,\n",
       "         1.37730099e-01],\n",
       "       [-9.50749272e-01, -1.09450722e+00,  2.76390160e+00,\n",
       "         4.28332224e+00],\n",
       "       [-5.35476695e-01,  6.22269538e-02,  3.94961905e-01,\n",
       "         4.02887564e-01],\n",
       "       [-9.50749272e-01, -1.67287431e+00, -1.47634845e+00,\n",
       "        -1.06439135e+00],\n",
       "       [-9.01893675e-01,  2.82553637e+00, -3.56282396e-01,\n",
       "        -1.06439135e+00],\n",
       "       [-9.75177071e-01, -5.20733983e+00, -2.35640034e+00,\n",
       "        -2.40131975e+00],\n",
       "       [-4.86621098e-01, -2.65514395e-01, -1.06432415e+00,\n",
       "        -9.97544931e-01],\n",
       "       [-9.26321473e-01, -4.96861230e-01, -5.96296550e-01,\n",
       "        -3.95927153e-01],\n",
       "       [-9.75177071e-01,  8.97646079e-01, -2.35640034e+00,\n",
       "        -2.40131975e+00],\n",
       "       [-3.15626507e-01,  5.31346924e-01, -6.76301267e-01,\n",
       "        -8.29314775e-01],\n",
       "       [-9.75177071e-01,  5.76331031e-01, -2.35640034e+00,\n",
       "        -2.40131975e+00],\n",
       "       [-7.06471286e-01,  2.61442284e-01,  7.27781531e-01,\n",
       "         6.26823070e-01],\n",
       "       [-9.75177071e-01,  1.14827182e+00, -2.35640034e+00,\n",
       "        -2.40131975e+00],\n",
       "       [-9.26321473e-01, -1.11283172e-01,  2.40388037e+00,\n",
       "         2.61216174e+00],\n",
       "       [-8.53038078e-01,  1.19968222e+00,  2.42788179e+00,\n",
       "         1.60946544e+00],\n",
       "       [-6.82043487e-01,  8.26956768e-01, -1.76271781e-01,\n",
       "        -4.60545359e-01]])"
      ]
     },
     "execution_count": 20,
     "metadata": {},
     "output_type": "execute_result"
    }
   ],
   "source": [
    "X_train_1"
   ]
  },
  {
   "cell_type": "markdown",
   "id": "0a9b8776",
   "metadata": {},
   "source": [
    "# No. of variable in original dataset"
   ]
  },
  {
   "cell_type": "code",
   "execution_count": 21,
   "id": "eabeb5c1",
   "metadata": {},
   "outputs": [],
   "source": [
    "# Applying PCA function on training \n",
    "# and testing set of X component \n",
    "from sklearn.decomposition import PCA \n",
    "  \n",
    "model = PCA(n_components = 2) # we are specifying we want 3 PCA\n",
    "  \n",
    "principalComponents= model.fit(X_train_1) # Fit the model with X and apply the dimensionality reduction on X."
   ]
  },
  {
   "cell_type": "markdown",
   "id": "ade7a88c",
   "metadata": {},
   "source": [
    "# Explained Variance\n",
    "* The explained variance tells you how much information (variance) can be attributed to each of the principal components. \n",
    "\n",
    "* This is important as while you can convert high dimensional space to 2 dimensional space, you lose some of the variance (information) when you do this. By using the attribute explained_variance_ratio_, "
   ]
  },
  {
   "cell_type": "code",
   "execution_count": 22,
   "id": "feab67ac",
   "metadata": {},
   "outputs": [
    {
     "data": {
      "text/plain": [
       "[2.11, 1.02]"
      ]
     },
     "execution_count": 22,
     "metadata": {},
     "output_type": "execute_result"
    }
   ],
   "source": [
    "import numpy as np\n",
    "list(np.round(principalComponents.explained_variance_,2))   # eigen values  >= 1 "
   ]
  },
  {
   "cell_type": "code",
   "execution_count": 23,
   "id": "0d940bc2",
   "metadata": {},
   "outputs": [
    {
     "data": {
      "text/plain": [
       "0.5275"
      ]
     },
     "execution_count": 23,
     "metadata": {},
     "output_type": "execute_result"
    }
   ],
   "source": [
    "2.11/4"
   ]
  },
  {
   "cell_type": "code",
   "execution_count": 24,
   "id": "b9219452",
   "metadata": {},
   "outputs": [
    {
     "data": {
      "text/plain": [
       "0.255"
      ]
     },
     "execution_count": 24,
     "metadata": {},
     "output_type": "execute_result"
    }
   ],
   "source": [
    "1.02/4"
   ]
  },
  {
   "cell_type": "code",
   "execution_count": 25,
   "id": "8143bd28",
   "metadata": {},
   "outputs": [
    {
     "data": {
      "text/plain": [
       "[0.52, 0.25]"
      ]
     },
     "execution_count": 25,
     "metadata": {},
     "output_type": "execute_result"
    }
   ],
   "source": [
    "list(np.round(principalComponents.explained_variance_ratio_,2))    # >= 50%"
   ]
  },
  {
   "cell_type": "markdown",
   "id": "87fe345d",
   "metadata": {},
   "source": [
    "* You can see that the first principal component contains 52% of the variance \n",
    "* You can see that the first principal component contains 25% of the variance "
   ]
  },
  {
   "cell_type": "code",
   "execution_count": 26,
   "id": "e0161f8f",
   "metadata": {},
   "outputs": [
    {
     "data": {
      "text/plain": [
       "0.77"
      ]
     },
     "execution_count": 26,
     "metadata": {},
     "output_type": "execute_result"
    }
   ],
   "source": [
    "0.52+0.25"
   ]
  },
  {
   "cell_type": "code",
   "execution_count": 27,
   "id": "35a73b62",
   "metadata": {},
   "outputs": [
    {
     "data": {
      "text/plain": [
       "array([-2.41830758e-17,  2.58319219e-16, -1.47022108e-16,  2.68212295e-16])"
      ]
     },
     "execution_count": 27,
     "metadata": {},
     "output_type": "execute_result"
    }
   ],
   "source": [
    "principalComponents.mean_"
   ]
  },
  {
   "cell_type": "code",
   "execution_count": 28,
   "id": "c1f280d5",
   "metadata": {},
   "outputs": [
    {
     "data": {
      "text/plain": [
       "array([[ 0.90581574, -0.28545871, -0.11367482, -0.02971225],\n",
       "       [-0.28545871,  0.72574159,  0.32699252,  0.27055243],\n",
       "       [-0.11367482,  0.32699252,  1.2265035 ,  0.73959565],\n",
       "       [-0.02971225,  0.27055243,  0.73959565,  1.18193918]])"
      ]
     },
     "execution_count": 28,
     "metadata": {},
     "output_type": "execute_result"
    }
   ],
   "source": [
    "principalComponents.get_covariance()"
   ]
  },
  {
   "cell_type": "code",
   "execution_count": 29,
   "id": "e3b90ddd",
   "metadata": {},
   "outputs": [
    {
     "data": {
      "text/plain": [
       "array([[-5.59904494e-01,  1.09043511e+00,  9.09392241e-01,\n",
       "         3.83947745e-01],\n",
       "       [-8.28610279e-01, -7.08929161e-01, -3.96284755e-01,\n",
       "        -6.16950538e-02],\n",
       "       [-3.88909903e-01, -6.25387249e-01, -8.98666856e-02,\n",
       "         2.53597226e-01],\n",
       "       [ 5.07904724e-02,  6.21315137e-01,  1.44547138e-01,\n",
       "        -9.62323707e-02],\n",
       "       [ 4.90490848e-01,  4.99215419e-01,  2.57353790e-01,\n",
       "         5.86285019e-02],\n",
       "       [ 5.14918647e-01,  5.50625827e-01, -1.09867865e-01,\n",
       "        -3.06798593e-01],\n",
       "       [-8.28610279e-01,  2.10031876e-01,  6.97379738e-01,\n",
       "         6.25708963e-01],\n",
       "       [-4.69207222e-02,  1.84326672e-01,  2.62954120e-01,\n",
       "         2.07918839e-01],\n",
       "       [-2.91198709e-01,  8.20530467e-01,  7.81432219e-02,\n",
       "        -2.33267531e-01],\n",
       "       [-6.82043487e-01,  4.47805011e-01,  2.83755347e-01,\n",
       "         1.05420996e-01],\n",
       "       [-7.55326883e-01,  2.18933257e+00,  5.41370538e-01,\n",
       "        -2.96771630e-01],\n",
       "       [-2.91198709e-01,  2.74294885e-01,  3.92561763e-01,\n",
       "         2.92590971e-01],\n",
       "       [ 1.80959198e+00, -2.78366997e-01,  7.89432691e-02,\n",
       "         2.50254905e-01],\n",
       "       [ 1.48501667e-01, -5.35419035e-01,  2.66154309e-01,\n",
       "         6.14567893e-01],\n",
       "       [ 9.79046821e-01, -1.88398784e-01, -4.37087161e-01,\n",
       "        -3.48020552e-01],\n",
       "       [-4.13337702e-01,  5.05641720e-01, -3.62635246e-02,\n",
       "        -2.21012354e-01],\n",
       "       [-9.75177071e-01, -5.20733983e+00, -2.35640034e+00,\n",
       "        -2.40131975e+00],\n",
       "       [ 2.76227612e+00,  1.97179274e-01, -3.70683245e-01,\n",
       "        -4.27122149e-01],\n",
       "       [-5.11048896e-01,  3.00000089e-01,  9.27793326e-01,\n",
       "         8.00623762e-01],\n",
       "       [-7.30899084e-01,  6.79151846e-01,  1.07580205e+00,\n",
       "         7.29320914e-01],\n",
       "       [ 4.66063049e-01, -4.13319317e-01, -1.16268242e-01,\n",
       "         1.06535103e-01],\n",
       "       [-7.30899084e-01, -6.18960948e-01,  1.07744968e-01,\n",
       "         4.84217375e-01],\n",
       "       [ 9.79046821e-01, -5.16140132e-01,  9.97444958e-02,\n",
       "         4.10686313e-01],\n",
       "       [-9.01893675e-01,  7.88398962e-01,  6.30175775e-01,\n",
       "         2.72537045e-01],\n",
       "       [-9.75177071e-01,  5.76331031e-01, -2.35640034e+00,\n",
       "        -2.40131975e+00],\n",
       "       [-4.86621098e-01, -1.30562075e-01, -6.76301267e-01,\n",
       "        -6.24319087e-01],\n",
       "       [-2.66770910e-01, -2.03605575e-03,  1.48547374e-01,\n",
       "         1.84522593e-01],\n",
       "       [-1.44631917e-01, -9.84305701e-02,  8.37435522e-02,\n",
       "         1.64468667e-01],\n",
       "       [-3.88909903e-01, -7.92471074e-01,  1.40546902e-01,\n",
       "         6.34621819e-01],\n",
       "       [-8.77465876e-01, -3.29777405e-01, -7.36304806e-01,\n",
       "        -6.18748552e-01],\n",
       "       [-8.04182480e-01,  2.16458177e-01,  1.32381668e+00,\n",
       "         1.24292424e+00],\n",
       "       [ 2.12715336e+00, -8.50307782e-01, -3.73883434e-01,\n",
       "         4.19168969e-02],\n",
       "       [-7.06471286e-01, -9.98112704e-01, -1.46622508e-02,\n",
       "         5.86715219e-01],\n",
       "       [ 4.66063049e-01, -1.24135774e-01, -1.73071592e-01,\n",
       "        -9.40041567e-02],\n",
       "       [ 2.68899273e+00, -6.76797656e-01, -2.40275555e-01,\n",
       "         1.04306889e-01],\n",
       "       [ 1.48501667e-01, -6.25387249e-01, -6.49899711e-01,\n",
       "        -4.03725902e-01],\n",
       "       [-5.11048896e-01,  2.03605575e-01, -8.66664968e-02,\n",
       "        -1.49709507e-01],\n",
       "       [-5.59904494e-01,  1.13637362e-01,  1.29581503e+00,\n",
       "         1.28191798e+00],\n",
       "       [-6.57615688e-01,  1.00784760e-01,  1.10220361e+00,\n",
       "         1.09474801e+00],\n",
       "       [-1.44631917e-01, -1.49840978e-01, -1.46670035e-01,\n",
       "        -5.50104118e-02],\n",
       "       [ 1.68745298e+00, -4.39024521e-01, -4.57888388e-01,\n",
       "        -2.63348420e-01],\n",
       "       [ 1.97357264e-01, -1.62693580e-01, -4.17886029e-01,\n",
       "        -3.37993589e-01],\n",
       "       [ 5.14918647e-01,  8.79321577e-02, -9.08314949e-01,\n",
       "        -9.32926726e-01],\n",
       "       [-9.01893675e-01,  1.19325592e+00,  4.01757553e+00,\n",
       "         2.94639384e+00],\n",
       "       [-5.35476695e-01,  1.77900371e-01, -3.87484236e-01,\n",
       "        -4.39377326e-01],\n",
       "       [ 2.83555952e+00, -1.49840978e-01, -1.69871403e-01,\n",
       "        -8.06348728e-02],\n",
       "       [ 2.93327071e+00, -4.90434929e-01, -4.22686312e-01,\n",
       "        -1.99844321e-01],\n",
       "       [ 1.12561361e+00,  1.00784760e-01, -9.94672517e-02,\n",
       "        -1.17400404e-01],\n",
       "       [-2.24929235e-02,  6.27741438e-01, -1.33069233e-01,\n",
       "        -3.55819301e-01],\n",
       "       [ 1.24073868e-01, -3.04072201e-01, -9.70671102e-02,\n",
       "         7.42259998e-02],\n",
       "       [ 2.39585914e+00, -7.92471074e-01, -2.11473857e-01,\n",
       "         2.06804732e-01],\n",
       "       [-3.64482105e-01,  7.30562254e-01, -5.13091643e-01,\n",
       "        -7.34615680e-01],\n",
       "       [ 1.93487514e-03,  2.35737080e-01, -6.12297493e-01,\n",
       "        -6.80024437e-01],\n",
       "       [ 1.48501667e-01,  4.09247206e-01, -9.86196770e-03,\n",
       "        -1.58622363e-01],\n",
       "       [ 1.48501667e-01,  4.09247206e-01, -9.86196770e-03,\n",
       "        -1.58622363e-01],\n",
       "       [ 1.93487514e-03,  1.13637362e-01,  1.15745439e-01,\n",
       "         9.42799258e-02],\n",
       "       [ 7.59196633e-01,  1.08165462e-02,  5.78172709e-01,\n",
       "         6.19024321e-01],\n",
       "       [ 1.00347462e+00,  4.67083914e-01,  3.41406271e-02,\n",
       "        -1.39682544e-01],\n",
       "       [-5.84332292e-01,  2.80721186e-01, -2.21074423e-01,\n",
       "        -3.12369128e-01],\n",
       "       [ 1.68745298e+00, -2.46235492e-01, -4.13885793e-01,\n",
       "        -2.98999844e-01],\n",
       "       [ 1.93173097e+00,  2.61442284e-01,  5.01415707e-02,\n",
       "        -4.05270209e-02],\n",
       "       [ 8.56907828e-01, -1.19090173e+00, -7.17103674e-01,\n",
       "        -2.08757177e-01],\n",
       "       [-2.42343111e-01, -4.06893016e-01, -2.25874706e-01,\n",
       "        -1.71307739e-02],\n",
       "       [ 9.79046821e-01, -1.75546182e-01, -6.69100843e-01,\n",
       "        -6.02036947e-01],\n",
       "       [-7.79754682e-01,  1.00689319e+00,  1.12380488e+00,\n",
       "         6.06769144e-01],\n",
       "       [ 1.48501667e-01,  5.24920623e-01, -2.58629113e-02,\n",
       "        -2.18784140e-01],\n",
       "       [ 2.63626738e-02, -2.46235492e-01, -5.51493908e-01,\n",
       "        -4.47176075e-01],\n",
       "       [-8.53038078e-01,  4.99215419e-01,  1.33981762e+00,\n",
       "         1.07469408e+00],\n",
       "       [ 2.34700355e+00, -5.54697938e-01, -4.42687491e-01,\n",
       "        -1.92045572e-01],\n",
       "       [-6.82043487e-01, -4.71156026e-01,  1.50147468e-01,\n",
       "         4.39653095e-01],\n",
       "       [-4.62193299e-01,  7.88398962e-01, -6.26650815e-02,\n",
       "        -3.48020552e-01],\n",
       "       [ 4.90490848e-01,  5.05641720e-01,  3.19757470e-01,\n",
       "         1.13219745e-01],\n",
       "       [-5.35476695e-01, -6.38239851e-01, -6.18697871e-01,\n",
       "        -3.59161622e-01],\n",
       "       [-6.33187890e-01,  5.31346924e-01,  3.98162093e-01,\n",
       "         1.76723844e-01],\n",
       "       [ 5.63774244e-01,  2.74294885e-01, -3.53882254e-01,\n",
       "        -4.40491433e-01],\n",
       "       [-7.55326883e-01,  9.74761690e-01,  9.06192052e-01,\n",
       "         4.32968453e-01],\n",
       "       [-5.59904494e-01,  8.79321577e-02,  2.93355913e-01,\n",
       "         2.85906329e-01],\n",
       "       [ 1.98058657e+00, -2.78366997e-01, -5.56294191e-01,\n",
       "        -4.40491433e-01],\n",
       "       [-8.77465876e-01,  1.10971401e+00,  1.18380842e+00,\n",
       "         6.06769144e-01],\n",
       "       [ 1.72929466e-01, -3.61908909e-01,  6.18975115e-01,\n",
       "         8.96436964e-01],\n",
       "       [-8.28610279e-01, -9.85260103e-01,  1.49742692e+00,\n",
       "         2.50075104e+00],\n",
       "       [ 2.70640660e-01,  3.51410497e-01, -8.34663081e-02,\n",
       "        -2.05414856e-01],\n",
       "       [-5.35476695e-01,  7.88398962e-01,  1.20380960e+00,\n",
       "         7.86140371e-01],\n",
       "       [-4.62193299e-01, -2.33382890e-01, -9.46717214e-01,\n",
       "        -8.78335483e-01],\n",
       "       [-3.64482105e-01, -2.20530288e-01,  1.52547610e-01,\n",
       "         2.99275613e-01],\n",
       "       [-3.88909903e-01, -3.81187812e-01, -7.30656948e-02,\n",
       "         1.37730099e-01],\n",
       "       [-9.50749272e-01, -1.09450722e+00,  2.76390160e+00,\n",
       "         4.28332224e+00],\n",
       "       [-5.35476695e-01,  6.22269538e-02,  3.94961905e-01,\n",
       "         4.02887564e-01],\n",
       "       [-9.50749272e-01, -1.67287431e+00, -1.47634845e+00,\n",
       "        -1.06439135e+00],\n",
       "       [-9.01893675e-01,  2.82553637e+00, -3.56282396e-01,\n",
       "        -1.06439135e+00],\n",
       "       [-9.75177071e-01, -5.20733983e+00, -2.35640034e+00,\n",
       "        -2.40131975e+00],\n",
       "       [-4.86621098e-01, -2.65514395e-01, -1.06432415e+00,\n",
       "        -9.97544931e-01],\n",
       "       [-9.26321473e-01, -4.96861230e-01, -5.96296550e-01,\n",
       "        -3.95927153e-01],\n",
       "       [-9.75177071e-01,  8.97646079e-01, -2.35640034e+00,\n",
       "        -2.40131975e+00],\n",
       "       [-3.15626507e-01,  5.31346924e-01, -6.76301267e-01,\n",
       "        -8.29314775e-01],\n",
       "       [-9.75177071e-01,  5.76331031e-01, -2.35640034e+00,\n",
       "        -2.40131975e+00],\n",
       "       [-7.06471286e-01,  2.61442284e-01,  7.27781531e-01,\n",
       "         6.26823070e-01],\n",
       "       [-9.75177071e-01,  1.14827182e+00, -2.35640034e+00,\n",
       "        -2.40131975e+00],\n",
       "       [-9.26321473e-01, -1.11283172e-01,  2.40388037e+00,\n",
       "         2.61216174e+00],\n",
       "       [-8.53038078e-01,  1.19968222e+00,  2.42788179e+00,\n",
       "         1.60946544e+00],\n",
       "       [-6.82043487e-01,  8.26956768e-01, -1.76271781e-01,\n",
       "        -4.60545359e-01]])"
      ]
     },
     "execution_count": 29,
     "metadata": {},
     "output_type": "execute_result"
    }
   ],
   "source": [
    "X_train_1 ### scaled dataset"
   ]
  },
  {
   "cell_type": "markdown",
   "id": "d8d4deb8",
   "metadata": {},
   "source": [
    "# Beta Values or Eigen Vector \n",
    "Z1 = Beta1*x1+Beta2*X2 + beta3*X3 + ..... + beta13*X13"
   ]
  },
  {
   "cell_type": "code",
   "execution_count": 30,
   "id": "a5267fbf",
   "metadata": {},
   "outputs": [
    {
     "data": {
      "text/plain": [
       "array([[-0.15617415,  0.3191562 ,  0.6791614 ,  0.64225287],\n",
       "       [ 0.85134927, -0.42323865,  0.12748976,  0.28252403]])"
      ]
     },
     "execution_count": 30,
     "metadata": {},
     "output_type": "execute_result"
    }
   ],
   "source": [
    "principalComponents.components_   ##  BETA VALUES  Z1 , Z2 "
   ]
  },
  {
   "cell_type": "markdown",
   "id": "f0b70ca5",
   "metadata": {},
   "source": [
    "### Renaming the Columns  \n",
    "\n",
    "* Prediction for data to get data reduction "
   ]
  },
  {
   "cell_type": "code",
   "execution_count": 31,
   "id": "c5eeb984",
   "metadata": {},
   "outputs": [
    {
     "data": {
      "text/plain": [
       "array([[-5.59904494e-01,  1.09043511e+00,  9.09392241e-01,\n",
       "         3.83947745e-01],\n",
       "       [-8.28610279e-01, -7.08929161e-01, -3.96284755e-01,\n",
       "        -6.16950538e-02],\n",
       "       [-3.88909903e-01, -6.25387249e-01, -8.98666856e-02,\n",
       "         2.53597226e-01],\n",
       "       [ 5.07904724e-02,  6.21315137e-01,  1.44547138e-01,\n",
       "        -9.62323707e-02],\n",
       "       [ 4.90490848e-01,  4.99215419e-01,  2.57353790e-01,\n",
       "         5.86285019e-02],\n",
       "       [ 5.14918647e-01,  5.50625827e-01, -1.09867865e-01,\n",
       "        -3.06798593e-01],\n",
       "       [-8.28610279e-01,  2.10031876e-01,  6.97379738e-01,\n",
       "         6.25708963e-01],\n",
       "       [-4.69207222e-02,  1.84326672e-01,  2.62954120e-01,\n",
       "         2.07918839e-01],\n",
       "       [-2.91198709e-01,  8.20530467e-01,  7.81432219e-02,\n",
       "        -2.33267531e-01],\n",
       "       [-6.82043487e-01,  4.47805011e-01,  2.83755347e-01,\n",
       "         1.05420996e-01],\n",
       "       [-7.55326883e-01,  2.18933257e+00,  5.41370538e-01,\n",
       "        -2.96771630e-01],\n",
       "       [-2.91198709e-01,  2.74294885e-01,  3.92561763e-01,\n",
       "         2.92590971e-01],\n",
       "       [ 1.80959198e+00, -2.78366997e-01,  7.89432691e-02,\n",
       "         2.50254905e-01],\n",
       "       [ 1.48501667e-01, -5.35419035e-01,  2.66154309e-01,\n",
       "         6.14567893e-01],\n",
       "       [ 9.79046821e-01, -1.88398784e-01, -4.37087161e-01,\n",
       "        -3.48020552e-01],\n",
       "       [-4.13337702e-01,  5.05641720e-01, -3.62635246e-02,\n",
       "        -2.21012354e-01],\n",
       "       [-9.75177071e-01, -5.20733983e+00, -2.35640034e+00,\n",
       "        -2.40131975e+00],\n",
       "       [ 2.76227612e+00,  1.97179274e-01, -3.70683245e-01,\n",
       "        -4.27122149e-01],\n",
       "       [-5.11048896e-01,  3.00000089e-01,  9.27793326e-01,\n",
       "         8.00623762e-01],\n",
       "       [-7.30899084e-01,  6.79151846e-01,  1.07580205e+00,\n",
       "         7.29320914e-01],\n",
       "       [ 4.66063049e-01, -4.13319317e-01, -1.16268242e-01,\n",
       "         1.06535103e-01],\n",
       "       [-7.30899084e-01, -6.18960948e-01,  1.07744968e-01,\n",
       "         4.84217375e-01],\n",
       "       [ 9.79046821e-01, -5.16140132e-01,  9.97444958e-02,\n",
       "         4.10686313e-01],\n",
       "       [-9.01893675e-01,  7.88398962e-01,  6.30175775e-01,\n",
       "         2.72537045e-01],\n",
       "       [-9.75177071e-01,  5.76331031e-01, -2.35640034e+00,\n",
       "        -2.40131975e+00],\n",
       "       [-4.86621098e-01, -1.30562075e-01, -6.76301267e-01,\n",
       "        -6.24319087e-01],\n",
       "       [-2.66770910e-01, -2.03605575e-03,  1.48547374e-01,\n",
       "         1.84522593e-01],\n",
       "       [-1.44631917e-01, -9.84305701e-02,  8.37435522e-02,\n",
       "         1.64468667e-01],\n",
       "       [-3.88909903e-01, -7.92471074e-01,  1.40546902e-01,\n",
       "         6.34621819e-01],\n",
       "       [-8.77465876e-01, -3.29777405e-01, -7.36304806e-01,\n",
       "        -6.18748552e-01],\n",
       "       [-8.04182480e-01,  2.16458177e-01,  1.32381668e+00,\n",
       "         1.24292424e+00],\n",
       "       [ 2.12715336e+00, -8.50307782e-01, -3.73883434e-01,\n",
       "         4.19168969e-02],\n",
       "       [-7.06471286e-01, -9.98112704e-01, -1.46622508e-02,\n",
       "         5.86715219e-01],\n",
       "       [ 4.66063049e-01, -1.24135774e-01, -1.73071592e-01,\n",
       "        -9.40041567e-02],\n",
       "       [ 2.68899273e+00, -6.76797656e-01, -2.40275555e-01,\n",
       "         1.04306889e-01],\n",
       "       [ 1.48501667e-01, -6.25387249e-01, -6.49899711e-01,\n",
       "        -4.03725902e-01],\n",
       "       [-5.11048896e-01,  2.03605575e-01, -8.66664968e-02,\n",
       "        -1.49709507e-01],\n",
       "       [-5.59904494e-01,  1.13637362e-01,  1.29581503e+00,\n",
       "         1.28191798e+00],\n",
       "       [-6.57615688e-01,  1.00784760e-01,  1.10220361e+00,\n",
       "         1.09474801e+00],\n",
       "       [-1.44631917e-01, -1.49840978e-01, -1.46670035e-01,\n",
       "        -5.50104118e-02],\n",
       "       [ 1.68745298e+00, -4.39024521e-01, -4.57888388e-01,\n",
       "        -2.63348420e-01],\n",
       "       [ 1.97357264e-01, -1.62693580e-01, -4.17886029e-01,\n",
       "        -3.37993589e-01],\n",
       "       [ 5.14918647e-01,  8.79321577e-02, -9.08314949e-01,\n",
       "        -9.32926726e-01],\n",
       "       [-9.01893675e-01,  1.19325592e+00,  4.01757553e+00,\n",
       "         2.94639384e+00],\n",
       "       [-5.35476695e-01,  1.77900371e-01, -3.87484236e-01,\n",
       "        -4.39377326e-01],\n",
       "       [ 2.83555952e+00, -1.49840978e-01, -1.69871403e-01,\n",
       "        -8.06348728e-02],\n",
       "       [ 2.93327071e+00, -4.90434929e-01, -4.22686312e-01,\n",
       "        -1.99844321e-01],\n",
       "       [ 1.12561361e+00,  1.00784760e-01, -9.94672517e-02,\n",
       "        -1.17400404e-01],\n",
       "       [-2.24929235e-02,  6.27741438e-01, -1.33069233e-01,\n",
       "        -3.55819301e-01],\n",
       "       [ 1.24073868e-01, -3.04072201e-01, -9.70671102e-02,\n",
       "         7.42259998e-02],\n",
       "       [ 2.39585914e+00, -7.92471074e-01, -2.11473857e-01,\n",
       "         2.06804732e-01],\n",
       "       [-3.64482105e-01,  7.30562254e-01, -5.13091643e-01,\n",
       "        -7.34615680e-01],\n",
       "       [ 1.93487514e-03,  2.35737080e-01, -6.12297493e-01,\n",
       "        -6.80024437e-01],\n",
       "       [ 1.48501667e-01,  4.09247206e-01, -9.86196770e-03,\n",
       "        -1.58622363e-01],\n",
       "       [ 1.48501667e-01,  4.09247206e-01, -9.86196770e-03,\n",
       "        -1.58622363e-01],\n",
       "       [ 1.93487514e-03,  1.13637362e-01,  1.15745439e-01,\n",
       "         9.42799258e-02],\n",
       "       [ 7.59196633e-01,  1.08165462e-02,  5.78172709e-01,\n",
       "         6.19024321e-01],\n",
       "       [ 1.00347462e+00,  4.67083914e-01,  3.41406271e-02,\n",
       "        -1.39682544e-01],\n",
       "       [-5.84332292e-01,  2.80721186e-01, -2.21074423e-01,\n",
       "        -3.12369128e-01],\n",
       "       [ 1.68745298e+00, -2.46235492e-01, -4.13885793e-01,\n",
       "        -2.98999844e-01],\n",
       "       [ 1.93173097e+00,  2.61442284e-01,  5.01415707e-02,\n",
       "        -4.05270209e-02],\n",
       "       [ 8.56907828e-01, -1.19090173e+00, -7.17103674e-01,\n",
       "        -2.08757177e-01],\n",
       "       [-2.42343111e-01, -4.06893016e-01, -2.25874706e-01,\n",
       "        -1.71307739e-02],\n",
       "       [ 9.79046821e-01, -1.75546182e-01, -6.69100843e-01,\n",
       "        -6.02036947e-01],\n",
       "       [-7.79754682e-01,  1.00689319e+00,  1.12380488e+00,\n",
       "         6.06769144e-01],\n",
       "       [ 1.48501667e-01,  5.24920623e-01, -2.58629113e-02,\n",
       "        -2.18784140e-01],\n",
       "       [ 2.63626738e-02, -2.46235492e-01, -5.51493908e-01,\n",
       "        -4.47176075e-01],\n",
       "       [-8.53038078e-01,  4.99215419e-01,  1.33981762e+00,\n",
       "         1.07469408e+00],\n",
       "       [ 2.34700355e+00, -5.54697938e-01, -4.42687491e-01,\n",
       "        -1.92045572e-01],\n",
       "       [-6.82043487e-01, -4.71156026e-01,  1.50147468e-01,\n",
       "         4.39653095e-01],\n",
       "       [-4.62193299e-01,  7.88398962e-01, -6.26650815e-02,\n",
       "        -3.48020552e-01],\n",
       "       [ 4.90490848e-01,  5.05641720e-01,  3.19757470e-01,\n",
       "         1.13219745e-01],\n",
       "       [-5.35476695e-01, -6.38239851e-01, -6.18697871e-01,\n",
       "        -3.59161622e-01],\n",
       "       [-6.33187890e-01,  5.31346924e-01,  3.98162093e-01,\n",
       "         1.76723844e-01],\n",
       "       [ 5.63774244e-01,  2.74294885e-01, -3.53882254e-01,\n",
       "        -4.40491433e-01],\n",
       "       [-7.55326883e-01,  9.74761690e-01,  9.06192052e-01,\n",
       "         4.32968453e-01],\n",
       "       [-5.59904494e-01,  8.79321577e-02,  2.93355913e-01,\n",
       "         2.85906329e-01],\n",
       "       [ 1.98058657e+00, -2.78366997e-01, -5.56294191e-01,\n",
       "        -4.40491433e-01],\n",
       "       [-8.77465876e-01,  1.10971401e+00,  1.18380842e+00,\n",
       "         6.06769144e-01],\n",
       "       [ 1.72929466e-01, -3.61908909e-01,  6.18975115e-01,\n",
       "         8.96436964e-01],\n",
       "       [-8.28610279e-01, -9.85260103e-01,  1.49742692e+00,\n",
       "         2.50075104e+00],\n",
       "       [ 2.70640660e-01,  3.51410497e-01, -8.34663081e-02,\n",
       "        -2.05414856e-01],\n",
       "       [-5.35476695e-01,  7.88398962e-01,  1.20380960e+00,\n",
       "         7.86140371e-01],\n",
       "       [-4.62193299e-01, -2.33382890e-01, -9.46717214e-01,\n",
       "        -8.78335483e-01],\n",
       "       [-3.64482105e-01, -2.20530288e-01,  1.52547610e-01,\n",
       "         2.99275613e-01],\n",
       "       [-3.88909903e-01, -3.81187812e-01, -7.30656948e-02,\n",
       "         1.37730099e-01],\n",
       "       [-9.50749272e-01, -1.09450722e+00,  2.76390160e+00,\n",
       "         4.28332224e+00],\n",
       "       [-5.35476695e-01,  6.22269538e-02,  3.94961905e-01,\n",
       "         4.02887564e-01],\n",
       "       [-9.50749272e-01, -1.67287431e+00, -1.47634845e+00,\n",
       "        -1.06439135e+00],\n",
       "       [-9.01893675e-01,  2.82553637e+00, -3.56282396e-01,\n",
       "        -1.06439135e+00],\n",
       "       [-9.75177071e-01, -5.20733983e+00, -2.35640034e+00,\n",
       "        -2.40131975e+00],\n",
       "       [-4.86621098e-01, -2.65514395e-01, -1.06432415e+00,\n",
       "        -9.97544931e-01],\n",
       "       [-9.26321473e-01, -4.96861230e-01, -5.96296550e-01,\n",
       "        -3.95927153e-01],\n",
       "       [-9.75177071e-01,  8.97646079e-01, -2.35640034e+00,\n",
       "        -2.40131975e+00],\n",
       "       [-3.15626507e-01,  5.31346924e-01, -6.76301267e-01,\n",
       "        -8.29314775e-01],\n",
       "       [-9.75177071e-01,  5.76331031e-01, -2.35640034e+00,\n",
       "        -2.40131975e+00],\n",
       "       [-7.06471286e-01,  2.61442284e-01,  7.27781531e-01,\n",
       "         6.26823070e-01],\n",
       "       [-9.75177071e-01,  1.14827182e+00, -2.35640034e+00,\n",
       "        -2.40131975e+00],\n",
       "       [-9.26321473e-01, -1.11283172e-01,  2.40388037e+00,\n",
       "         2.61216174e+00],\n",
       "       [-8.53038078e-01,  1.19968222e+00,  2.42788179e+00,\n",
       "         1.60946544e+00],\n",
       "       [-6.82043487e-01,  8.26956768e-01, -1.76271781e-01,\n",
       "        -4.60545359e-01]])"
      ]
     },
     "execution_count": 31,
     "metadata": {},
     "output_type": "execute_result"
    }
   ],
   "source": [
    "X_train_1  # scaled data"
   ]
  },
  {
   "cell_type": "code",
   "execution_count": 32,
   "id": "6eed5a23",
   "metadata": {},
   "outputs": [
    {
     "data": {
      "text/plain": [
       "array([[ 1.29967738e+00, -7.13775912e-01],\n",
       "       [-4.05616769e-01, -4.73343112e-01],\n",
       "       [-3.70189838e-02, -6.21987600e-03],\n",
       "       [ 2.26729741e-01, -2.28483829e-01],\n",
       "       [ 2.95164791e-01,  2.55665695e-01],\n",
       "       [-1.76341623e-01,  1.04644478e-01],\n",
       "       [ 1.07193726e+00, -5.28643776e-01],\n",
       "       [ 3.78281564e-01, -2.56940711e-02],\n",
       "       [ 2.10610216e-01, -6.51133241e-01],\n",
       "       [ 5.09859922e-01, -7.04225751e-01],\n",
       "       [ 9.93777140e-01, -1.58448308e+00],\n",
       "       [ 5.87550811e-01, -2.31292424e-01],\n",
       "       [-1.57111884e-01,  1.73917796e+00],\n",
       "       [ 3.81395299e-01,  5.60598962e-01],\n",
       "       [-7.33400368e-01,  7.59200140e-01],\n",
       "       [ 5.93567489e-02, -6.32966400e-01],\n",
       "       [-4.65228801e+00,  3.94883793e-01],\n",
       "       [-8.94539306e-01,  2.10027728e+00],\n",
       "       [ 1.31988384e+00, -2.17573146e-01],\n",
       "       [ 1.52995474e+00, -5.66489293e-01],\n",
       "       [-2.15242849e-01,  5.86990865e-01],\n",
       "       [ 3.00768538e-01, -2.09742780e-01],\n",
       "       [ 1.38759483e-02,  1.18070640e+00],\n",
       "       [ 9.95503654e-01, -9.44168218e-01],\n",
       "       [-2.80639358e+00, -2.05298928e+00],\n",
       "       [-8.25960501e-01, -6.21632224e-01],\n",
       "       [ 2.60410706e-01, -1.55183148e-01],\n",
       "       [ 1.53678901e-01, -2.43298596e-02],\n",
       "       [ 3.10857330e-01,  2.01520431e-01],\n",
       "       [-8.65675855e-01, -8.76138039e-01],\n",
       "       [ 1.89203333e+00, -2.56324609e-01],\n",
       "       [-8.30593312e-01,  2.13500980e+00],\n",
       "       [ 1.58640189e-01, -1.51220748e-02],\n",
       "       [-2.90323685e-01,  4.00698207e-01],\n",
       "       [-7.32149798e-01,  2.57455545e+00],\n",
       "       [-9.23469256e-01,  1.94197021e-01],\n",
       "       [-1.02172920e-02, -5.74600477e-01],\n",
       "       [ 1.82709373e+00,  2.60576611e-03],\n",
       "       [ 1.58654785e+00, -1.52704357e-01],\n",
       "       [-1.60178132e-01, -9.39544726e-02],\n",
       "       [-8.83770325e-01,  1.48964568e+00],\n",
       "       [-5.83636180e-01,  8.81106773e-02],\n",
       "       [-1.26842021e+00,  2.17842597e-02],\n",
       "       [ 5.14259962e+00,  7.17682196e-02],\n",
       "       [-4.04950061e-01, -7.04706928e-01],\n",
       "       [-6.57821844e-01,  2.43303186e+00],\n",
       "       [-1.03004922e+00,  2.59445990e+00],\n",
       "       [-2.86580729e-01,  8.69784830e-01],\n",
       "       [-1.15041067e-01, -4.02326242e-01],\n",
       "       [-1.34676032e-01,  2.42920873e-01],\n",
       "       [-6.37897263e-01,  2.40658388e+00],\n",
       "       [-5.30194911e-01, -8.92464267e-01],\n",
       "       [-7.77661695e-01, -3.68310690e-01],\n",
       "       [-1.15187274e-03, -9.28543796e-02],\n",
       "       [-1.15187274e-03, -9.28543796e-02],\n",
       "       [ 1.75127279e-01, -5.05576750e-03],\n",
       "       [ 6.75128014e-01,  8.90363859e-01],\n",
       "       [-7.41685831e-02,  6.21508322e-01],\n",
       "       [-1.69913678e-01, -7.32719435e-01],\n",
       "       [-8.15252876e-01,  1.40358740e+00],\n",
       "       [-2.10219886e-01,  1.52886795e+00],\n",
       "       [-1.13501455e+00,  1.08316121e+00],\n",
       "       [-2.56422371e-01, -6.77423440e-02],\n",
       "       [-1.05001588e+00,  6.52415320e-01],\n",
       "       [ 1.59607785e+00, -7.75299228e-01],\n",
       "       [-1.37402819e-02, -1.60848945e-01],\n",
       "       [-7.44458244e-01, -6.99875870e-02],\n",
       "       [ 1.89272796e+00, -4.63080686e-01],\n",
       "       [-9.67574639e-01,  2.12219375e+00],\n",
       "       [ 3.40488019e-01, -2.37890955e-01],\n",
       "       [ 5.77281598e-02, -8.33482167e-01],\n",
       "       [ 3.74659338e-01,  2.76325003e-01],\n",
       "       [-7.70938884e-01, -3.66099345e-01],\n",
       "       [ 6.52387964e-01, -6.63260285e-01],\n",
       "       [-5.23754102e-01,  1.94310817e-01],\n",
       "       [ 1.32258966e+00, -8.17749623e-01],\n",
       "       [ 4.98366873e-01, -3.95715289e-01],\n",
       "       [-1.05887940e+00,  1.60861537e+00],\n",
       "       [ 1.68490580e+00, -8.94353489e-01],\n",
       "       [ 8.53610633e-01,  6.32575181e-01],\n",
       "       [ 2.43806472e+00,  6.08992250e-01],\n",
       "       [-1.18727610e-01,  1.30034906e-02],\n",
       "       [ 1.65773196e+00, -4.13981675e-01],\n",
       "       [-1.20939022e+00, -6.63558890e-01],\n",
       "       [ 2.82354142e-01, -1.12963822e-01],\n",
       "       [-2.20866302e-02, -1.40167810e-01],\n",
       "       [ 4.42727497e+00,  1.21632865e+00],\n",
       "       [ 6.30486308e-01, -3.18035532e-01],\n",
       "       [-2.07171303e+00, -5.90330060e-01],\n",
       "       [ 1.17058281e-01, -2.30984122e+00],\n",
       "       [-4.65228801e+00,  3.94883793e-01],\n",
       "       [-1.37226690e+00, -7.19429396e-01],\n",
       "       [-6.73175826e-01, -7.66212865e-01],\n",
       "       [-2.70384389e+00, -2.18898223e+00],\n",
       "       [-7.73072142e-01, -8.14117786e-01],\n",
       "       [-2.80639358e+00, -2.05298928e+00],\n",
       "       [ 1.09063351e+00, -4.42229026e-01],\n",
       "       [-2.62385513e+00, -2.29505673e+00],\n",
       "       [ 3.41944188e+00,  3.02944804e-01],\n",
       "       [ 3.19871590e+00, -4.69742522e-01],\n",
       "       [-4.50576266e-02, -1.08324527e+00]])"
      ]
     },
     "execution_count": 32,
     "metadata": {},
     "output_type": "execute_result"
    }
   ],
   "source": [
    "transformed_data=principalComponents.fit_transform(X_train_1)  ### only give data which is transformed ( principal component)\n",
    "transformed_data"
   ]
  },
  {
   "cell_type": "code",
   "execution_count": 33,
   "id": "b09c2d4a",
   "metadata": {},
   "outputs": [
    {
     "name": "stdout",
     "output_type": "stream",
     "text": [
      "original shape:    (101, 4)\n",
      "transformed shape: (101, 2)\n"
     ]
    }
   ],
   "source": [
    "print(\"original shape:   \", X_train_1.shape)\n",
    "print(\"transformed shape:\", transformed_data.shape)"
   ]
  },
  {
   "cell_type": "code",
   "execution_count": 34,
   "id": "a6857fcc",
   "metadata": {},
   "outputs": [
    {
     "data": {
      "text/html": [
       "<div>\n",
       "<style scoped>\n",
       "    .dataframe tbody tr th:only-of-type {\n",
       "        vertical-align: middle;\n",
       "    }\n",
       "\n",
       "    .dataframe tbody tr th {\n",
       "        vertical-align: top;\n",
       "    }\n",
       "\n",
       "    .dataframe thead th {\n",
       "        text-align: right;\n",
       "    }\n",
       "</style>\n",
       "<table border=\"1\" class=\"dataframe\">\n",
       "  <thead>\n",
       "    <tr style=\"text-align: right;\">\n",
       "      <th></th>\n",
       "      <th>Data PC1</th>\n",
       "      <th>Data PC2</th>\n",
       "    </tr>\n",
       "  </thead>\n",
       "  <tbody>\n",
       "    <tr>\n",
       "      <th>0</th>\n",
       "      <td>1.299677</td>\n",
       "      <td>-0.713776</td>\n",
       "    </tr>\n",
       "    <tr>\n",
       "      <th>1</th>\n",
       "      <td>-0.405617</td>\n",
       "      <td>-0.473343</td>\n",
       "    </tr>\n",
       "    <tr>\n",
       "      <th>2</th>\n",
       "      <td>-0.037019</td>\n",
       "      <td>-0.006220</td>\n",
       "    </tr>\n",
       "    <tr>\n",
       "      <th>3</th>\n",
       "      <td>0.226730</td>\n",
       "      <td>-0.228484</td>\n",
       "    </tr>\n",
       "    <tr>\n",
       "      <th>4</th>\n",
       "      <td>0.295165</td>\n",
       "      <td>0.255666</td>\n",
       "    </tr>\n",
       "  </tbody>\n",
       "</table>\n",
       "</div>"
      ],
      "text/plain": [
       "   Data PC1  Data PC2\n",
       "0  1.299677 -0.713776\n",
       "1 -0.405617 -0.473343\n",
       "2 -0.037019 -0.006220\n",
       "3  0.226730 -0.228484\n",
       "4  0.295165  0.255666"
      ]
     },
     "execution_count": 34,
     "metadata": {},
     "output_type": "execute_result"
    }
   ],
   "source": [
    "principalDf = pd.DataFrame(data = transformed_data\n",
    "             , columns = ['Data PC1', 'Data PC2'])\n",
    "principalDf.head()"
   ]
  },
  {
   "cell_type": "markdown",
   "id": "8e140399",
   "metadata": {},
   "source": [
    "# To check the Principal Component is uncorrelated / independent"
   ]
  },
  {
   "cell_type": "code",
   "execution_count": 35,
   "id": "2e6cd4f5",
   "metadata": {},
   "outputs": [
    {
     "data": {
      "text/html": [
       "<style type=\"text/css\">\n",
       "#T_6911a_row0_col0, #T_6911a_row1_col1 {\n",
       "  background-color: yellow;\n",
       "}\n",
       "</style>\n",
       "<table id=\"T_6911a\">\n",
       "  <thead>\n",
       "    <tr>\n",
       "      <th class=\"blank level0\" >&nbsp;</th>\n",
       "      <th id=\"T_6911a_level0_col0\" class=\"col_heading level0 col0\" >Data PC1</th>\n",
       "      <th id=\"T_6911a_level0_col1\" class=\"col_heading level0 col1\" >Data PC2</th>\n",
       "    </tr>\n",
       "  </thead>\n",
       "  <tbody>\n",
       "    <tr>\n",
       "      <th id=\"T_6911a_level0_row0\" class=\"row_heading level0 row0\" >Data PC1</th>\n",
       "      <td id=\"T_6911a_row0_col0\" class=\"data row0 col0\" >1.000000</td>\n",
       "      <td id=\"T_6911a_row0_col1\" class=\"data row0 col1\" >-0.000000</td>\n",
       "    </tr>\n",
       "    <tr>\n",
       "      <th id=\"T_6911a_level0_row1\" class=\"row_heading level0 row1\" >Data PC2</th>\n",
       "      <td id=\"T_6911a_row1_col0\" class=\"data row1 col0\" >-0.000000</td>\n",
       "      <td id=\"T_6911a_row1_col1\" class=\"data row1 col1\" >1.000000</td>\n",
       "    </tr>\n",
       "  </tbody>\n",
       "</table>\n"
      ],
      "text/plain": [
       "<pandas.io.formats.style.Styler at 0x1733672aee0>"
      ]
     },
     "execution_count": 35,
     "metadata": {},
     "output_type": "execute_result"
    }
   ],
   "source": [
    "Correlation=round(principalDf.corr(),3)\n",
    "Correlation.style.applymap(lambda x: 'background-color : yellow' if x > 0.7 else '')"
   ]
  },
  {
   "cell_type": "markdown",
   "id": "58a0e70b",
   "metadata": {},
   "source": [
    "## Identify variable is combining together in Which PCA "
   ]
  },
  {
   "cell_type": "code",
   "execution_count": 36,
   "id": "c500c55d",
   "metadata": {},
   "outputs": [
    {
     "data": {
      "text/html": [
       "<div>\n",
       "<style scoped>\n",
       "    .dataframe tbody tr th:only-of-type {\n",
       "        vertical-align: middle;\n",
       "    }\n",
       "\n",
       "    .dataframe tbody tr th {\n",
       "        vertical-align: top;\n",
       "    }\n",
       "\n",
       "    .dataframe thead th {\n",
       "        text-align: right;\n",
       "    }\n",
       "</style>\n",
       "<table border=\"1\" class=\"dataframe\">\n",
       "  <thead>\n",
       "    <tr style=\"text-align: right;\">\n",
       "      <th></th>\n",
       "      <th>Wickets</th>\n",
       "      <th>Economy</th>\n",
       "      <th>Bowling_Average</th>\n",
       "      <th>Bowling_strike_rate</th>\n",
       "    </tr>\n",
       "  </thead>\n",
       "  <tbody>\n",
       "    <tr>\n",
       "      <th>0</th>\n",
       "      <td>-0.559904</td>\n",
       "      <td>1.090435</td>\n",
       "      <td>0.909392</td>\n",
       "      <td>0.383948</td>\n",
       "    </tr>\n",
       "    <tr>\n",
       "      <th>1</th>\n",
       "      <td>-0.828610</td>\n",
       "      <td>-0.708929</td>\n",
       "      <td>-0.396285</td>\n",
       "      <td>-0.061695</td>\n",
       "    </tr>\n",
       "    <tr>\n",
       "      <th>2</th>\n",
       "      <td>-0.388910</td>\n",
       "      <td>-0.625387</td>\n",
       "      <td>-0.089867</td>\n",
       "      <td>0.253597</td>\n",
       "    </tr>\n",
       "    <tr>\n",
       "      <th>3</th>\n",
       "      <td>0.050790</td>\n",
       "      <td>0.621315</td>\n",
       "      <td>0.144547</td>\n",
       "      <td>-0.096232</td>\n",
       "    </tr>\n",
       "    <tr>\n",
       "      <th>4</th>\n",
       "      <td>0.490491</td>\n",
       "      <td>0.499215</td>\n",
       "      <td>0.257354</td>\n",
       "      <td>0.058629</td>\n",
       "    </tr>\n",
       "  </tbody>\n",
       "</table>\n",
       "</div>"
      ],
      "text/plain": [
       "    Wickets   Economy  Bowling_Average  Bowling_strike_rate\n",
       "0 -0.559904  1.090435         0.909392             0.383948\n",
       "1 -0.828610 -0.708929        -0.396285            -0.061695\n",
       "2 -0.388910 -0.625387        -0.089867             0.253597\n",
       "3  0.050790  0.621315         0.144547            -0.096232\n",
       "4  0.490491  0.499215         0.257354             0.058629"
      ]
     },
     "execution_count": 36,
     "metadata": {},
     "output_type": "execute_result"
    }
   ],
   "source": [
    "numeric_predictors_1=['Wickets','Economy','Bowling_Average','Bowling_strike_rate']\n",
    "scaled_train=pd.DataFrame(X_train_1,columns=numeric_predictors_1)\n",
    "scaled_train.head()"
   ]
  },
  {
   "cell_type": "code",
   "execution_count": 37,
   "id": "1949b58b",
   "metadata": {},
   "outputs": [
    {
     "data": {
      "text/html": [
       "<div>\n",
       "<style scoped>\n",
       "    .dataframe tbody tr th:only-of-type {\n",
       "        vertical-align: middle;\n",
       "    }\n",
       "\n",
       "    .dataframe tbody tr th {\n",
       "        vertical-align: top;\n",
       "    }\n",
       "\n",
       "    .dataframe thead th {\n",
       "        text-align: right;\n",
       "    }\n",
       "</style>\n",
       "<table border=\"1\" class=\"dataframe\">\n",
       "  <thead>\n",
       "    <tr style=\"text-align: right;\">\n",
       "      <th></th>\n",
       "      <th>Wickets</th>\n",
       "      <th>Economy</th>\n",
       "      <th>Bowling_Average</th>\n",
       "      <th>Bowling_strike_rate</th>\n",
       "      <th>Data PC1</th>\n",
       "      <th>Data PC2</th>\n",
       "    </tr>\n",
       "  </thead>\n",
       "  <tbody>\n",
       "    <tr>\n",
       "      <th>0</th>\n",
       "      <td>-0.559904</td>\n",
       "      <td>1.090435</td>\n",
       "      <td>0.909392</td>\n",
       "      <td>0.383948</td>\n",
       "      <td>1.299677</td>\n",
       "      <td>-0.713776</td>\n",
       "    </tr>\n",
       "    <tr>\n",
       "      <th>1</th>\n",
       "      <td>-0.828610</td>\n",
       "      <td>-0.708929</td>\n",
       "      <td>-0.396285</td>\n",
       "      <td>-0.061695</td>\n",
       "      <td>-0.405617</td>\n",
       "      <td>-0.473343</td>\n",
       "    </tr>\n",
       "    <tr>\n",
       "      <th>2</th>\n",
       "      <td>-0.388910</td>\n",
       "      <td>-0.625387</td>\n",
       "      <td>-0.089867</td>\n",
       "      <td>0.253597</td>\n",
       "      <td>-0.037019</td>\n",
       "      <td>-0.006220</td>\n",
       "    </tr>\n",
       "    <tr>\n",
       "      <th>3</th>\n",
       "      <td>0.050790</td>\n",
       "      <td>0.621315</td>\n",
       "      <td>0.144547</td>\n",
       "      <td>-0.096232</td>\n",
       "      <td>0.226730</td>\n",
       "      <td>-0.228484</td>\n",
       "    </tr>\n",
       "    <tr>\n",
       "      <th>4</th>\n",
       "      <td>0.490491</td>\n",
       "      <td>0.499215</td>\n",
       "      <td>0.257354</td>\n",
       "      <td>0.058629</td>\n",
       "      <td>0.295165</td>\n",
       "      <td>0.255666</td>\n",
       "    </tr>\n",
       "  </tbody>\n",
       "</table>\n",
       "</div>"
      ],
      "text/plain": [
       "    Wickets   Economy  Bowling_Average  Bowling_strike_rate  Data PC1  \\\n",
       "0 -0.559904  1.090435         0.909392             0.383948  1.299677   \n",
       "1 -0.828610 -0.708929        -0.396285            -0.061695 -0.405617   \n",
       "2 -0.388910 -0.625387        -0.089867             0.253597 -0.037019   \n",
       "3  0.050790  0.621315         0.144547            -0.096232  0.226730   \n",
       "4  0.490491  0.499215         0.257354             0.058629  0.295165   \n",
       "\n",
       "   Data PC2  \n",
       "0 -0.713776  \n",
       "1 -0.473343  \n",
       "2 -0.006220  \n",
       "3 -0.228484  \n",
       "4  0.255666  "
      ]
     },
     "execution_count": 37,
     "metadata": {},
     "output_type": "execute_result"
    }
   ],
   "source": [
    "final_data=pd.concat([scaled_train,principalDf],axis=1)\n",
    "final_data.head()"
   ]
  },
  {
   "cell_type": "code",
   "execution_count": 38,
   "id": "d28b8195",
   "metadata": {},
   "outputs": [
    {
     "data": {
      "text/html": [
       "<style type=\"text/css\">\n",
       "#T_44d17_row0_col1, #T_44d17_row2_col0, #T_44d17_row3_col0 {\n",
       "  background-color: yellow;\n",
       "}\n",
       "</style>\n",
       "<table id=\"T_44d17\">\n",
       "  <thead>\n",
       "    <tr>\n",
       "      <th class=\"blank level0\" >&nbsp;</th>\n",
       "      <th id=\"T_44d17_level0_col0\" class=\"col_heading level0 col0\" >Data PC1</th>\n",
       "      <th id=\"T_44d17_level0_col1\" class=\"col_heading level0 col1\" >Data PC2</th>\n",
       "    </tr>\n",
       "  </thead>\n",
       "  <tbody>\n",
       "    <tr>\n",
       "      <th id=\"T_44d17_level0_row0\" class=\"row_heading level0 row0\" >Wickets</th>\n",
       "      <td id=\"T_44d17_row0_col0\" class=\"data row0 col0\" >22.600000</td>\n",
       "      <td id=\"T_44d17_row0_col1\" class=\"data row0 col1\" >85.600000</td>\n",
       "    </tr>\n",
       "    <tr>\n",
       "      <th id=\"T_44d17_level0_row1\" class=\"row_heading level0 row1\" >Economy</th>\n",
       "      <td id=\"T_44d17_row1_col0\" class=\"data row1 col0\" >46.100000</td>\n",
       "      <td id=\"T_44d17_row1_col1\" class=\"data row1 col1\" >42.600000</td>\n",
       "    </tr>\n",
       "    <tr>\n",
       "      <th id=\"T_44d17_level0_row2\" class=\"row_heading level0 row2\" >Bowling_Average</th>\n",
       "      <td id=\"T_44d17_row2_col0\" class=\"data row2 col0\" >98.100000</td>\n",
       "      <td id=\"T_44d17_row2_col1\" class=\"data row2 col1\" >12.800000</td>\n",
       "    </tr>\n",
       "    <tr>\n",
       "      <th id=\"T_44d17_level0_row3\" class=\"row_heading level0 row3\" >Bowling_strike_rate</th>\n",
       "      <td id=\"T_44d17_row3_col0\" class=\"data row3 col0\" >92.700000</td>\n",
       "      <td id=\"T_44d17_row3_col1\" class=\"data row3 col1\" >28.400000</td>\n",
       "    </tr>\n",
       "  </tbody>\n",
       "</table>\n"
      ],
      "text/plain": [
       "<pandas.io.formats.style.Styler at 0x1733672a9a0>"
      ]
     },
     "execution_count": 38,
     "metadata": {},
     "output_type": "execute_result"
    }
   ],
   "source": [
    "Correlation_Matrix=pd.DataFrame(round(final_data.corr(),3))*100\n",
    "Correlation_Matrix=abs(Correlation_Matrix.iloc[0:4,4:6])\n",
    "Correlation_Matrix.style.applymap(lambda x: 'background-color : yellow' if x > 50 else '')"
   ]
  },
  {
   "cell_type": "markdown",
   "id": "fc98f08c",
   "metadata": {},
   "source": [
    "* Data PC1 = Bowling_Average, Bowling_strike_rate \n",
    "* Data PC2 = Wickets"
   ]
  },
  {
   "cell_type": "code",
   "execution_count": 39,
   "id": "82de3ef9",
   "metadata": {},
   "outputs": [],
   "source": [
    "a=final_data[\"Data PC1\"]"
   ]
  },
  {
   "cell_type": "code",
   "execution_count": 40,
   "id": "34de36ad",
   "metadata": {},
   "outputs": [],
   "source": [
    "b=final_data[\"Data PC2\"]"
   ]
  },
  {
   "cell_type": "code",
   "execution_count": 41,
   "id": "f698a04f",
   "metadata": {},
   "outputs": [],
   "source": [
    "c=a+b"
   ]
  },
  {
   "cell_type": "code",
   "execution_count": 42,
   "id": "20607fec",
   "metadata": {},
   "outputs": [
    {
     "data": {
      "text/plain": [
       "0    0.585901\n",
       "1   -0.878960\n",
       "2   -0.043239\n",
       "3   -0.001754\n",
       "4    0.550830\n",
       "dtype: float64"
      ]
     },
     "execution_count": 42,
     "metadata": {},
     "output_type": "execute_result"
    }
   ],
   "source": [
    "c.head()"
   ]
  },
  {
   "cell_type": "code",
   "execution_count": 43,
   "id": "12fb1ee5",
   "metadata": {},
   "outputs": [],
   "source": [
    "d=pd.DataFrame(y_train)\n"
   ]
  },
  {
   "cell_type": "code",
   "execution_count": 44,
   "id": "92606f13",
   "metadata": {},
   "outputs": [],
   "source": [
    "Bowler_ranking_final=pd.concat([c,d],axis=1)"
   ]
  },
  {
   "cell_type": "code",
   "execution_count": 45,
   "id": "fb7c49e2",
   "metadata": {},
   "outputs": [
    {
     "data": {
      "text/html": [
       "<div>\n",
       "<style scoped>\n",
       "    .dataframe tbody tr th:only-of-type {\n",
       "        vertical-align: middle;\n",
       "    }\n",
       "\n",
       "    .dataframe tbody tr th {\n",
       "        vertical-align: top;\n",
       "    }\n",
       "\n",
       "    .dataframe thead th {\n",
       "        text-align: right;\n",
       "    }\n",
       "</style>\n",
       "<table border=\"1\" class=\"dataframe\">\n",
       "  <thead>\n",
       "    <tr style=\"text-align: right;\">\n",
       "      <th></th>\n",
       "      <th>0</th>\n",
       "      <th>Name</th>\n",
       "    </tr>\n",
       "  </thead>\n",
       "  <tbody>\n",
       "    <tr>\n",
       "      <th>0</th>\n",
       "      <td>0.585901</td>\n",
       "      <td>Basil Thampi</td>\n",
       "    </tr>\n",
       "    <tr>\n",
       "      <th>1</th>\n",
       "      <td>-0.878960</td>\n",
       "      <td>Mitchell Santner</td>\n",
       "    </tr>\n",
       "    <tr>\n",
       "      <th>2</th>\n",
       "      <td>-0.043239</td>\n",
       "      <td>Rahul Tewatia</td>\n",
       "    </tr>\n",
       "    <tr>\n",
       "      <th>3</th>\n",
       "      <td>-0.001754</td>\n",
       "      <td>Hardik Pandya</td>\n",
       "    </tr>\n",
       "    <tr>\n",
       "      <th>4</th>\n",
       "      <td>0.550830</td>\n",
       "      <td>Kieron Pollard</td>\n",
       "    </tr>\n",
       "  </tbody>\n",
       "</table>\n",
       "</div>"
      ],
      "text/plain": [
       "          0              Name\n",
       "0  0.585901      Basil Thampi\n",
       "1 -0.878960  Mitchell Santner\n",
       "2 -0.043239     Rahul Tewatia\n",
       "3 -0.001754     Hardik Pandya\n",
       "4  0.550830    Kieron Pollard"
      ]
     },
     "execution_count": 45,
     "metadata": {},
     "output_type": "execute_result"
    }
   ],
   "source": [
    "Bowler_ranking_final.head()"
   ]
  },
  {
   "cell_type": "code",
   "execution_count": 46,
   "id": "7f93ea02",
   "metadata": {},
   "outputs": [],
   "source": [
    "Bowler_ranking_final1= Bowler_ranking_final.sort_values([0],ascending=False,ignore_index= True)"
   ]
  },
  {
   "cell_type": "code",
   "execution_count": 47,
   "id": "cae88982",
   "metadata": {},
   "outputs": [
    {
     "data": {
      "text/html": [
       "<div>\n",
       "<style scoped>\n",
       "    .dataframe tbody tr th:only-of-type {\n",
       "        vertical-align: middle;\n",
       "    }\n",
       "\n",
       "    .dataframe tbody tr th {\n",
       "        vertical-align: top;\n",
       "    }\n",
       "\n",
       "    .dataframe thead th {\n",
       "        text-align: right;\n",
       "    }\n",
       "</style>\n",
       "<table border=\"1\" class=\"dataframe\">\n",
       "  <thead>\n",
       "    <tr style=\"text-align: right;\">\n",
       "      <th></th>\n",
       "      <th>0</th>\n",
       "      <th>Name</th>\n",
       "    </tr>\n",
       "  </thead>\n",
       "  <tbody>\n",
       "    <tr>\n",
       "      <th>0</th>\n",
       "      <td>5.643604</td>\n",
       "      <td>Josh Hazlewood</td>\n",
       "    </tr>\n",
       "    <tr>\n",
       "      <th>1</th>\n",
       "      <td>5.214368</td>\n",
       "      <td>James Neesham</td>\n",
       "    </tr>\n",
       "    <tr>\n",
       "      <th>2</th>\n",
       "      <td>3.722387</td>\n",
       "      <td>Sandeep Warrier</td>\n",
       "    </tr>\n",
       "    <tr>\n",
       "      <th>3</th>\n",
       "      <td>3.047057</td>\n",
       "      <td>Jayant Yadav</td>\n",
       "    </tr>\n",
       "    <tr>\n",
       "      <th>4</th>\n",
       "      <td>2.728973</td>\n",
       "      <td>Avesh Khan</td>\n",
       "    </tr>\n",
       "  </tbody>\n",
       "</table>\n",
       "</div>"
      ],
      "text/plain": [
       "          0             Name\n",
       "0  5.643604   Josh Hazlewood\n",
       "1  5.214368    James Neesham\n",
       "2  3.722387  Sandeep Warrier\n",
       "3  3.047057     Jayant Yadav\n",
       "4  2.728973       Avesh Khan"
      ]
     },
     "execution_count": 47,
     "metadata": {},
     "output_type": "execute_result"
    }
   ],
   "source": [
    "Bowler_ranking_final1.head()"
   ]
  },
  {
   "cell_type": "code",
   "execution_count": 48,
   "id": "f1f745fd",
   "metadata": {},
   "outputs": [],
   "source": [
    "Bowler_ranking_final1.to_csv(\"ranking_bowler_ipl.csv\",index=False)"
   ]
  },
  {
   "cell_type": "code",
   "execution_count": null,
   "id": "233941ab",
   "metadata": {},
   "outputs": [],
   "source": []
  }
 ],
 "metadata": {
  "kernelspec": {
   "display_name": "Python 3 (ipykernel)",
   "language": "python",
   "name": "python3"
  },
  "language_info": {
   "codemirror_mode": {
    "name": "ipython",
    "version": 3
   },
   "file_extension": ".py",
   "mimetype": "text/x-python",
   "name": "python",
   "nbconvert_exporter": "python",
   "pygments_lexer": "ipython3",
   "version": "3.9.12"
  }
 },
 "nbformat": 4,
 "nbformat_minor": 5
}
