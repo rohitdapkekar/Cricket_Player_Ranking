{
 "cells": [
  {
   "cell_type": "markdown",
   "id": "011f3669",
   "metadata": {},
   "source": [
    "# Import Library & Data"
   ]
  },
  {
   "cell_type": "code",
   "execution_count": 1,
   "id": "7c415041",
   "metadata": {},
   "outputs": [],
   "source": [
    "# importing required libraries \n",
    "import numpy as np \n",
    "import matplotlib.pyplot as plt \n",
    "import pandas as pd \n",
    "import seaborn as sns"
   ]
  },
  {
   "cell_type": "code",
   "execution_count": 2,
   "id": "0063ebb0",
   "metadata": {},
   "outputs": [],
   "source": [
    "import os \n",
    "os.chdir(r\"C:\\Users\\akash\\Downloads\\DATA SCIENCE PROJECTS\\IPL\\Final\\Dataset\") "
   ]
  },
  {
   "cell_type": "code",
   "execution_count": 3,
   "id": "a82b154e",
   "metadata": {},
   "outputs": [
    {
     "data": {
      "text/html": [
       "<div>\n",
       "<style scoped>\n",
       "    .dataframe tbody tr th:only-of-type {\n",
       "        vertical-align: middle;\n",
       "    }\n",
       "\n",
       "    .dataframe tbody tr th {\n",
       "        vertical-align: top;\n",
       "    }\n",
       "\n",
       "    .dataframe thead th {\n",
       "        text-align: right;\n",
       "    }\n",
       "</style>\n",
       "<table border=\"1\" class=\"dataframe\">\n",
       "  <thead>\n",
       "    <tr style=\"text-align: right;\">\n",
       "      <th></th>\n",
       "      <th>Name</th>\n",
       "      <th>Role</th>\n",
       "      <th>Runs</th>\n",
       "      <th>Highest</th>\n",
       "      <th>Average</th>\n",
       "      <th>Batting_strike_rate</th>\n",
       "      <th>Fifties</th>\n",
       "      <th>Fours</th>\n",
       "      <th>Sixes</th>\n",
       "    </tr>\n",
       "  </thead>\n",
       "  <tbody>\n",
       "    <tr>\n",
       "      <th>0</th>\n",
       "      <td>Ruturaj Gaikwad</td>\n",
       "      <td>BATSMAN</td>\n",
       "      <td>204</td>\n",
       "      <td>72</td>\n",
       "      <td>51.00</td>\n",
       "      <td>120.71</td>\n",
       "      <td>3</td>\n",
       "      <td>16</td>\n",
       "      <td>6</td>\n",
       "    </tr>\n",
       "    <tr>\n",
       "      <th>1</th>\n",
       "      <td>KL Rahul</td>\n",
       "      <td>BATSMAN</td>\n",
       "      <td>2647</td>\n",
       "      <td>132</td>\n",
       "      <td>44.86</td>\n",
       "      <td>135.81</td>\n",
       "      <td>21</td>\n",
       "      <td>234</td>\n",
       "      <td>104</td>\n",
       "    </tr>\n",
       "    <tr>\n",
       "      <th>2</th>\n",
       "      <td>David Warner</td>\n",
       "      <td>BATSMAN</td>\n",
       "      <td>5254</td>\n",
       "      <td>126</td>\n",
       "      <td>42.72</td>\n",
       "      <td>141.54</td>\n",
       "      <td>48</td>\n",
       "      <td>511</td>\n",
       "      <td>194</td>\n",
       "    </tr>\n",
       "    <tr>\n",
       "      <th>3</th>\n",
       "      <td>Jonny Bairstow</td>\n",
       "      <td>BATSMAN</td>\n",
       "      <td>790</td>\n",
       "      <td>114</td>\n",
       "      <td>41.58</td>\n",
       "      <td>142.34</td>\n",
       "      <td>5</td>\n",
       "      <td>79</td>\n",
       "      <td>31</td>\n",
       "    </tr>\n",
       "    <tr>\n",
       "      <th>4</th>\n",
       "      <td>Chris Gayle</td>\n",
       "      <td>BATSMAN</td>\n",
       "      <td>4772</td>\n",
       "      <td>175</td>\n",
       "      <td>41.14</td>\n",
       "      <td>150.11</td>\n",
       "      <td>31</td>\n",
       "      <td>384</td>\n",
       "      <td>349</td>\n",
       "    </tr>\n",
       "  </tbody>\n",
       "</table>\n",
       "</div>"
      ],
      "text/plain": [
       "              Name     Role  Runs  Highest  Average  Batting_strike_rate  \\\n",
       "0  Ruturaj Gaikwad  BATSMAN   204       72    51.00               120.71   \n",
       "1         KL Rahul  BATSMAN  2647      132    44.86               135.81   \n",
       "2     David Warner  BATSMAN  5254      126    42.72               141.54   \n",
       "3   Jonny Bairstow  BATSMAN   790      114    41.58               142.34   \n",
       "4      Chris Gayle  BATSMAN  4772      175    41.14               150.11   \n",
       "\n",
       "   Fifties  Fours  Sixes  \n",
       "0        3     16      6  \n",
       "1       21    234    104  \n",
       "2       48    511    194  \n",
       "3        5     79     31  \n",
       "4       31    384    349  "
      ]
     },
     "execution_count": 3,
     "metadata": {},
     "output_type": "execute_result"
    }
   ],
   "source": [
    "# importing or loading the dataset \n",
    "Data_for_PCA = pd.read_csv(r\"BATSMAN.csv\")\n",
    "\n",
    "Data_for_PCA.head()"
   ]
  },
  {
   "cell_type": "markdown",
   "id": "c4814a73",
   "metadata": {},
   "source": [
    "# Data Pre-Processing"
   ]
  },
  {
   "cell_type": "markdown",
   "id": "d9f4f2e9",
   "metadata": {},
   "source": [
    "### Checking missing values"
   ]
  },
  {
   "cell_type": "code",
   "execution_count": 4,
   "id": "3a0f993c",
   "metadata": {},
   "outputs": [
    {
     "data": {
      "text/plain": [
       "Name                   0\n",
       "Role                   0\n",
       "Runs                   0\n",
       "Highest                0\n",
       "Average                0\n",
       "Batting_strike_rate    0\n",
       "Fifties                0\n",
       "Fours                  0\n",
       "Sixes                  0\n",
       "dtype: int64"
      ]
     },
     "execution_count": 4,
     "metadata": {},
     "output_type": "execute_result"
    }
   ],
   "source": [
    "Data_for_PCA.isna().sum()"
   ]
  },
  {
   "cell_type": "code",
   "execution_count": 5,
   "id": "25de0daf",
   "metadata": {},
   "outputs": [
    {
     "data": {
      "text/plain": [
       "<AxesSubplot:xlabel='Runs', ylabel='Batting_strike_rate'>"
      ]
     },
     "execution_count": 5,
     "metadata": {},
     "output_type": "execute_result"
    },
    {
     "data": {
      "image/png": "[encoded data removed]",
      "text/plain": [
       "<Figure size 432x288 with 1 Axes>"
      ]
     },
     "metadata": {
      "needs_background": "light"
     },
     "output_type": "display_data"
    }
   ],
   "source": [
    "sns.scatterplot(data=Data_for_PCA, x= \"Runs\", y=\"Batting_strike_rate\")"
   ]
  },
  {
   "cell_type": "markdown",
   "id": "b8bd8141",
   "metadata": {},
   "source": [
    "- There is no missing value in the data"
   ]
  },
  {
   "cell_type": "code",
   "execution_count": 6,
   "id": "4bc839cd",
   "metadata": {},
   "outputs": [
    {
     "name": "stdout",
     "output_type": "stream",
     "text": [
      "Object `seaborn` not found.\n"
     ]
    }
   ],
   "source": [
    "?seaborn"
   ]
  },
  {
   "cell_type": "markdown",
   "id": "71da11ba",
   "metadata": {},
   "source": [
    "# Exploratory Data Analysis"
   ]
  },
  {
   "cell_type": "code",
   "execution_count": 7,
   "id": "9f5296ba",
   "metadata": {},
   "outputs": [
    {
     "data": {
      "text/plain": [
       "<AxesSubplot:xlabel='Runs', ylabel='Count'>"
      ]
     },
     "execution_count": 7,
     "metadata": {},
     "output_type": "execute_result"
    },
    {
     "data": {
      "image/png": "[encoded data removed]",
      "text/plain": [
       "<Figure size 432x288 with 1 Axes>"
      ]
     },
     "metadata": {
      "needs_background": "light"
     },
     "output_type": "display_data"
    }
   ],
   "source": [
    "sns.histplot(data = Data_for_PCA, x = \"Runs\")"
   ]
  },
  {
   "cell_type": "code",
   "execution_count": 8,
   "id": "062661dc",
   "metadata": {},
   "outputs": [
    {
     "data": {
      "text/plain": [
       "<AxesSubplot:xlabel='Highest', ylabel='Count'>"
      ]
     },
     "execution_count": 8,
     "metadata": {},
     "output_type": "execute_result"
    },
    {
     "data": {
      "image/png": "[encoded data removed]",
      "text/plain": [
       "<Figure size 432x288 with 1 Axes>"
      ]
     },
     "metadata": {
      "needs_background": "light"
     },
     "output_type": "display_data"
    }
   ],
   "source": [
    "sns.histplot(data = Data_for_PCA, x = \"Highest\")"
   ]
  },
  {
   "cell_type": "code",
   "execution_count": 9,
   "id": "f53dbc29",
   "metadata": {},
   "outputs": [
    {
     "data": {
      "text/plain": [
       "<AxesSubplot:xlabel='Average', ylabel='Count'>"
      ]
     },
     "execution_count": 9,
     "metadata": {},
     "output_type": "execute_result"
    },
    {
     "data": {
      "image/png": "[encoded data removed]",
      "text/plain": [
       "<Figure size 432x288 with 1 Axes>"
      ]
     },
     "metadata": {
      "needs_background": "light"
     },
     "output_type": "display_data"
    }
   ],
   "source": [
    "sns.histplot(data = Data_for_PCA, x = \"Average\")"
   ]
  },
  {
   "cell_type": "code",
   "execution_count": 10,
   "id": "d031e3e7",
   "metadata": {},
   "outputs": [
    {
     "data": {
      "text/plain": [
       "<AxesSubplot:xlabel='Batting_strike_rate', ylabel='Count'>"
      ]
     },
     "execution_count": 10,
     "metadata": {},
     "output_type": "execute_result"
    },
    {
     "data": {
      "image/png": "[encoded data removed]",
      "text/plain": [
       "<Figure size 432x288 with 1 Axes>"
      ]
     },
     "metadata": {
      "needs_background": "light"
     },
     "output_type": "display_data"
    }
   ],
   "source": [
    "sns.histplot(data = Data_for_PCA, x = \"Batting_strike_rate\")"
   ]
  },
  {
   "cell_type": "code",
   "execution_count": 11,
   "id": "64db4a2f",
   "metadata": {},
   "outputs": [
    {
     "data": {
      "text/plain": [
       "<AxesSubplot:xlabel='Fifties', ylabel='Count'>"
      ]
     },
     "execution_count": 11,
     "metadata": {},
     "output_type": "execute_result"
    },
    {
     "data": {
      "image/png": "[encoded data removed]",
      "text/plain": [
       "<Figure size 432x288 with 1 Axes>"
      ]
     },
     "metadata": {
      "needs_background": "light"
     },
     "output_type": "display_data"
    }
   ],
   "source": [
    "sns.histplot(data = Data_for_PCA, x = \"Fifties\")"
   ]
  },
  {
   "cell_type": "code",
   "execution_count": 12,
   "id": "3377b1bd",
   "metadata": {},
   "outputs": [
    {
     "data": {
      "text/plain": [
       "<AxesSubplot:xlabel='Fours', ylabel='Count'>"
      ]
     },
     "execution_count": 12,
     "metadata": {},
     "output_type": "execute_result"
    },
    {
     "data": {
      "image/png": "[encoded data removed]",
      "text/plain": [
       "<Figure size 432x288 with 1 Axes>"
      ]
     },
     "metadata": {
      "needs_background": "light"
     },
     "output_type": "display_data"
    }
   ],
   "source": [
    "sns.histplot(data = Data_for_PCA, x = \"Fours\")"
   ]
  },
  {
   "cell_type": "code",
   "execution_count": 13,
   "id": "b61e2707",
   "metadata": {},
   "outputs": [
    {
     "data": {
      "text/plain": [
       "<AxesSubplot:xlabel='Sixes', ylabel='Count'>"
      ]
     },
     "execution_count": 13,
     "metadata": {},
     "output_type": "execute_result"
    },
    {
     "data": {
      "image/png": "[encoded data removed]",
      "text/plain": [
       "<Figure size 432x288 with 1 Axes>"
      ]
     },
     "metadata": {
      "needs_background": "light"
     },
     "output_type": "display_data"
    }
   ],
   "source": [
    "sns.histplot(data = Data_for_PCA, x = \"Sixes\")"
   ]
  },
  {
   "cell_type": "code",
   "execution_count": 14,
   "id": "2120b624",
   "metadata": {},
   "outputs": [
    {
     "name": "stdout",
     "output_type": "stream",
     "text": [
      "<class 'pandas.core.frame.DataFrame'>\n",
      "RangeIndex: 101 entries, 0 to 100\n",
      "Data columns (total 9 columns):\n",
      " #   Column               Non-Null Count  Dtype  \n",
      "---  ------               --------------  -----  \n",
      " 0   Name                 101 non-null    object \n",
      " 1   Role                 101 non-null    object \n",
      " 2   Runs                 101 non-null    int64  \n",
      " 3   Highest              101 non-null    int64  \n",
      " 4   Average              101 non-null    float64\n",
      " 5   Batting_strike_rate  101 non-null    float64\n",
      " 6   Fifties              101 non-null    int64  \n",
      " 7   Fours                101 non-null    int64  \n",
      " 8   Sixes                101 non-null    int64  \n",
      "dtypes: float64(2), int64(5), object(2)\n",
      "memory usage: 7.2+ KB\n"
     ]
    }
   ],
   "source": [
    "Data_for_PCA.info()"
   ]
  },
  {
   "cell_type": "code",
   "execution_count": 15,
   "id": "a887463a",
   "metadata": {},
   "outputs": [
    {
     "data": {
      "text/plain": [
       "<seaborn.axisgrid.PairGrid at 0x1e9f3291a00>"
      ]
     },
     "execution_count": 15,
     "metadata": {},
     "output_type": "execute_result"
    },
    {
     "data": {
      "image/png": "[encoded data removed]",
      "text/plain": [
       "<Figure size 1260x1260 with 56 Axes>"
      ]
     },
     "metadata": {
      "needs_background": "light"
     },
     "output_type": "display_data"
    }
   ],
   "source": [
    "sns.pairplot(data=Data_for_PCA)"
   ]
  },
  {
   "cell_type": "code",
   "execution_count": 16,
   "id": "8d1f538a",
   "metadata": {},
   "outputs": [
    {
     "data": {
      "text/html": [
       "<div>\n",
       "<style scoped>\n",
       "    .dataframe tbody tr th:only-of-type {\n",
       "        vertical-align: middle;\n",
       "    }\n",
       "\n",
       "    .dataframe tbody tr th {\n",
       "        vertical-align: top;\n",
       "    }\n",
       "\n",
       "    .dataframe thead th {\n",
       "        text-align: right;\n",
       "    }\n",
       "</style>\n",
       "<table border=\"1\" class=\"dataframe\">\n",
       "  <thead>\n",
       "    <tr style=\"text-align: right;\">\n",
       "      <th></th>\n",
       "      <th>Runs</th>\n",
       "      <th>Highest</th>\n",
       "      <th>Average</th>\n",
       "      <th>Batting_strike_rate</th>\n",
       "      <th>Fifties</th>\n",
       "      <th>Fours</th>\n",
       "      <th>Sixes</th>\n",
       "    </tr>\n",
       "  </thead>\n",
       "  <tbody>\n",
       "    <tr>\n",
       "      <th>count</th>\n",
       "      <td>101.000000</td>\n",
       "      <td>101.000000</td>\n",
       "      <td>101.000000</td>\n",
       "      <td>101.000000</td>\n",
       "      <td>101.000000</td>\n",
       "      <td>101.000000</td>\n",
       "      <td>101.000000</td>\n",
       "    </tr>\n",
       "    <tr>\n",
       "      <th>mean</th>\n",
       "      <td>1288.247525</td>\n",
       "      <td>67.445545</td>\n",
       "      <td>23.865545</td>\n",
       "      <td>127.649307</td>\n",
       "      <td>7.346535</td>\n",
       "      <td>113.158416</td>\n",
       "      <td>51.178218</td>\n",
       "    </tr>\n",
       "    <tr>\n",
       "      <th>std</th>\n",
       "      <td>1511.570471</td>\n",
       "      <td>35.137580</td>\n",
       "      <td>10.176719</td>\n",
       "      <td>26.380231</td>\n",
       "      <td>10.838298</td>\n",
       "      <td>138.507598</td>\n",
       "      <td>64.129774</td>\n",
       "    </tr>\n",
       "    <tr>\n",
       "      <th>min</th>\n",
       "      <td>0.000000</td>\n",
       "      <td>0.000000</td>\n",
       "      <td>0.000000</td>\n",
       "      <td>0.000000</td>\n",
       "      <td>0.000000</td>\n",
       "      <td>0.000000</td>\n",
       "      <td>0.000000</td>\n",
       "    </tr>\n",
       "    <tr>\n",
       "      <th>25%</th>\n",
       "      <td>169.000000</td>\n",
       "      <td>38.000000</td>\n",
       "      <td>17.120000</td>\n",
       "      <td>121.390000</td>\n",
       "      <td>0.000000</td>\n",
       "      <td>13.000000</td>\n",
       "      <td>6.000000</td>\n",
       "    </tr>\n",
       "    <tr>\n",
       "      <th>50%</th>\n",
       "      <td>746.000000</td>\n",
       "      <td>68.000000</td>\n",
       "      <td>23.960000</td>\n",
       "      <td>129.400000</td>\n",
       "      <td>3.000000</td>\n",
       "      <td>54.000000</td>\n",
       "      <td>27.000000</td>\n",
       "    </tr>\n",
       "    <tr>\n",
       "      <th>75%</th>\n",
       "      <td>1714.000000</td>\n",
       "      <td>95.000000</td>\n",
       "      <td>30.500000</td>\n",
       "      <td>139.130000</td>\n",
       "      <td>10.000000</td>\n",
       "      <td>162.000000</td>\n",
       "      <td>73.000000</td>\n",
       "    </tr>\n",
       "    <tr>\n",
       "      <th>max</th>\n",
       "      <td>5878.000000</td>\n",
       "      <td>175.000000</td>\n",
       "      <td>51.000000</td>\n",
       "      <td>182.330000</td>\n",
       "      <td>48.000000</td>\n",
       "      <td>591.000000</td>\n",
       "      <td>349.000000</td>\n",
       "    </tr>\n",
       "  </tbody>\n",
       "</table>\n",
       "</div>"
      ],
      "text/plain": [
       "              Runs     Highest     Average  Batting_strike_rate     Fifties  \\\n",
       "count   101.000000  101.000000  101.000000           101.000000  101.000000   \n",
       "mean   1288.247525   67.445545   23.865545           127.649307    7.346535   \n",
       "std    1511.570471   35.137580   10.176719            26.380231   10.838298   \n",
       "min       0.000000    0.000000    0.000000             0.000000    0.000000   \n",
       "25%     169.000000   38.000000   17.120000           121.390000    0.000000   \n",
       "50%     746.000000   68.000000   23.960000           129.400000    3.000000   \n",
       "75%    1714.000000   95.000000   30.500000           139.130000   10.000000   \n",
       "max    5878.000000  175.000000   51.000000           182.330000   48.000000   \n",
       "\n",
       "            Fours       Sixes  \n",
       "count  101.000000  101.000000  \n",
       "mean   113.158416   51.178218  \n",
       "std    138.507598   64.129774  \n",
       "min      0.000000    0.000000  \n",
       "25%     13.000000    6.000000  \n",
       "50%     54.000000   27.000000  \n",
       "75%    162.000000   73.000000  \n",
       "max    591.000000  349.000000  "
      ]
     },
     "execution_count": 16,
     "metadata": {},
     "output_type": "execute_result"
    }
   ],
   "source": [
    "Data_for_PCA.describe() "
   ]
  },
  {
   "cell_type": "markdown",
   "id": "551aa22e",
   "metadata": {},
   "source": [
    "## Taking specific column for Analysis"
   ]
  },
  {
   "cell_type": "code",
   "execution_count": 17,
   "id": "55ddbfd0",
   "metadata": {},
   "outputs": [],
   "source": [
    "numeric_predictors=['Runs','Highest','Average','Batting_strike_rate','Fifties','Fours', 'Sixes']\n",
    "X_train = Data_for_PCA[numeric_predictors]\n",
    "y_train = Data_for_PCA['Name']"
   ]
  },
  {
   "cell_type": "code",
   "execution_count": 18,
   "id": "f7402b33",
   "metadata": {},
   "outputs": [
    {
     "data": {
      "text/html": [
       "<div>\n",
       "<style scoped>\n",
       "    .dataframe tbody tr th:only-of-type {\n",
       "        vertical-align: middle;\n",
       "    }\n",
       "\n",
       "    .dataframe tbody tr th {\n",
       "        vertical-align: top;\n",
       "    }\n",
       "\n",
       "    .dataframe thead th {\n",
       "        text-align: right;\n",
       "    }\n",
       "</style>\n",
       "<table border=\"1\" class=\"dataframe\">\n",
       "  <thead>\n",
       "    <tr style=\"text-align: right;\">\n",
       "      <th></th>\n",
       "      <th>Runs</th>\n",
       "      <th>Highest</th>\n",
       "      <th>Average</th>\n",
       "      <th>Batting_strike_rate</th>\n",
       "      <th>Fifties</th>\n",
       "      <th>Fours</th>\n",
       "      <th>Sixes</th>\n",
       "    </tr>\n",
       "  </thead>\n",
       "  <tbody>\n",
       "    <tr>\n",
       "      <th>0</th>\n",
       "      <td>204</td>\n",
       "      <td>72</td>\n",
       "      <td>51.00</td>\n",
       "      <td>120.71</td>\n",
       "      <td>3</td>\n",
       "      <td>16</td>\n",
       "      <td>6</td>\n",
       "    </tr>\n",
       "    <tr>\n",
       "      <th>1</th>\n",
       "      <td>2647</td>\n",
       "      <td>132</td>\n",
       "      <td>44.86</td>\n",
       "      <td>135.81</td>\n",
       "      <td>21</td>\n",
       "      <td>234</td>\n",
       "      <td>104</td>\n",
       "    </tr>\n",
       "    <tr>\n",
       "      <th>2</th>\n",
       "      <td>5254</td>\n",
       "      <td>126</td>\n",
       "      <td>42.72</td>\n",
       "      <td>141.54</td>\n",
       "      <td>48</td>\n",
       "      <td>511</td>\n",
       "      <td>194</td>\n",
       "    </tr>\n",
       "    <tr>\n",
       "      <th>3</th>\n",
       "      <td>790</td>\n",
       "      <td>114</td>\n",
       "      <td>41.58</td>\n",
       "      <td>142.34</td>\n",
       "      <td>5</td>\n",
       "      <td>79</td>\n",
       "      <td>31</td>\n",
       "    </tr>\n",
       "    <tr>\n",
       "      <th>4</th>\n",
       "      <td>4772</td>\n",
       "      <td>175</td>\n",
       "      <td>41.14</td>\n",
       "      <td>150.11</td>\n",
       "      <td>31</td>\n",
       "      <td>384</td>\n",
       "      <td>349</td>\n",
       "    </tr>\n",
       "  </tbody>\n",
       "</table>\n",
       "</div>"
      ],
      "text/plain": [
       "   Runs  Highest  Average  Batting_strike_rate  Fifties  Fours  Sixes\n",
       "0   204       72    51.00               120.71        3     16      6\n",
       "1  2647      132    44.86               135.81       21    234    104\n",
       "2  5254      126    42.72               141.54       48    511    194\n",
       "3   790      114    41.58               142.34        5     79     31\n",
       "4  4772      175    41.14               150.11       31    384    349"
      ]
     },
     "execution_count": 18,
     "metadata": {},
     "output_type": "execute_result"
    }
   ],
   "source": [
    "X_train.head()"
   ]
  },
  {
   "cell_type": "code",
   "execution_count": 19,
   "id": "c782d61c",
   "metadata": {},
   "outputs": [
    {
     "data": {
      "text/html": [
       "<style type=\"text/css\">\n",
       "#T_d14f8_row0_col0, #T_d14f8_row0_col1, #T_d14f8_row0_col4, #T_d14f8_row0_col5, #T_d14f8_row0_col6, #T_d14f8_row1_col0, #T_d14f8_row1_col1, #T_d14f8_row1_col2, #T_d14f8_row1_col4, #T_d14f8_row1_col5, #T_d14f8_row1_col6, #T_d14f8_row2_col1, #T_d14f8_row2_col2, #T_d14f8_row3_col3, #T_d14f8_row4_col0, #T_d14f8_row4_col1, #T_d14f8_row4_col4, #T_d14f8_row4_col5, #T_d14f8_row4_col6, #T_d14f8_row5_col0, #T_d14f8_row5_col1, #T_d14f8_row5_col4, #T_d14f8_row5_col5, #T_d14f8_row5_col6, #T_d14f8_row6_col0, #T_d14f8_row6_col1, #T_d14f8_row6_col4, #T_d14f8_row6_col5, #T_d14f8_row6_col6 {\n",
       "  background-color: yellow;\n",
       "}\n",
       "</style>\n",
       "<table id=\"T_d14f8\">\n",
       "  <thead>\n",
       "    <tr>\n",
       "      <th class=\"blank level0\" >&nbsp;</th>\n",
       "      <th id=\"T_d14f8_level0_col0\" class=\"col_heading level0 col0\" >Runs</th>\n",
       "      <th id=\"T_d14f8_level0_col1\" class=\"col_heading level0 col1\" >Highest</th>\n",
       "      <th id=\"T_d14f8_level0_col2\" class=\"col_heading level0 col2\" >Average</th>\n",
       "      <th id=\"T_d14f8_level0_col3\" class=\"col_heading level0 col3\" >Batting_strike_rate</th>\n",
       "      <th id=\"T_d14f8_level0_col4\" class=\"col_heading level0 col4\" >Fifties</th>\n",
       "      <th id=\"T_d14f8_level0_col5\" class=\"col_heading level0 col5\" >Fours</th>\n",
       "      <th id=\"T_d14f8_level0_col6\" class=\"col_heading level0 col6\" >Sixes</th>\n",
       "    </tr>\n",
       "  </thead>\n",
       "  <tbody>\n",
       "    <tr>\n",
       "      <th id=\"T_d14f8_level0_row0\" class=\"row_heading level0 row0\" >Runs</th>\n",
       "      <td id=\"T_d14f8_row0_col0\" class=\"data row0 col0\" >1.000000</td>\n",
       "      <td id=\"T_d14f8_row0_col1\" class=\"data row0 col1\" >0.741641</td>\n",
       "      <td id=\"T_d14f8_row0_col2\" class=\"data row0 col2\" >0.626783</td>\n",
       "      <td id=\"T_d14f8_row0_col3\" class=\"data row0 col3\" >0.233730</td>\n",
       "      <td id=\"T_d14f8_row0_col4\" class=\"data row0 col4\" >0.957840</td>\n",
       "      <td id=\"T_d14f8_row0_col5\" class=\"data row0 col5\" >0.983915</td>\n",
       "      <td id=\"T_d14f8_row0_col6\" class=\"data row0 col6\" >0.910438</td>\n",
       "    </tr>\n",
       "    <tr>\n",
       "      <th id=\"T_d14f8_level0_row1\" class=\"row_heading level0 row1\" >Highest</th>\n",
       "      <td id=\"T_d14f8_row1_col0\" class=\"data row1 col0\" >0.741641</td>\n",
       "      <td id=\"T_d14f8_row1_col1\" class=\"data row1 col1\" >1.000000</td>\n",
       "      <td id=\"T_d14f8_row1_col2\" class=\"data row1 col2\" >0.811442</td>\n",
       "      <td id=\"T_d14f8_row1_col3\" class=\"data row1 col3\" >0.490456</td>\n",
       "      <td id=\"T_d14f8_row1_col4\" class=\"data row1 col4\" >0.711638</td>\n",
       "      <td id=\"T_d14f8_row1_col5\" class=\"data row1 col5\" >0.727976</td>\n",
       "      <td id=\"T_d14f8_row1_col6\" class=\"data row1 col6\" >0.742623</td>\n",
       "    </tr>\n",
       "    <tr>\n",
       "      <th id=\"T_d14f8_level0_row2\" class=\"row_heading level0 row2\" >Average</th>\n",
       "      <td id=\"T_d14f8_row2_col0\" class=\"data row2 col0\" >0.626783</td>\n",
       "      <td id=\"T_d14f8_row2_col1\" class=\"data row2 col1\" >0.811442</td>\n",
       "      <td id=\"T_d14f8_row2_col2\" class=\"data row2 col2\" >1.000000</td>\n",
       "      <td id=\"T_d14f8_row2_col3\" class=\"data row2 col3\" >0.520944</td>\n",
       "      <td id=\"T_d14f8_row2_col4\" class=\"data row2 col4\" >0.627856</td>\n",
       "      <td id=\"T_d14f8_row2_col5\" class=\"data row2 col5\" >0.601626</td>\n",
       "      <td id=\"T_d14f8_row2_col6\" class=\"data row2 col6\" >0.616025</td>\n",
       "    </tr>\n",
       "    <tr>\n",
       "      <th id=\"T_d14f8_level0_row3\" class=\"row_heading level0 row3\" >Batting_strike_rate</th>\n",
       "      <td id=\"T_d14f8_row3_col0\" class=\"data row3 col0\" >0.233730</td>\n",
       "      <td id=\"T_d14f8_row3_col1\" class=\"data row3 col1\" >0.490456</td>\n",
       "      <td id=\"T_d14f8_row3_col2\" class=\"data row3 col2\" >0.520944</td>\n",
       "      <td id=\"T_d14f8_row3_col3\" class=\"data row3 col3\" >1.000000</td>\n",
       "      <td id=\"T_d14f8_row3_col4\" class=\"data row3 col4\" >0.202380</td>\n",
       "      <td id=\"T_d14f8_row3_col5\" class=\"data row3 col5\" >0.204587</td>\n",
       "      <td id=\"T_d14f8_row3_col6\" class=\"data row3 col6\" >0.318653</td>\n",
       "    </tr>\n",
       "    <tr>\n",
       "      <th id=\"T_d14f8_level0_row4\" class=\"row_heading level0 row4\" >Fifties</th>\n",
       "      <td id=\"T_d14f8_row4_col0\" class=\"data row4 col0\" >0.957840</td>\n",
       "      <td id=\"T_d14f8_row4_col1\" class=\"data row4 col1\" >0.711638</td>\n",
       "      <td id=\"T_d14f8_row4_col2\" class=\"data row4 col2\" >0.627856</td>\n",
       "      <td id=\"T_d14f8_row4_col3\" class=\"data row4 col3\" >0.202380</td>\n",
       "      <td id=\"T_d14f8_row4_col4\" class=\"data row4 col4\" >1.000000</td>\n",
       "      <td id=\"T_d14f8_row4_col5\" class=\"data row4 col5\" >0.962515</td>\n",
       "      <td id=\"T_d14f8_row4_col6\" class=\"data row4 col6\" >0.858832</td>\n",
       "    </tr>\n",
       "    <tr>\n",
       "      <th id=\"T_d14f8_level0_row5\" class=\"row_heading level0 row5\" >Fours</th>\n",
       "      <td id=\"T_d14f8_row5_col0\" class=\"data row5 col0\" >0.983915</td>\n",
       "      <td id=\"T_d14f8_row5_col1\" class=\"data row5 col1\" >0.727976</td>\n",
       "      <td id=\"T_d14f8_row5_col2\" class=\"data row5 col2\" >0.601626</td>\n",
       "      <td id=\"T_d14f8_row5_col3\" class=\"data row5 col3\" >0.204587</td>\n",
       "      <td id=\"T_d14f8_row5_col4\" class=\"data row5 col4\" >0.962515</td>\n",
       "      <td id=\"T_d14f8_row5_col5\" class=\"data row5 col5\" >1.000000</td>\n",
       "      <td id=\"T_d14f8_row5_col6\" class=\"data row5 col6\" >0.844299</td>\n",
       "    </tr>\n",
       "    <tr>\n",
       "      <th id=\"T_d14f8_level0_row6\" class=\"row_heading level0 row6\" >Sixes</th>\n",
       "      <td id=\"T_d14f8_row6_col0\" class=\"data row6 col0\" >0.910438</td>\n",
       "      <td id=\"T_d14f8_row6_col1\" class=\"data row6 col1\" >0.742623</td>\n",
       "      <td id=\"T_d14f8_row6_col2\" class=\"data row6 col2\" >0.616025</td>\n",
       "      <td id=\"T_d14f8_row6_col3\" class=\"data row6 col3\" >0.318653</td>\n",
       "      <td id=\"T_d14f8_row6_col4\" class=\"data row6 col4\" >0.858832</td>\n",
       "      <td id=\"T_d14f8_row6_col5\" class=\"data row6 col5\" >0.844299</td>\n",
       "      <td id=\"T_d14f8_row6_col6\" class=\"data row6 col6\" >1.000000</td>\n",
       "    </tr>\n",
       "  </tbody>\n",
       "</table>\n"
      ],
      "text/plain": [
       "<pandas.io.formats.style.Styler at 0x1e9f5b673d0>"
      ]
     },
     "execution_count": 19,
     "metadata": {},
     "output_type": "execute_result"
    }
   ],
   "source": [
    "Correlation=X_train.corr()\n",
    "Correlation.style.applymap(lambda x: 'background-color : yellow' if x > 0.7 else '')"
   ]
  },
  {
   "cell_type": "code",
   "execution_count": 20,
   "id": "62d02038",
   "metadata": {},
   "outputs": [
    {
     "data": {
      "text/plain": [
       "<AxesSubplot:>"
      ]
     },
     "execution_count": 20,
     "metadata": {},
     "output_type": "execute_result"
    },
    {
     "data": {
      "image/png": "[encoded data removed]",
      "text/plain": [
       "<Figure size 432x288 with 2 Axes>"
      ]
     },
     "metadata": {
      "needs_background": "light"
     },
     "output_type": "display_data"
    }
   ],
   "source": [
    "sns.heatmap(X_train.corr(), annot=True)"
   ]
  },
  {
   "cell_type": "markdown",
   "id": "054f4393",
   "metadata": {},
   "source": [
    "### PCA is effected by scale so you need to scale the features in the data before applying PCA. \n",
    "\n",
    "* You can transform the data onto unit scale (mean = 0 and variance = 1)"
   ]
  },
  {
   "cell_type": "code",
   "execution_count": 21,
   "id": "efee17ce",
   "metadata": {},
   "outputs": [],
   "source": [
    "# performing preprocessing part \n",
    "from sklearn.preprocessing import StandardScaler \n",
    "\n",
    "sc = StandardScaler() # mean 0 & std=1\n",
    "  \n",
    "X_train_1 = sc.fit_transform(X_train)  # Fit to data, then transform it."
   ]
  },
  {
   "cell_type": "markdown",
   "id": "affdb253",
   "metadata": {},
   "source": [
    "### Mean"
   ]
  },
  {
   "cell_type": "code",
   "execution_count": 22,
   "id": "e50563f1",
   "metadata": {},
   "outputs": [
    {
     "data": {
      "text/plain": [
       "array([-2.19846143e-18, -2.35235374e-16,  2.19846143e-16, -1.01129226e-16,\n",
       "        2.19846143e-17,  1.31907686e-17,  1.97861529e-17])"
      ]
     },
     "execution_count": 22,
     "metadata": {},
     "output_type": "execute_result"
    }
   ],
   "source": [
    "X_train_1.mean(axis=0)"
   ]
  },
  {
   "cell_type": "markdown",
   "id": "e8fe9cf1",
   "metadata": {},
   "source": [
    "### Standard Deviation"
   ]
  },
  {
   "cell_type": "code",
   "execution_count": 23,
   "id": "c3c2fbc7",
   "metadata": {},
   "outputs": [
    {
     "data": {
      "text/plain": [
       "array([1., 1., 1., 1., 1., 1., 1.])"
      ]
     },
     "execution_count": 23,
     "metadata": {},
     "output_type": "execute_result"
    }
   ],
   "source": [
    "X_train_1.std(axis=0)"
   ]
  },
  {
   "cell_type": "code",
   "execution_count": 24,
   "id": "c4f62944",
   "metadata": {},
   "outputs": [
    {
     "data": {
      "text/html": [
       "<div>\n",
       "<style scoped>\n",
       "    .dataframe tbody tr th:only-of-type {\n",
       "        vertical-align: middle;\n",
       "    }\n",
       "\n",
       "    .dataframe tbody tr th {\n",
       "        vertical-align: top;\n",
       "    }\n",
       "\n",
       "    .dataframe thead th {\n",
       "        text-align: right;\n",
       "    }\n",
       "</style>\n",
       "<table border=\"1\" class=\"dataframe\">\n",
       "  <thead>\n",
       "    <tr style=\"text-align: right;\">\n",
       "      <th></th>\n",
       "      <th>Runs</th>\n",
       "      <th>Highest</th>\n",
       "      <th>Average</th>\n",
       "      <th>Batting_strike_rate</th>\n",
       "      <th>Fifties</th>\n",
       "      <th>Fours</th>\n",
       "      <th>Sixes</th>\n",
       "    </tr>\n",
       "  </thead>\n",
       "  <tbody>\n",
       "    <tr>\n",
       "      <th>0</th>\n",
       "      <td>204</td>\n",
       "      <td>72</td>\n",
       "      <td>51.00</td>\n",
       "      <td>120.71</td>\n",
       "      <td>3</td>\n",
       "      <td>16</td>\n",
       "      <td>6</td>\n",
       "    </tr>\n",
       "    <tr>\n",
       "      <th>1</th>\n",
       "      <td>2647</td>\n",
       "      <td>132</td>\n",
       "      <td>44.86</td>\n",
       "      <td>135.81</td>\n",
       "      <td>21</td>\n",
       "      <td>234</td>\n",
       "      <td>104</td>\n",
       "    </tr>\n",
       "    <tr>\n",
       "      <th>2</th>\n",
       "      <td>5254</td>\n",
       "      <td>126</td>\n",
       "      <td>42.72</td>\n",
       "      <td>141.54</td>\n",
       "      <td>48</td>\n",
       "      <td>511</td>\n",
       "      <td>194</td>\n",
       "    </tr>\n",
       "  </tbody>\n",
       "</table>\n",
       "</div>"
      ],
      "text/plain": [
       "   Runs  Highest  Average  Batting_strike_rate  Fifties  Fours  Sixes\n",
       "0   204       72    51.00               120.71        3     16      6\n",
       "1  2647      132    44.86               135.81       21    234    104\n",
       "2  5254      126    42.72               141.54       48    511    194"
      ]
     },
     "execution_count": 24,
     "metadata": {},
     "output_type": "execute_result"
    }
   ],
   "source": [
    "X_train.head(3)"
   ]
  },
  {
   "cell_type": "code",
   "execution_count": 25,
   "id": "2806a295",
   "metadata": {},
   "outputs": [
    {
     "data": {
      "text/plain": [
       "array([[-7.20876266e-01,  1.30264267e-01,  2.67962497e+00,\n",
       "        -2.64361488e-01, -4.03034968e-01, -7.04964933e-01,\n",
       "        -7.07994807e-01],\n",
       "       [ 9.03384502e-01,  1.84635440e+00,  2.07327791e+00,\n",
       "         3.10891705e-01,  1.26602556e+00,  8.76805973e-01,\n",
       "         8.27778280e-01],\n",
       "       [ 2.63668283e+00,  1.67474539e+00,  1.86194522e+00,\n",
       "         5.29183149e-01,  3.76961636e+00,  2.88667084e+00,\n",
       "         2.23818214e+00],\n",
       "       [-3.31266438e-01,  1.33152736e+00,  1.74936612e+00,\n",
       "         5.59660139e-01, -2.17583798e-01, -2.47847653e-01,\n",
       "        -3.16215958e-01],\n",
       "       [ 2.31621878e+00,  3.07621899e+00,  1.70591454e+00,\n",
       "         8.55667909e-01,  2.19328141e+00,  1.96518045e+00,\n",
       "         4.66721100e+00],\n",
       "       [ 2.22313793e+00,  4.73482294e-01,  1.69110150e+00,\n",
       "         3.47083131e-01,  1.45147673e+00,  1.45001653e+00,\n",
       "         2.58294752e+00],\n",
       "       [ 2.36741324e+00,  1.87495590e+00,  1.63382442e+00,\n",
       "         9.24241137e-01,  2.84236051e+00,  2.00871543e+00,\n",
       "         2.88069945e+00],\n",
       "       [ 2.19905145e-01,  6.16489805e-01,  1.54297111e+00,\n",
       "         2.72414505e-01,  7.09672051e-01,  1.65734648e-01,\n",
       "         4.42205829e-02],\n",
       "       [ 3.05155746e+00,  1.30292586e+00,  1.41261637e+00,\n",
       "         1.17743779e-01,  2.93508609e+00,  2.82862420e+00,\n",
       "         2.34788021e+00],\n",
       "       [ 6.94617461e-01,  9.59707831e-01,  1.13413124e+00,\n",
       "         6.09803841e-02,  3.38769711e-01,  7.17177716e-01,\n",
       "         1.06905199e-01],\n",
       "       [ 5.25742212e-01,  1.73194839e+00,  1.12326834e+00,\n",
       "         9.26526911e-01,  4.31495296e-01,  5.06758651e-01,\n",
       "         8.12107127e-01],\n",
       "       [ 2.83067148e-01,  7.88098818e-01,  1.09759241e+00,\n",
       "         8.34714978e-01,  3.38769711e-01,  3.90665373e-01,\n",
       "         4.04657124e-01],\n",
       "       [ 2.59812077e+00,  1.10271534e+00,  1.01858953e+00,\n",
       "        -3.00696247e-02,  3.12053726e+00,  3.46713723e+00,\n",
       "         8.90462896e-01],\n",
       "       [-5.48347560e-03,  7.30895814e-01,  9.69212738e-01,\n",
       "         4.95658460e-01,  2.46044126e-01,  1.07688009e-01,\n",
       "         1.85260968e-01],\n",
       "       [ 3.73488542e-01,  9.59707831e-01,  9.65262594e-01,\n",
       "         4.24037532e-01,  1.53318541e-01,  9.31763496e-02,\n",
       "         5.61368663e-01],\n",
       "       [-2.32201823e-01,  2.44670276e-01,  9.55387235e-01,\n",
       "        -9.33093798e-02, -3.21326285e-02, -1.89801014e-01,\n",
       "        -4.25914036e-01],\n",
       "       [ 2.71247724e+00,  9.31106329e-01,  9.35636516e-01,\n",
       "         3.60416815e-01,  2.84236051e+00,  2.75606590e+00,\n",
       "         2.23818214e+00],\n",
       "       [ 6.74006703e-01,  8.16700320e-01,  8.91197399e-01,\n",
       "         6.09803841e-02,  8.02397636e-01,  6.66386907e-01,\n",
       "         3.41972508e-01],\n",
       "       [-5.10114635e-01,  2.73271778e-01,  8.58608714e-01,\n",
       "         1.43815939e+00, -4.95760553e-01, -5.88871656e-01,\n",
       "        -1.90846726e-01],\n",
       "       [-8.35232734e-01, -1.29981084e+00,  8.03306702e-01,\n",
       "         4.37371216e-01, -6.81211723e-01, -8.21058211e-01,\n",
       "        -7.55008269e-01],\n",
       "       [ 1.75839856e+00,  1.07411384e+00,  7.75655696e-01,\n",
       "        -2.38456047e-01,  1.91510466e+00,  2.19736700e+00,\n",
       "         3.88985970e-01],\n",
       "       [ 4.45958629e-01,  1.15991835e+00,  7.63805264e-01,\n",
       "         2.24413245e-01,  6.16946466e-01,  6.37363588e-01,\n",
       "         3.88985970e-01],\n",
       "       [-5.42028068e-01,  1.87467272e-01,  7.56892513e-01,\n",
       "        -1.08547875e-01, -2.17583798e-01, -4.51010889e-01,\n",
       "        -6.76652499e-01],\n",
       "       [ 6.06190657e-01,  8.16700320e-01,  7.47017154e-01,\n",
       "        -6.01656527e-02,  8.02397636e-01,  5.50293630e-01,\n",
       "         4.98684048e-01],\n",
       "       [ 2.62072612e+00,  1.18851985e+00,  7.36154258e-01,\n",
       "         1.13172230e-01,  2.93508609e+00,  2.50211186e+00,\n",
       "         2.53593406e+00],\n",
       "       [-6.13168429e-01, -4.13164274e-01,  6.55176312e-01,\n",
       "         2.63271408e-01, -5.88486138e-01, -6.46918295e-01,\n",
       "        -4.88598651e-01],\n",
       "       [ 4.89174736e-01,  3.30474783e-01,  6.26537770e-01,\n",
       "         2.63652370e-01,  3.38769711e-01,  7.82480185e-01,\n",
       "         1.06905199e-01],\n",
       "       [ 4.03920844e-02,  6.73692809e-01,  6.03824444e-01,\n",
       "         1.20462945e+00, -3.10309383e-01, -1.97056844e-01,\n",
       "         6.55395587e-01],\n",
       "       [ 1.15337306e+00,  4.44880792e-01,  5.98886764e-01,\n",
       "         8.46905774e-01,  7.09672051e-01,  6.01084439e-01,\n",
       "         2.30086675e+00],\n",
       "       [ 1.52089100e-01,  5.87888303e-01,  5.81111118e-01,\n",
       "         2.08312870e+00,  6.05929565e-02, -5.91960772e-02,\n",
       "         1.21955713e+00],\n",
       "       [-4.21687831e-01, -1.27149252e-01,  5.79136046e-01,\n",
       "         3.07410237e-03, -4.03034968e-01, -5.01801698e-01,\n",
       "        -4.10242882e-01],\n",
       "       [ 1.31626454e+00,  1.33152736e+00,  5.77160974e-01,\n",
       "        -2.27789100e-01,  9.87848806e-01,  1.26136495e+00,\n",
       "         6.55395587e-01],\n",
       "       [ 1.57622605e+00,  9.31106329e-01,  5.57410255e-01,\n",
       "        -5.94037279e-02,  1.08057439e+00,  1.41373738e+00,\n",
       "         1.26657059e+00],\n",
       "       [-5.13590356e-02,  9.02504827e-01,  4.90257812e-01,\n",
       "         3.50130831e-01, -3.21326285e-02, -9.54752264e-02,\n",
       "         2.00932122e-01],\n",
       "       [-2.12255927e-01,  1.87467272e-01,  4.57669126e-01,\n",
       "         1.98364471e-02, -2.17583798e-01, -1.89801014e-01,\n",
       "        -3.78900574e-01],\n",
       "       [-3.07996226e-01, -6.99462479e-02,  4.52731447e-01,\n",
       "         3.66512213e-01, -3.10309383e-01, -3.49429271e-01,\n",
       "        -2.69202496e-01],\n",
       "       [ 2.20651635e+00,  5.59286800e-01,  4.00392043e-01,\n",
       "         8.91716002e-02,  1.54420232e+00,  2.47308854e+00,\n",
       "         1.75237636e+00],\n",
       "       [ 8.61498122e-01,  9.88309333e-01,  3.86566540e-01,\n",
       "         2.32413455e-01,  5.24220881e-01,  5.64805290e-01,\n",
       "         1.00016097e+00],\n",
       "       [ 9.89000449e-02,  5.59286800e-01,  3.71753501e-01,\n",
       "         3.01748608e-01,  3.38769711e-01,  1.00432179e-01,\n",
       "         3.26301354e-01],\n",
       "       [ 6.03379800e-02, -1.84352257e-01,  3.66815821e-01,\n",
       "        -2.82647683e-01, -3.21326285e-02, -8.82193965e-02,\n",
       "        -4.98063408e-02],\n",
       "       [-7.86032858e-01, -3.84562772e-01,  2.60161941e-01,\n",
       "        -3.75983466e-01, -5.88486138e-01, -7.63011572e-01,\n",
       "        -7.55008269e-01],\n",
       "       [-2.44834223e-01,  1.13131684e+00,  2.39423686e-01,\n",
       "         2.83843376e-01, -4.95760553e-01, -2.47847653e-01,\n",
       "        -3.00544804e-01],\n",
       "       [ 1.68526361e+00,  8.45301822e-01,  2.11772680e-01,\n",
       "         7.58379169e-02,  1.08057439e+00,  1.91438964e+00,\n",
       "         8.43449434e-01],\n",
       "       [-5.63303690e-01, -1.27432436e-02,  2.04859929e-01,\n",
       "         4.70514943e-01, -5.88486138e-01, -4.58266719e-01,\n",
       "        -6.29639037e-01],\n",
       "       [ 4.59255893e-01,  1.36012886e+00,  1.81159066e-01,\n",
       "         1.66506963e-01,  6.05929565e-02,  5.14014481e-01,\n",
       "         2.00932122e-01],\n",
       "       [-1.08023811e-02,  1.58582586e-02,  1.55483132e-01,\n",
       "        -5.06415932e-02, -2.17583798e-01, -6.64519070e-02,\n",
       "         1.06905199e-01],\n",
       "       [ 5.78931267e-01, -4.98968781e-01,  1.51532988e-01,\n",
       "        -4.18794585e-02, -5.88486138e-01,  3.18107075e-01,\n",
       "         3.88985970e-01],\n",
       "       [-1.99623527e-01,  7.30895814e-01,  1.44620237e-01,\n",
       "         2.72033543e-01, -2.17583798e-01, -1.31754376e-01,\n",
       "        -2.22189034e-01],\n",
       "       [-1.91645168e-01,  5.30685298e-01,  5.17918596e-02,\n",
       "         5.63850726e-01, -5.88486138e-01, -1.31754376e-01,\n",
       "        -1.75175572e-01],\n",
       "       [ 1.27489162e-01,  4.44880792e-01,  3.89538925e-02,\n",
       "         2.70747323e-02,  2.46044126e-01,  3.39874564e-01,\n",
       "        -1.90846726e-01],\n",
       "       [-4.90168740e-01,  4.16279289e-01,  9.32781462e-03,\n",
       "         1.15167568e+00, -4.95760553e-01, -5.38080847e-01,\n",
       "        -3.31887112e-01],\n",
       "       [-1.83666810e-01,  7.88098818e-01, -3.31362303e-02,\n",
       "         1.56982904e-01, -4.03034968e-01, -1.17242716e-01,\n",
       "        -1.90846726e-01],\n",
       "       [-6.69681800e-01, -3.55961270e-01, -4.39991256e-02,\n",
       "         5.98899265e-01, -4.95760553e-01, -6.39662465e-01,\n",
       "        -5.66954421e-01],\n",
       "       [-8.09967933e-01, -6.70577794e-01, -5.28869489e-02,\n",
       "         6.92616010e-01, -6.81211723e-01, -7.77523232e-01,\n",
       "        -7.23665961e-01],\n",
       "       [-9.78994587e-02,  4.44597608e-02, -1.03251281e-01,\n",
       "        -1.32929467e-01, -3.10309383e-01, -1.02731056e-01,\n",
       "        -2.06517880e-01],\n",
       "       [ 1.34137794e-01,  7.30612630e-02, -1.26952144e-01,\n",
       "         2.21222214e-02, -2.17583798e-01,  2.78738810e-02,\n",
       "         1.53918661e-01],\n",
       "       [-7.82708542e-01, -9.85194318e-01, -1.64478509e-01,\n",
       "         1.64273619e+00, -6.81211723e-01, -7.63011572e-01,\n",
       "        -7.07994807e-01],\n",
       "       [ 1.44110742e-01,  7.88098818e-01, -1.71391260e-01,\n",
       "         1.02976772e+00, -1.24858213e-01,  3.51297108e-02,\n",
       "         6.24053279e-01],\n",
       "       [ 2.46499673e-01,  2.73271778e-01, -1.72378796e-01,\n",
       "        -1.28738881e-01, -1.24858213e-01,  4.12432863e-01,\n",
       "        -2.22189034e-01],\n",
       "       [-3.07331363e-01,  9.02504827e-01, -2.09905162e-01,\n",
       "         4.61371845e-01, -1.24858213e-01, -1.02731056e-01,\n",
       "        -3.78900574e-01],\n",
       "       [-6.98270918e-01, -8.13585305e-01, -2.19780521e-01,\n",
       "         1.56730563e+00, -6.81211723e-01, -7.12220763e-01,\n",
       "        -5.04269805e-01],\n",
       "       [-3.60520418e-01, -4.13447458e-02, -2.52369207e-01,\n",
       "        -3.76888723e-02, -4.95760553e-01, -3.13150122e-01,\n",
       "        -4.88598651e-01],\n",
       "       [ 2.69769884e-01,  1.10271534e+00, -2.65207174e-01,\n",
       "         2.62890446e-01, -3.21326285e-02,  3.54386224e-01,\n",
       "         2.47945584e-01],\n",
       "       [-6.73670980e-01,  2.16068774e-01, -2.68169781e-01,\n",
       "         4.28228118e-01, -5.88486138e-01, -7.12220763e-01,\n",
       "        -5.04269805e-01],\n",
       "       [-6.51065631e-01, -4.13447458e-02, -3.22484258e-01,\n",
       "         1.17377150e+00, -4.03034968e-01, -6.68685784e-01,\n",
       "        -4.41585190e-01],\n",
       "       [-5.97211713e-01, -4.70367279e-01, -3.29397009e-01,\n",
       "        -1.06323960e+00, -5.88486138e-01, -4.58266719e-01,\n",
       "        -7.39337115e-01],\n",
       "       [-6.92952012e-01, -4.98968781e-01, -3.32359617e-01,\n",
       "        -2.46456257e-01, -5.88486138e-01, -6.54174125e-01,\n",
       "        -6.76652499e-01],\n",
       "       [-8.04649028e-01, -9.85194318e-01, -4.31113210e-01,\n",
       "        -1.00380947e+00, -6.81211723e-01, -7.55755742e-01,\n",
       "        -7.86350576e-01],\n",
       "       [-8.31243555e-01, -1.47141986e+00, -4.80490006e-01,\n",
       "        -1.93121523e-01, -6.81211723e-01, -7.84779062e-01,\n",
       "        -8.02021730e-01],\n",
       "       [-2.49488266e-01, -6.70577794e-01, -5.53567665e-01,\n",
       "         1.55025285e-03, -6.81211723e-01, -4.36499229e-01,\n",
       "        -1.28162111e-01],\n",
       "       [-7.61432920e-01, -6.13374790e-01, -5.91094030e-01,\n",
       "         6.96044672e-01, -6.81211723e-01, -7.48499913e-01,\n",
       "        -6.76652499e-01],\n",
       "       [-6.34444051e-01, -3.27359768e-01, -6.20720108e-01,\n",
       "         2.26699019e-01, -4.03034968e-01, -5.96127486e-01,\n",
       "        -6.45310191e-01],\n",
       "       [-7.98665259e-01, -5.84773288e-01, -6.38495755e-01,\n",
       "        -6.13703991e-01, -6.81211723e-01, -7.84779062e-01,\n",
       "        -7.55008269e-01],\n",
       "       [-7.06914139e-01, -8.42186807e-01, -6.47383578e-01,\n",
       "        -5.11987035e-01, -6.81211723e-01, -7.55755742e-01,\n",
       "        -5.82625575e-01],\n",
       "       [-5.59979374e-01, -8.13585305e-01, -6.63184153e-01,\n",
       "        -3.19981996e-01, -6.81211723e-01, -6.61429954e-01,\n",
       "        -5.04269805e-01],\n",
       "       [-7.65422100e-01, -9.85194318e-01, -6.66146761e-01,\n",
       "         3.04415345e-01, -6.81211723e-01, -7.41244083e-01,\n",
       "        -7.23665961e-01],\n",
       "       [-7.32843803e-01, -9.27991314e-01, -6.86885015e-01,\n",
       "        -7.50231855e-02, -6.81211723e-01, -7.12220763e-01,\n",
       "        -7.07994807e-01],\n",
       "       [-7.44146477e-01, -1.15680333e+00, -6.87872551e-01,\n",
       "        -1.97693072e-01, -6.81211723e-01, -7.77523232e-01,\n",
       "        -6.13967883e-01],\n",
       "       [-4.40968864e-01, -1.55750755e-01, -6.88860087e-01,\n",
       "         6.66948198e-02, -4.95760553e-01, -5.88871656e-01,\n",
       "        -3.47558266e-01],\n",
       "       [-8.34567871e-01, -9.85194318e-01, -7.27373988e-01,\n",
       "        -5.27987455e-01, -6.81211723e-01, -7.92034892e-01,\n",
       "        -8.02021730e-01],\n",
       "       [-7.59438331e-01, -1.04239732e+00, -7.55024995e-01,\n",
       "         7.55093840e-01, -6.81211723e-01, -7.26732423e-01,\n",
       "        -6.92323653e-01],\n",
       "       [-7.87362585e-01, -1.18540483e+00, -8.89329881e-01,\n",
       "        -1.46263151e-01, -6.81211723e-01, -7.55755742e-01,\n",
       "        -7.23665961e-01],\n",
       "       [-7.68081552e-01, -4.70367279e-01, -8.97230168e-01,\n",
       "        -2.98267140e-01, -5.88486138e-01, -7.55755742e-01,\n",
       "        -7.39337115e-01],\n",
       "       [-6.61703442e-01, -4.41765777e-01, -9.10068135e-01,\n",
       "        -1.07924002e+00, -5.88486138e-01, -5.88871656e-01,\n",
       "        -7.55008269e-01],\n",
       "       [-7.32843803e-01, -9.85194318e-01, -9.43644357e-01,\n",
       "         1.57873451e+00, -6.81211723e-01, -7.26732423e-01,\n",
       "        -6.13967883e-01],\n",
       "       [-6.31119736e-01, -2.41555261e-01, -9.62407540e-01,\n",
       "        -1.32167543e-01, -5.88486138e-01, -5.30825017e-01,\n",
       "        -6.29639037e-01],\n",
       "       [-6.13833293e-01, -8.99389812e-01, -9.70307827e-01,\n",
       "        -5.14035180e-02, -6.81211723e-01, -6.25150805e-01,\n",
       "        -5.51283267e-01],\n",
       "       [-8.29913829e-01, -9.56592816e-01, -1.04042288e+00,\n",
       "        -1.39962938e+00, -6.81211723e-01, -8.06546551e-01,\n",
       "        -7.70679423e-01],\n",
       "       [-7.47470793e-01, -1.24260784e+00, -1.11053793e+00,\n",
       "        -8.83425356e-01, -6.81211723e-01, -6.97709104e-01,\n",
       "        -7.86350576e-01],\n",
       "       [-8.15951702e-01, -1.29981084e+00, -1.15201444e+00,\n",
       "        -1.23200593e+00, -6.81211723e-01, -7.99290721e-01,\n",
       "        -7.70679423e-01],\n",
       "       [-4.68228254e-01, -1.24260784e+00, -1.17966544e+00,\n",
       "        -6.17132652e-01, -6.81211723e-01, -4.29243399e-01,\n",
       "        -5.19940959e-01],\n",
       "       [-8.05313891e-01, -1.07099882e+00, -1.27051875e+00,\n",
       "        -1.00304754e+00, -6.81211723e-01, -7.77523232e-01,\n",
       "        -7.70679423e-01],\n",
       "       [-5.82584723e-01, -6.41976292e-01, -1.28631932e+00,\n",
       "        -6.54847928e-01, -6.81211723e-01, -5.67104166e-01,\n",
       "        -6.29639037e-01],\n",
       "       [-8.14621975e-01, -1.41421685e+00, -1.31989555e+00,\n",
       "        -1.22667246e+00, -6.81211723e-01, -7.84779062e-01,\n",
       "        -7.70679423e-01],\n",
       "       [-8.35897597e-01, -1.47141986e+00, -1.33668366e+00,\n",
       "        -1.17219484e+00, -6.81211723e-01, -7.99290721e-01,\n",
       "        -7.86350576e-01],\n",
       "       [-8.43875956e-01, -1.67163037e+00, -1.73169803e+00,\n",
       "        -2.07888530e+00, -6.81211723e-01, -8.13802381e-01,\n",
       "        -7.86350576e-01],\n",
       "       [-8.41216503e-01, -1.67163037e+00, -1.90254174e+00,\n",
       "        -1.84154574e+00, -6.81211723e-01, -8.06546551e-01,\n",
       "        -8.02021730e-01],\n",
       "       [-8.56508356e-01, -1.92904389e+00, -2.35680827e+00,\n",
       "        -4.86295838e+00, -6.81211723e-01, -8.21058211e-01,\n",
       "        -8.02021730e-01],\n",
       "       [-8.55843493e-01, -1.90044239e+00, -2.35680827e+00,\n",
       "        -1.05333458e+00, -6.81211723e-01, -8.21058211e-01,\n",
       "        -8.02021730e-01],\n",
       "       [-8.56508356e-01, -1.92904389e+00, -2.35680827e+00,\n",
       "        -4.86295838e+00, -6.81211723e-01, -8.21058211e-01,\n",
       "        -8.02021730e-01],\n",
       "       [-8.43211093e-01, -1.35701385e+00, -2.35680827e+00,\n",
       "         1.48654161e+00, -6.81211723e-01, -8.06546551e-01,\n",
       "        -7.86350576e-01]])"
      ]
     },
     "execution_count": 25,
     "metadata": {},
     "output_type": "execute_result"
    }
   ],
   "source": [
    "X_train_1"
   ]
  },
  {
   "cell_type": "markdown",
   "id": "0a9b8776",
   "metadata": {},
   "source": [
    "# No. of variable in original dataset"
   ]
  },
  {
   "cell_type": "code",
   "execution_count": 26,
   "id": "eabeb5c1",
   "metadata": {},
   "outputs": [],
   "source": [
    "# Applying PCA function on training \n",
    "# and testing set of X component \n",
    "from sklearn.decomposition import PCA \n",
    "  \n",
    "model = PCA(n_components = 2) # we are specifying we want 2 PCA\n",
    "  \n",
    "principalComponents= model.fit(X_train_1) # Fit the model with X and apply the dimensionality reduction on X."
   ]
  },
  {
   "cell_type": "markdown",
   "id": "ade7a88c",
   "metadata": {},
   "source": [
    "# Explained Variance\n",
    "* The explained variance tells you how much information (variance) can be attributed to each of the principal components. \n",
    "\n",
    "* This is important as while you can convert high dimensional space to 2 dimensional space, you lose some of the variance (information) when you do this. By using the attribute explained_variance_ratio_, "
   ]
  },
  {
   "cell_type": "code",
   "execution_count": 27,
   "id": "feab67ac",
   "metadata": {},
   "outputs": [
    {
     "data": {
      "text/plain": [
       "[5.133, 1.147]"
      ]
     },
     "execution_count": 27,
     "metadata": {},
     "output_type": "execute_result"
    }
   ],
   "source": [
    "import numpy as np\n",
    "list(np.round(principalComponents.explained_variance_,3))   # eigen values  >= 1 "
   ]
  },
  {
   "cell_type": "code",
   "execution_count": 28,
   "id": "0d940bc2",
   "metadata": {},
   "outputs": [
    {
     "data": {
      "text/plain": [
       "0.7328571428571429"
      ]
     },
     "execution_count": 28,
     "metadata": {},
     "output_type": "execute_result"
    }
   ],
   "source": [
    "5.13/7"
   ]
  },
  {
   "cell_type": "code",
   "execution_count": 29,
   "id": "b9219452",
   "metadata": {},
   "outputs": [
    {
     "data": {
      "text/plain": [
       "0.16428571428571428"
      ]
     },
     "execution_count": 29,
     "metadata": {},
     "output_type": "execute_result"
    }
   ],
   "source": [
    "1.15/7"
   ]
  },
  {
   "cell_type": "code",
   "execution_count": 30,
   "id": "8143bd28",
   "metadata": {},
   "outputs": [
    {
     "data": {
      "text/plain": [
       "[0.73, 0.16]"
      ]
     },
     "execution_count": 30,
     "metadata": {},
     "output_type": "execute_result"
    }
   ],
   "source": [
    "list(np.round(principalComponents.explained_variance_ratio_,2))    # >= 50%"
   ]
  },
  {
   "cell_type": "markdown",
   "id": "87fe345d",
   "metadata": {},
   "source": [
    "* You can see that the first principal component contains 73% of the variance \n",
    "* You can see that the second principal component contains 16% of the variance "
   ]
  },
  {
   "cell_type": "code",
   "execution_count": 31,
   "id": "e0161f8f",
   "metadata": {},
   "outputs": [
    {
     "data": {
      "text/plain": [
       "0.89"
      ]
     },
     "execution_count": 31,
     "metadata": {},
     "output_type": "execute_result"
    }
   ],
   "source": [
    "0.73+0.16"
   ]
  },
  {
   "cell_type": "code",
   "execution_count": 32,
   "id": "35a73b62",
   "metadata": {},
   "outputs": [
    {
     "data": {
      "text/plain": [
       "array([-2.19846143e-18, -2.35235374e-16,  2.19846143e-16, -1.01129226e-16,\n",
       "        2.19846143e-17,  1.31907686e-17,  1.97861529e-17])"
      ]
     },
     "execution_count": 32,
     "metadata": {},
     "output_type": "execute_result"
    }
   ],
   "source": [
    "principalComponents.mean_"
   ]
  },
  {
   "cell_type": "code",
   "execution_count": 33,
   "id": "c1f280d5",
   "metadata": {},
   "outputs": [
    {
     "data": {
      "text/plain": [
       "array([[1.10738529, 0.76513713, 0.65651227, 0.21422241, 0.9338797 ,\n",
       "        0.93683606, 0.88468117],\n",
       "       [0.76513713, 0.96928885, 0.76949206, 0.54819609, 0.74293395,\n",
       "        0.74214924, 0.75953526],\n",
       "       [0.65651227, 0.76949206, 0.90880313, 0.61187394, 0.63381211,\n",
       "        0.63194542, 0.66925117],\n",
       "       [0.21422241, 0.54819609, 0.61187394, 0.93074899, 0.1920356 ,\n",
       "        0.18659303, 0.2894419 ],\n",
       "       [0.9338797 , 0.74293395, 0.63381211, 0.1920356 , 1.07705457,\n",
       "        0.92214785, 0.86789051],\n",
       "       [0.93683606, 0.74214924, 0.63194542, 0.18659303, 0.92214785,\n",
       "        1.0832464 , 0.86988775],\n",
       "       [0.88468117, 0.75953526, 0.66925117, 0.2894419 , 0.86789051,\n",
       "        0.86988775, 0.99347277]])"
      ]
     },
     "execution_count": 33,
     "metadata": {},
     "output_type": "execute_result"
    }
   ],
   "source": [
    "principalComponents.get_covariance()"
   ]
  },
  {
   "cell_type": "code",
   "execution_count": 34,
   "id": "e3b90ddd",
   "metadata": {},
   "outputs": [
    {
     "data": {
      "text/plain": [
       "array([[-7.20876266e-01,  1.30264267e-01,  2.67962497e+00,\n",
       "        -2.64361488e-01, -4.03034968e-01, -7.04964933e-01,\n",
       "        -7.07994807e-01],\n",
       "       [ 9.03384502e-01,  1.84635440e+00,  2.07327791e+00,\n",
       "         3.10891705e-01,  1.26602556e+00,  8.76805973e-01,\n",
       "         8.27778280e-01],\n",
       "       [ 2.63668283e+00,  1.67474539e+00,  1.86194522e+00,\n",
       "         5.29183149e-01,  3.76961636e+00,  2.88667084e+00,\n",
       "         2.23818214e+00],\n",
       "       [-3.31266438e-01,  1.33152736e+00,  1.74936612e+00,\n",
       "         5.59660139e-01, -2.17583798e-01, -2.47847653e-01,\n",
       "        -3.16215958e-01],\n",
       "       [ 2.31621878e+00,  3.07621899e+00,  1.70591454e+00,\n",
       "         8.55667909e-01,  2.19328141e+00,  1.96518045e+00,\n",
       "         4.66721100e+00],\n",
       "       [ 2.22313793e+00,  4.73482294e-01,  1.69110150e+00,\n",
       "         3.47083131e-01,  1.45147673e+00,  1.45001653e+00,\n",
       "         2.58294752e+00],\n",
       "       [ 2.36741324e+00,  1.87495590e+00,  1.63382442e+00,\n",
       "         9.24241137e-01,  2.84236051e+00,  2.00871543e+00,\n",
       "         2.88069945e+00],\n",
       "       [ 2.19905145e-01,  6.16489805e-01,  1.54297111e+00,\n",
       "         2.72414505e-01,  7.09672051e-01,  1.65734648e-01,\n",
       "         4.42205829e-02],\n",
       "       [ 3.05155746e+00,  1.30292586e+00,  1.41261637e+00,\n",
       "         1.17743779e-01,  2.93508609e+00,  2.82862420e+00,\n",
       "         2.34788021e+00],\n",
       "       [ 6.94617461e-01,  9.59707831e-01,  1.13413124e+00,\n",
       "         6.09803841e-02,  3.38769711e-01,  7.17177716e-01,\n",
       "         1.06905199e-01],\n",
       "       [ 5.25742212e-01,  1.73194839e+00,  1.12326834e+00,\n",
       "         9.26526911e-01,  4.31495296e-01,  5.06758651e-01,\n",
       "         8.12107127e-01],\n",
       "       [ 2.83067148e-01,  7.88098818e-01,  1.09759241e+00,\n",
       "         8.34714978e-01,  3.38769711e-01,  3.90665373e-01,\n",
       "         4.04657124e-01],\n",
       "       [ 2.59812077e+00,  1.10271534e+00,  1.01858953e+00,\n",
       "        -3.00696247e-02,  3.12053726e+00,  3.46713723e+00,\n",
       "         8.90462896e-01],\n",
       "       [-5.48347560e-03,  7.30895814e-01,  9.69212738e-01,\n",
       "         4.95658460e-01,  2.46044126e-01,  1.07688009e-01,\n",
       "         1.85260968e-01],\n",
       "       [ 3.73488542e-01,  9.59707831e-01,  9.65262594e-01,\n",
       "         4.24037532e-01,  1.53318541e-01,  9.31763496e-02,\n",
       "         5.61368663e-01],\n",
       "       [-2.32201823e-01,  2.44670276e-01,  9.55387235e-01,\n",
       "        -9.33093798e-02, -3.21326285e-02, -1.89801014e-01,\n",
       "        -4.25914036e-01],\n",
       "       [ 2.71247724e+00,  9.31106329e-01,  9.35636516e-01,\n",
       "         3.60416815e-01,  2.84236051e+00,  2.75606590e+00,\n",
       "         2.23818214e+00],\n",
       "       [ 6.74006703e-01,  8.16700320e-01,  8.91197399e-01,\n",
       "         6.09803841e-02,  8.02397636e-01,  6.66386907e-01,\n",
       "         3.41972508e-01],\n",
       "       [-5.10114635e-01,  2.73271778e-01,  8.58608714e-01,\n",
       "         1.43815939e+00, -4.95760553e-01, -5.88871656e-01,\n",
       "        -1.90846726e-01],\n",
       "       [-8.35232734e-01, -1.29981084e+00,  8.03306702e-01,\n",
       "         4.37371216e-01, -6.81211723e-01, -8.21058211e-01,\n",
       "        -7.55008269e-01],\n",
       "       [ 1.75839856e+00,  1.07411384e+00,  7.75655696e-01,\n",
       "        -2.38456047e-01,  1.91510466e+00,  2.19736700e+00,\n",
       "         3.88985970e-01],\n",
       "       [ 4.45958629e-01,  1.15991835e+00,  7.63805264e-01,\n",
       "         2.24413245e-01,  6.16946466e-01,  6.37363588e-01,\n",
       "         3.88985970e-01],\n",
       "       [-5.42028068e-01,  1.87467272e-01,  7.56892513e-01,\n",
       "        -1.08547875e-01, -2.17583798e-01, -4.51010889e-01,\n",
       "        -6.76652499e-01],\n",
       "       [ 6.06190657e-01,  8.16700320e-01,  7.47017154e-01,\n",
       "        -6.01656527e-02,  8.02397636e-01,  5.50293630e-01,\n",
       "         4.98684048e-01],\n",
       "       [ 2.62072612e+00,  1.18851985e+00,  7.36154258e-01,\n",
       "         1.13172230e-01,  2.93508609e+00,  2.50211186e+00,\n",
       "         2.53593406e+00],\n",
       "       [-6.13168429e-01, -4.13164274e-01,  6.55176312e-01,\n",
       "         2.63271408e-01, -5.88486138e-01, -6.46918295e-01,\n",
       "        -4.88598651e-01],\n",
       "       [ 4.89174736e-01,  3.30474783e-01,  6.26537770e-01,\n",
       "         2.63652370e-01,  3.38769711e-01,  7.82480185e-01,\n",
       "         1.06905199e-01],\n",
       "       [ 4.03920844e-02,  6.73692809e-01,  6.03824444e-01,\n",
       "         1.20462945e+00, -3.10309383e-01, -1.97056844e-01,\n",
       "         6.55395587e-01],\n",
       "       [ 1.15337306e+00,  4.44880792e-01,  5.98886764e-01,\n",
       "         8.46905774e-01,  7.09672051e-01,  6.01084439e-01,\n",
       "         2.30086675e+00],\n",
       "       [ 1.52089100e-01,  5.87888303e-01,  5.81111118e-01,\n",
       "         2.08312870e+00,  6.05929565e-02, -5.91960772e-02,\n",
       "         1.21955713e+00],\n",
       "       [-4.21687831e-01, -1.27149252e-01,  5.79136046e-01,\n",
       "         3.07410237e-03, -4.03034968e-01, -5.01801698e-01,\n",
       "        -4.10242882e-01],\n",
       "       [ 1.31626454e+00,  1.33152736e+00,  5.77160974e-01,\n",
       "        -2.27789100e-01,  9.87848806e-01,  1.26136495e+00,\n",
       "         6.55395587e-01],\n",
       "       [ 1.57622605e+00,  9.31106329e-01,  5.57410255e-01,\n",
       "        -5.94037279e-02,  1.08057439e+00,  1.41373738e+00,\n",
       "         1.26657059e+00],\n",
       "       [-5.13590356e-02,  9.02504827e-01,  4.90257812e-01,\n",
       "         3.50130831e-01, -3.21326285e-02, -9.54752264e-02,\n",
       "         2.00932122e-01],\n",
       "       [-2.12255927e-01,  1.87467272e-01,  4.57669126e-01,\n",
       "         1.98364471e-02, -2.17583798e-01, -1.89801014e-01,\n",
       "        -3.78900574e-01],\n",
       "       [-3.07996226e-01, -6.99462479e-02,  4.52731447e-01,\n",
       "         3.66512213e-01, -3.10309383e-01, -3.49429271e-01,\n",
       "        -2.69202496e-01],\n",
       "       [ 2.20651635e+00,  5.59286800e-01,  4.00392043e-01,\n",
       "         8.91716002e-02,  1.54420232e+00,  2.47308854e+00,\n",
       "         1.75237636e+00],\n",
       "       [ 8.61498122e-01,  9.88309333e-01,  3.86566540e-01,\n",
       "         2.32413455e-01,  5.24220881e-01,  5.64805290e-01,\n",
       "         1.00016097e+00],\n",
       "       [ 9.89000449e-02,  5.59286800e-01,  3.71753501e-01,\n",
       "         3.01748608e-01,  3.38769711e-01,  1.00432179e-01,\n",
       "         3.26301354e-01],\n",
       "       [ 6.03379800e-02, -1.84352257e-01,  3.66815821e-01,\n",
       "        -2.82647683e-01, -3.21326285e-02, -8.82193965e-02,\n",
       "        -4.98063408e-02],\n",
       "       [-7.86032858e-01, -3.84562772e-01,  2.60161941e-01,\n",
       "        -3.75983466e-01, -5.88486138e-01, -7.63011572e-01,\n",
       "        -7.55008269e-01],\n",
       "       [-2.44834223e-01,  1.13131684e+00,  2.39423686e-01,\n",
       "         2.83843376e-01, -4.95760553e-01, -2.47847653e-01,\n",
       "        -3.00544804e-01],\n",
       "       [ 1.68526361e+00,  8.45301822e-01,  2.11772680e-01,\n",
       "         7.58379169e-02,  1.08057439e+00,  1.91438964e+00,\n",
       "         8.43449434e-01],\n",
       "       [-5.63303690e-01, -1.27432436e-02,  2.04859929e-01,\n",
       "         4.70514943e-01, -5.88486138e-01, -4.58266719e-01,\n",
       "        -6.29639037e-01],\n",
       "       [ 4.59255893e-01,  1.36012886e+00,  1.81159066e-01,\n",
       "         1.66506963e-01,  6.05929565e-02,  5.14014481e-01,\n",
       "         2.00932122e-01],\n",
       "       [-1.08023811e-02,  1.58582586e-02,  1.55483132e-01,\n",
       "        -5.06415932e-02, -2.17583798e-01, -6.64519070e-02,\n",
       "         1.06905199e-01],\n",
       "       [ 5.78931267e-01, -4.98968781e-01,  1.51532988e-01,\n",
       "        -4.18794585e-02, -5.88486138e-01,  3.18107075e-01,\n",
       "         3.88985970e-01],\n",
       "       [-1.99623527e-01,  7.30895814e-01,  1.44620237e-01,\n",
       "         2.72033543e-01, -2.17583798e-01, -1.31754376e-01,\n",
       "        -2.22189034e-01],\n",
       "       [-1.91645168e-01,  5.30685298e-01,  5.17918596e-02,\n",
       "         5.63850726e-01, -5.88486138e-01, -1.31754376e-01,\n",
       "        -1.75175572e-01],\n",
       "       [ 1.27489162e-01,  4.44880792e-01,  3.89538925e-02,\n",
       "         2.70747323e-02,  2.46044126e-01,  3.39874564e-01,\n",
       "        -1.90846726e-01],\n",
       "       [-4.90168740e-01,  4.16279289e-01,  9.32781462e-03,\n",
       "         1.15167568e+00, -4.95760553e-01, -5.38080847e-01,\n",
       "        -3.31887112e-01],\n",
       "       [-1.83666810e-01,  7.88098818e-01, -3.31362303e-02,\n",
       "         1.56982904e-01, -4.03034968e-01, -1.17242716e-01,\n",
       "        -1.90846726e-01],\n",
       "       [-6.69681800e-01, -3.55961270e-01, -4.39991256e-02,\n",
       "         5.98899265e-01, -4.95760553e-01, -6.39662465e-01,\n",
       "        -5.66954421e-01],\n",
       "       [-8.09967933e-01, -6.70577794e-01, -5.28869489e-02,\n",
       "         6.92616010e-01, -6.81211723e-01, -7.77523232e-01,\n",
       "        -7.23665961e-01],\n",
       "       [-9.78994587e-02,  4.44597608e-02, -1.03251281e-01,\n",
       "        -1.32929467e-01, -3.10309383e-01, -1.02731056e-01,\n",
       "        -2.06517880e-01],\n",
       "       [ 1.34137794e-01,  7.30612630e-02, -1.26952144e-01,\n",
       "         2.21222214e-02, -2.17583798e-01,  2.78738810e-02,\n",
       "         1.53918661e-01],\n",
       "       [-7.82708542e-01, -9.85194318e-01, -1.64478509e-01,\n",
       "         1.64273619e+00, -6.81211723e-01, -7.63011572e-01,\n",
       "        -7.07994807e-01],\n",
       "       [ 1.44110742e-01,  7.88098818e-01, -1.71391260e-01,\n",
       "         1.02976772e+00, -1.24858213e-01,  3.51297108e-02,\n",
       "         6.24053279e-01],\n",
       "       [ 2.46499673e-01,  2.73271778e-01, -1.72378796e-01,\n",
       "        -1.28738881e-01, -1.24858213e-01,  4.12432863e-01,\n",
       "        -2.22189034e-01],\n",
       "       [-3.07331363e-01,  9.02504827e-01, -2.09905162e-01,\n",
       "         4.61371845e-01, -1.24858213e-01, -1.02731056e-01,\n",
       "        -3.78900574e-01],\n",
       "       [-6.98270918e-01, -8.13585305e-01, -2.19780521e-01,\n",
       "         1.56730563e+00, -6.81211723e-01, -7.12220763e-01,\n",
       "        -5.04269805e-01],\n",
       "       [-3.60520418e-01, -4.13447458e-02, -2.52369207e-01,\n",
       "        -3.76888723e-02, -4.95760553e-01, -3.13150122e-01,\n",
       "        -4.88598651e-01],\n",
       "       [ 2.69769884e-01,  1.10271534e+00, -2.65207174e-01,\n",
       "         2.62890446e-01, -3.21326285e-02,  3.54386224e-01,\n",
       "         2.47945584e-01],\n",
       "       [-6.73670980e-01,  2.16068774e-01, -2.68169781e-01,\n",
       "         4.28228118e-01, -5.88486138e-01, -7.12220763e-01,\n",
       "        -5.04269805e-01],\n",
       "       [-6.51065631e-01, -4.13447458e-02, -3.22484258e-01,\n",
       "         1.17377150e+00, -4.03034968e-01, -6.68685784e-01,\n",
       "        -4.41585190e-01],\n",
       "       [-5.97211713e-01, -4.70367279e-01, -3.29397009e-01,\n",
       "        -1.06323960e+00, -5.88486138e-01, -4.58266719e-01,\n",
       "        -7.39337115e-01],\n",
       "       [-6.92952012e-01, -4.98968781e-01, -3.32359617e-01,\n",
       "        -2.46456257e-01, -5.88486138e-01, -6.54174125e-01,\n",
       "        -6.76652499e-01],\n",
       "       [-8.04649028e-01, -9.85194318e-01, -4.31113210e-01,\n",
       "        -1.00380947e+00, -6.81211723e-01, -7.55755742e-01,\n",
       "        -7.86350576e-01],\n",
       "       [-8.31243555e-01, -1.47141986e+00, -4.80490006e-01,\n",
       "        -1.93121523e-01, -6.81211723e-01, -7.84779062e-01,\n",
       "        -8.02021730e-01],\n",
       "       [-2.49488266e-01, -6.70577794e-01, -5.53567665e-01,\n",
       "         1.55025285e-03, -6.81211723e-01, -4.36499229e-01,\n",
       "        -1.28162111e-01],\n",
       "       [-7.61432920e-01, -6.13374790e-01, -5.91094030e-01,\n",
       "         6.96044672e-01, -6.81211723e-01, -7.48499913e-01,\n",
       "        -6.76652499e-01],\n",
       "       [-6.34444051e-01, -3.27359768e-01, -6.20720108e-01,\n",
       "         2.26699019e-01, -4.03034968e-01, -5.96127486e-01,\n",
       "        -6.45310191e-01],\n",
       "       [-7.98665259e-01, -5.84773288e-01, -6.38495755e-01,\n",
       "        -6.13703991e-01, -6.81211723e-01, -7.84779062e-01,\n",
       "        -7.55008269e-01],\n",
       "       [-7.06914139e-01, -8.42186807e-01, -6.47383578e-01,\n",
       "        -5.11987035e-01, -6.81211723e-01, -7.55755742e-01,\n",
       "        -5.82625575e-01],\n",
       "       [-5.59979374e-01, -8.13585305e-01, -6.63184153e-01,\n",
       "        -3.19981996e-01, -6.81211723e-01, -6.61429954e-01,\n",
       "        -5.04269805e-01],\n",
       "       [-7.65422100e-01, -9.85194318e-01, -6.66146761e-01,\n",
       "         3.04415345e-01, -6.81211723e-01, -7.41244083e-01,\n",
       "        -7.23665961e-01],\n",
       "       [-7.32843803e-01, -9.27991314e-01, -6.86885015e-01,\n",
       "        -7.50231855e-02, -6.81211723e-01, -7.12220763e-01,\n",
       "        -7.07994807e-01],\n",
       "       [-7.44146477e-01, -1.15680333e+00, -6.87872551e-01,\n",
       "        -1.97693072e-01, -6.81211723e-01, -7.77523232e-01,\n",
       "        -6.13967883e-01],\n",
       "       [-4.40968864e-01, -1.55750755e-01, -6.88860087e-01,\n",
       "         6.66948198e-02, -4.95760553e-01, -5.88871656e-01,\n",
       "        -3.47558266e-01],\n",
       "       [-8.34567871e-01, -9.85194318e-01, -7.27373988e-01,\n",
       "        -5.27987455e-01, -6.81211723e-01, -7.92034892e-01,\n",
       "        -8.02021730e-01],\n",
       "       [-7.59438331e-01, -1.04239732e+00, -7.55024995e-01,\n",
       "         7.55093840e-01, -6.81211723e-01, -7.26732423e-01,\n",
       "        -6.92323653e-01],\n",
       "       [-7.87362585e-01, -1.18540483e+00, -8.89329881e-01,\n",
       "        -1.46263151e-01, -6.81211723e-01, -7.55755742e-01,\n",
       "        -7.23665961e-01],\n",
       "       [-7.68081552e-01, -4.70367279e-01, -8.97230168e-01,\n",
       "        -2.98267140e-01, -5.88486138e-01, -7.55755742e-01,\n",
       "        -7.39337115e-01],\n",
       "       [-6.61703442e-01, -4.41765777e-01, -9.10068135e-01,\n",
       "        -1.07924002e+00, -5.88486138e-01, -5.88871656e-01,\n",
       "        -7.55008269e-01],\n",
       "       [-7.32843803e-01, -9.85194318e-01, -9.43644357e-01,\n",
       "         1.57873451e+00, -6.81211723e-01, -7.26732423e-01,\n",
       "        -6.13967883e-01],\n",
       "       [-6.31119736e-01, -2.41555261e-01, -9.62407540e-01,\n",
       "        -1.32167543e-01, -5.88486138e-01, -5.30825017e-01,\n",
       "        -6.29639037e-01],\n",
       "       [-6.13833293e-01, -8.99389812e-01, -9.70307827e-01,\n",
       "        -5.14035180e-02, -6.81211723e-01, -6.25150805e-01,\n",
       "        -5.51283267e-01],\n",
       "       [-8.29913829e-01, -9.56592816e-01, -1.04042288e+00,\n",
       "        -1.39962938e+00, -6.81211723e-01, -8.06546551e-01,\n",
       "        -7.70679423e-01],\n",
       "       [-7.47470793e-01, -1.24260784e+00, -1.11053793e+00,\n",
       "        -8.83425356e-01, -6.81211723e-01, -6.97709104e-01,\n",
       "        -7.86350576e-01],\n",
       "       [-8.15951702e-01, -1.29981084e+00, -1.15201444e+00,\n",
       "        -1.23200593e+00, -6.81211723e-01, -7.99290721e-01,\n",
       "        -7.70679423e-01],\n",
       "       [-4.68228254e-01, -1.24260784e+00, -1.17966544e+00,\n",
       "        -6.17132652e-01, -6.81211723e-01, -4.29243399e-01,\n",
       "        -5.19940959e-01],\n",
       "       [-8.05313891e-01, -1.07099882e+00, -1.27051875e+00,\n",
       "        -1.00304754e+00, -6.81211723e-01, -7.77523232e-01,\n",
       "        -7.70679423e-01],\n",
       "       [-5.82584723e-01, -6.41976292e-01, -1.28631932e+00,\n",
       "        -6.54847928e-01, -6.81211723e-01, -5.67104166e-01,\n",
       "        -6.29639037e-01],\n",
       "       [-8.14621975e-01, -1.41421685e+00, -1.31989555e+00,\n",
       "        -1.22667246e+00, -6.81211723e-01, -7.84779062e-01,\n",
       "        -7.70679423e-01],\n",
       "       [-8.35897597e-01, -1.47141986e+00, -1.33668366e+00,\n",
       "        -1.17219484e+00, -6.81211723e-01, -7.99290721e-01,\n",
       "        -7.86350576e-01],\n",
       "       [-8.43875956e-01, -1.67163037e+00, -1.73169803e+00,\n",
       "        -2.07888530e+00, -6.81211723e-01, -8.13802381e-01,\n",
       "        -7.86350576e-01],\n",
       "       [-8.41216503e-01, -1.67163037e+00, -1.90254174e+00,\n",
       "        -1.84154574e+00, -6.81211723e-01, -8.06546551e-01,\n",
       "        -8.02021730e-01],\n",
       "       [-8.56508356e-01, -1.92904389e+00, -2.35680827e+00,\n",
       "        -4.86295838e+00, -6.81211723e-01, -8.21058211e-01,\n",
       "        -8.02021730e-01],\n",
       "       [-8.55843493e-01, -1.90044239e+00, -2.35680827e+00,\n",
       "        -1.05333458e+00, -6.81211723e-01, -8.21058211e-01,\n",
       "        -8.02021730e-01],\n",
       "       [-8.56508356e-01, -1.92904389e+00, -2.35680827e+00,\n",
       "        -4.86295838e+00, -6.81211723e-01, -8.21058211e-01,\n",
       "        -8.02021730e-01],\n",
       "       [-8.43211093e-01, -1.35701385e+00, -2.35680827e+00,\n",
       "         1.48654161e+00, -6.81211723e-01, -8.06546551e-01,\n",
       "        -7.86350576e-01]])"
      ]
     },
     "execution_count": 34,
     "metadata": {},
     "output_type": "execute_result"
    }
   ],
   "source": [
    "X_train_1 ### scaled dataset"
   ]
  },
  {
   "cell_type": "markdown",
   "id": "d8d4deb8",
   "metadata": {},
   "source": [
    "# Beta Values or Eigen Vector \n",
    "Z1 = Beta1*x1+Beta2*X2 + beta3*X3 + ..... + beta13*X13"
   ]
  },
  {
   "cell_type": "code",
   "execution_count": 35,
   "id": "a5267fbf",
   "metadata": {},
   "outputs": [
    {
     "data": {
      "text/plain": [
       "array([[ 0.4235031 ,  0.38979933,  0.35273304,  0.18910616,  0.41416174,\n",
       "         0.41469154,  0.40622759],\n",
       "       [ 0.24021874, -0.23657986, -0.36507751, -0.77560058,  0.25768755,\n",
       "         0.26543378,  0.12095085]])"
      ]
     },
     "execution_count": 35,
     "metadata": {},
     "output_type": "execute_result"
    }
   ],
   "source": [
    "principalComponents.components_   ##  BETA VALUES  Z1 , Z2 "
   ]
  },
  {
   "cell_type": "markdown",
   "id": "f0b70ca5",
   "metadata": {},
   "source": [
    "### Renaming the Columns  \n",
    "\n",
    "* Prediction for data to get data reduction "
   ]
  },
  {
   "cell_type": "code",
   "execution_count": 36,
   "id": "c5eeb984",
   "metadata": {},
   "outputs": [
    {
     "data": {
      "text/plain": [
       "array([[-7.20876266e-01,  1.30264267e-01,  2.67962497e+00,\n",
       "        -2.64361488e-01, -4.03034968e-01, -7.04964933e-01,\n",
       "        -7.07994807e-01],\n",
       "       [ 9.03384502e-01,  1.84635440e+00,  2.07327791e+00,\n",
       "         3.10891705e-01,  1.26602556e+00,  8.76805973e-01,\n",
       "         8.27778280e-01],\n",
       "       [ 2.63668283e+00,  1.67474539e+00,  1.86194522e+00,\n",
       "         5.29183149e-01,  3.76961636e+00,  2.88667084e+00,\n",
       "         2.23818214e+00],\n",
       "       [-3.31266438e-01,  1.33152736e+00,  1.74936612e+00,\n",
       "         5.59660139e-01, -2.17583798e-01, -2.47847653e-01,\n",
       "        -3.16215958e-01],\n",
       "       [ 2.31621878e+00,  3.07621899e+00,  1.70591454e+00,\n",
       "         8.55667909e-01,  2.19328141e+00,  1.96518045e+00,\n",
       "         4.66721100e+00],\n",
       "       [ 2.22313793e+00,  4.73482294e-01,  1.69110150e+00,\n",
       "         3.47083131e-01,  1.45147673e+00,  1.45001653e+00,\n",
       "         2.58294752e+00],\n",
       "       [ 2.36741324e+00,  1.87495590e+00,  1.63382442e+00,\n",
       "         9.24241137e-01,  2.84236051e+00,  2.00871543e+00,\n",
       "         2.88069945e+00],\n",
       "       [ 2.19905145e-01,  6.16489805e-01,  1.54297111e+00,\n",
       "         2.72414505e-01,  7.09672051e-01,  1.65734648e-01,\n",
       "         4.42205829e-02],\n",
       "       [ 3.05155746e+00,  1.30292586e+00,  1.41261637e+00,\n",
       "         1.17743779e-01,  2.93508609e+00,  2.82862420e+00,\n",
       "         2.34788021e+00],\n",
       "       [ 6.94617461e-01,  9.59707831e-01,  1.13413124e+00,\n",
       "         6.09803841e-02,  3.38769711e-01,  7.17177716e-01,\n",
       "         1.06905199e-01],\n",
       "       [ 5.25742212e-01,  1.73194839e+00,  1.12326834e+00,\n",
       "         9.26526911e-01,  4.31495296e-01,  5.06758651e-01,\n",
       "         8.12107127e-01],\n",
       "       [ 2.83067148e-01,  7.88098818e-01,  1.09759241e+00,\n",
       "         8.34714978e-01,  3.38769711e-01,  3.90665373e-01,\n",
       "         4.04657124e-01],\n",
       "       [ 2.59812077e+00,  1.10271534e+00,  1.01858953e+00,\n",
       "        -3.00696247e-02,  3.12053726e+00,  3.46713723e+00,\n",
       "         8.90462896e-01],\n",
       "       [-5.48347560e-03,  7.30895814e-01,  9.69212738e-01,\n",
       "         4.95658460e-01,  2.46044126e-01,  1.07688009e-01,\n",
       "         1.85260968e-01],\n",
       "       [ 3.73488542e-01,  9.59707831e-01,  9.65262594e-01,\n",
       "         4.24037532e-01,  1.53318541e-01,  9.31763496e-02,\n",
       "         5.61368663e-01],\n",
       "       [-2.32201823e-01,  2.44670276e-01,  9.55387235e-01,\n",
       "        -9.33093798e-02, -3.21326285e-02, -1.89801014e-01,\n",
       "        -4.25914036e-01],\n",
       "       [ 2.71247724e+00,  9.31106329e-01,  9.35636516e-01,\n",
       "         3.60416815e-01,  2.84236051e+00,  2.75606590e+00,\n",
       "         2.23818214e+00],\n",
       "       [ 6.74006703e-01,  8.16700320e-01,  8.91197399e-01,\n",
       "         6.09803841e-02,  8.02397636e-01,  6.66386907e-01,\n",
       "         3.41972508e-01],\n",
       "       [-5.10114635e-01,  2.73271778e-01,  8.58608714e-01,\n",
       "         1.43815939e+00, -4.95760553e-01, -5.88871656e-01,\n",
       "        -1.90846726e-01],\n",
       "       [-8.35232734e-01, -1.29981084e+00,  8.03306702e-01,\n",
       "         4.37371216e-01, -6.81211723e-01, -8.21058211e-01,\n",
       "        -7.55008269e-01],\n",
       "       [ 1.75839856e+00,  1.07411384e+00,  7.75655696e-01,\n",
       "        -2.38456047e-01,  1.91510466e+00,  2.19736700e+00,\n",
       "         3.88985970e-01],\n",
       "       [ 4.45958629e-01,  1.15991835e+00,  7.63805264e-01,\n",
       "         2.24413245e-01,  6.16946466e-01,  6.37363588e-01,\n",
       "         3.88985970e-01],\n",
       "       [-5.42028068e-01,  1.87467272e-01,  7.56892513e-01,\n",
       "        -1.08547875e-01, -2.17583798e-01, -4.51010889e-01,\n",
       "        -6.76652499e-01],\n",
       "       [ 6.06190657e-01,  8.16700320e-01,  7.47017154e-01,\n",
       "        -6.01656527e-02,  8.02397636e-01,  5.50293630e-01,\n",
       "         4.98684048e-01],\n",
       "       [ 2.62072612e+00,  1.18851985e+00,  7.36154258e-01,\n",
       "         1.13172230e-01,  2.93508609e+00,  2.50211186e+00,\n",
       "         2.53593406e+00],\n",
       "       [-6.13168429e-01, -4.13164274e-01,  6.55176312e-01,\n",
       "         2.63271408e-01, -5.88486138e-01, -6.46918295e-01,\n",
       "        -4.88598651e-01],\n",
       "       [ 4.89174736e-01,  3.30474783e-01,  6.26537770e-01,\n",
       "         2.63652370e-01,  3.38769711e-01,  7.82480185e-01,\n",
       "         1.06905199e-01],\n",
       "       [ 4.03920844e-02,  6.73692809e-01,  6.03824444e-01,\n",
       "         1.20462945e+00, -3.10309383e-01, -1.97056844e-01,\n",
       "         6.55395587e-01],\n",
       "       [ 1.15337306e+00,  4.44880792e-01,  5.98886764e-01,\n",
       "         8.46905774e-01,  7.09672051e-01,  6.01084439e-01,\n",
       "         2.30086675e+00],\n",
       "       [ 1.52089100e-01,  5.87888303e-01,  5.81111118e-01,\n",
       "         2.08312870e+00,  6.05929565e-02, -5.91960772e-02,\n",
       "         1.21955713e+00],\n",
       "       [-4.21687831e-01, -1.27149252e-01,  5.79136046e-01,\n",
       "         3.07410237e-03, -4.03034968e-01, -5.01801698e-01,\n",
       "        -4.10242882e-01],\n",
       "       [ 1.31626454e+00,  1.33152736e+00,  5.77160974e-01,\n",
       "        -2.27789100e-01,  9.87848806e-01,  1.26136495e+00,\n",
       "         6.55395587e-01],\n",
       "       [ 1.57622605e+00,  9.31106329e-01,  5.57410255e-01,\n",
       "        -5.94037279e-02,  1.08057439e+00,  1.41373738e+00,\n",
       "         1.26657059e+00],\n",
       "       [-5.13590356e-02,  9.02504827e-01,  4.90257812e-01,\n",
       "         3.50130831e-01, -3.21326285e-02, -9.54752264e-02,\n",
       "         2.00932122e-01],\n",
       "       [-2.12255927e-01,  1.87467272e-01,  4.57669126e-01,\n",
       "         1.98364471e-02, -2.17583798e-01, -1.89801014e-01,\n",
       "        -3.78900574e-01],\n",
       "       [-3.07996226e-01, -6.99462479e-02,  4.52731447e-01,\n",
       "         3.66512213e-01, -3.10309383e-01, -3.49429271e-01,\n",
       "        -2.69202496e-01],\n",
       "       [ 2.20651635e+00,  5.59286800e-01,  4.00392043e-01,\n",
       "         8.91716002e-02,  1.54420232e+00,  2.47308854e+00,\n",
       "         1.75237636e+00],\n",
       "       [ 8.61498122e-01,  9.88309333e-01,  3.86566540e-01,\n",
       "         2.32413455e-01,  5.24220881e-01,  5.64805290e-01,\n",
       "         1.00016097e+00],\n",
       "       [ 9.89000449e-02,  5.59286800e-01,  3.71753501e-01,\n",
       "         3.01748608e-01,  3.38769711e-01,  1.00432179e-01,\n",
       "         3.26301354e-01],\n",
       "       [ 6.03379800e-02, -1.84352257e-01,  3.66815821e-01,\n",
       "        -2.82647683e-01, -3.21326285e-02, -8.82193965e-02,\n",
       "        -4.98063408e-02],\n",
       "       [-7.86032858e-01, -3.84562772e-01,  2.60161941e-01,\n",
       "        -3.75983466e-01, -5.88486138e-01, -7.63011572e-01,\n",
       "        -7.55008269e-01],\n",
       "       [-2.44834223e-01,  1.13131684e+00,  2.39423686e-01,\n",
       "         2.83843376e-01, -4.95760553e-01, -2.47847653e-01,\n",
       "        -3.00544804e-01],\n",
       "       [ 1.68526361e+00,  8.45301822e-01,  2.11772680e-01,\n",
       "         7.58379169e-02,  1.08057439e+00,  1.91438964e+00,\n",
       "         8.43449434e-01],\n",
       "       [-5.63303690e-01, -1.27432436e-02,  2.04859929e-01,\n",
       "         4.70514943e-01, -5.88486138e-01, -4.58266719e-01,\n",
       "        -6.29639037e-01],\n",
       "       [ 4.59255893e-01,  1.36012886e+00,  1.81159066e-01,\n",
       "         1.66506963e-01,  6.05929565e-02,  5.14014481e-01,\n",
       "         2.00932122e-01],\n",
       "       [-1.08023811e-02,  1.58582586e-02,  1.55483132e-01,\n",
       "        -5.06415932e-02, -2.17583798e-01, -6.64519070e-02,\n",
       "         1.06905199e-01],\n",
       "       [ 5.78931267e-01, -4.98968781e-01,  1.51532988e-01,\n",
       "        -4.18794585e-02, -5.88486138e-01,  3.18107075e-01,\n",
       "         3.88985970e-01],\n",
       "       [-1.99623527e-01,  7.30895814e-01,  1.44620237e-01,\n",
       "         2.72033543e-01, -2.17583798e-01, -1.31754376e-01,\n",
       "        -2.22189034e-01],\n",
       "       [-1.91645168e-01,  5.30685298e-01,  5.17918596e-02,\n",
       "         5.63850726e-01, -5.88486138e-01, -1.31754376e-01,\n",
       "        -1.75175572e-01],\n",
       "       [ 1.27489162e-01,  4.44880792e-01,  3.89538925e-02,\n",
       "         2.70747323e-02,  2.46044126e-01,  3.39874564e-01,\n",
       "        -1.90846726e-01],\n",
       "       [-4.90168740e-01,  4.16279289e-01,  9.32781462e-03,\n",
       "         1.15167568e+00, -4.95760553e-01, -5.38080847e-01,\n",
       "        -3.31887112e-01],\n",
       "       [-1.83666810e-01,  7.88098818e-01, -3.31362303e-02,\n",
       "         1.56982904e-01, -4.03034968e-01, -1.17242716e-01,\n",
       "        -1.90846726e-01],\n",
       "       [-6.69681800e-01, -3.55961270e-01, -4.39991256e-02,\n",
       "         5.98899265e-01, -4.95760553e-01, -6.39662465e-01,\n",
       "        -5.66954421e-01],\n",
       "       [-8.09967933e-01, -6.70577794e-01, -5.28869489e-02,\n",
       "         6.92616010e-01, -6.81211723e-01, -7.77523232e-01,\n",
       "        -7.23665961e-01],\n",
       "       [-9.78994587e-02,  4.44597608e-02, -1.03251281e-01,\n",
       "        -1.32929467e-01, -3.10309383e-01, -1.02731056e-01,\n",
       "        -2.06517880e-01],\n",
       "       [ 1.34137794e-01,  7.30612630e-02, -1.26952144e-01,\n",
       "         2.21222214e-02, -2.17583798e-01,  2.78738810e-02,\n",
       "         1.53918661e-01],\n",
       "       [-7.82708542e-01, -9.85194318e-01, -1.64478509e-01,\n",
       "         1.64273619e+00, -6.81211723e-01, -7.63011572e-01,\n",
       "        -7.07994807e-01],\n",
       "       [ 1.44110742e-01,  7.88098818e-01, -1.71391260e-01,\n",
       "         1.02976772e+00, -1.24858213e-01,  3.51297108e-02,\n",
       "         6.24053279e-01],\n",
       "       [ 2.46499673e-01,  2.73271778e-01, -1.72378796e-01,\n",
       "        -1.28738881e-01, -1.24858213e-01,  4.12432863e-01,\n",
       "        -2.22189034e-01],\n",
       "       [-3.07331363e-01,  9.02504827e-01, -2.09905162e-01,\n",
       "         4.61371845e-01, -1.24858213e-01, -1.02731056e-01,\n",
       "        -3.78900574e-01],\n",
       "       [-6.98270918e-01, -8.13585305e-01, -2.19780521e-01,\n",
       "         1.56730563e+00, -6.81211723e-01, -7.12220763e-01,\n",
       "        -5.04269805e-01],\n",
       "       [-3.60520418e-01, -4.13447458e-02, -2.52369207e-01,\n",
       "        -3.76888723e-02, -4.95760553e-01, -3.13150122e-01,\n",
       "        -4.88598651e-01],\n",
       "       [ 2.69769884e-01,  1.10271534e+00, -2.65207174e-01,\n",
       "         2.62890446e-01, -3.21326285e-02,  3.54386224e-01,\n",
       "         2.47945584e-01],\n",
       "       [-6.73670980e-01,  2.16068774e-01, -2.68169781e-01,\n",
       "         4.28228118e-01, -5.88486138e-01, -7.12220763e-01,\n",
       "        -5.04269805e-01],\n",
       "       [-6.51065631e-01, -4.13447458e-02, -3.22484258e-01,\n",
       "         1.17377150e+00, -4.03034968e-01, -6.68685784e-01,\n",
       "        -4.41585190e-01],\n",
       "       [-5.97211713e-01, -4.70367279e-01, -3.29397009e-01,\n",
       "        -1.06323960e+00, -5.88486138e-01, -4.58266719e-01,\n",
       "        -7.39337115e-01],\n",
       "       [-6.92952012e-01, -4.98968781e-01, -3.32359617e-01,\n",
       "        -2.46456257e-01, -5.88486138e-01, -6.54174125e-01,\n",
       "        -6.76652499e-01],\n",
       "       [-8.04649028e-01, -9.85194318e-01, -4.31113210e-01,\n",
       "        -1.00380947e+00, -6.81211723e-01, -7.55755742e-01,\n",
       "        -7.86350576e-01],\n",
       "       [-8.31243555e-01, -1.47141986e+00, -4.80490006e-01,\n",
       "        -1.93121523e-01, -6.81211723e-01, -7.84779062e-01,\n",
       "        -8.02021730e-01],\n",
       "       [-2.49488266e-01, -6.70577794e-01, -5.53567665e-01,\n",
       "         1.55025285e-03, -6.81211723e-01, -4.36499229e-01,\n",
       "        -1.28162111e-01],\n",
       "       [-7.61432920e-01, -6.13374790e-01, -5.91094030e-01,\n",
       "         6.96044672e-01, -6.81211723e-01, -7.48499913e-01,\n",
       "        -6.76652499e-01],\n",
       "       [-6.34444051e-01, -3.27359768e-01, -6.20720108e-01,\n",
       "         2.26699019e-01, -4.03034968e-01, -5.96127486e-01,\n",
       "        -6.45310191e-01],\n",
       "       [-7.98665259e-01, -5.84773288e-01, -6.38495755e-01,\n",
       "        -6.13703991e-01, -6.81211723e-01, -7.84779062e-01,\n",
       "        -7.55008269e-01],\n",
       "       [-7.06914139e-01, -8.42186807e-01, -6.47383578e-01,\n",
       "        -5.11987035e-01, -6.81211723e-01, -7.55755742e-01,\n",
       "        -5.82625575e-01],\n",
       "       [-5.59979374e-01, -8.13585305e-01, -6.63184153e-01,\n",
       "        -3.19981996e-01, -6.81211723e-01, -6.61429954e-01,\n",
       "        -5.04269805e-01],\n",
       "       [-7.65422100e-01, -9.85194318e-01, -6.66146761e-01,\n",
       "         3.04415345e-01, -6.81211723e-01, -7.41244083e-01,\n",
       "        -7.23665961e-01],\n",
       "       [-7.32843803e-01, -9.27991314e-01, -6.86885015e-01,\n",
       "        -7.50231855e-02, -6.81211723e-01, -7.12220763e-01,\n",
       "        -7.07994807e-01],\n",
       "       [-7.44146477e-01, -1.15680333e+00, -6.87872551e-01,\n",
       "        -1.97693072e-01, -6.81211723e-01, -7.77523232e-01,\n",
       "        -6.13967883e-01],\n",
       "       [-4.40968864e-01, -1.55750755e-01, -6.88860087e-01,\n",
       "         6.66948198e-02, -4.95760553e-01, -5.88871656e-01,\n",
       "        -3.47558266e-01],\n",
       "       [-8.34567871e-01, -9.85194318e-01, -7.27373988e-01,\n",
       "        -5.27987455e-01, -6.81211723e-01, -7.92034892e-01,\n",
       "        -8.02021730e-01],\n",
       "       [-7.59438331e-01, -1.04239732e+00, -7.55024995e-01,\n",
       "         7.55093840e-01, -6.81211723e-01, -7.26732423e-01,\n",
       "        -6.92323653e-01],\n",
       "       [-7.87362585e-01, -1.18540483e+00, -8.89329881e-01,\n",
       "        -1.46263151e-01, -6.81211723e-01, -7.55755742e-01,\n",
       "        -7.23665961e-01],\n",
       "       [-7.68081552e-01, -4.70367279e-01, -8.97230168e-01,\n",
       "        -2.98267140e-01, -5.88486138e-01, -7.55755742e-01,\n",
       "        -7.39337115e-01],\n",
       "       [-6.61703442e-01, -4.41765777e-01, -9.10068135e-01,\n",
       "        -1.07924002e+00, -5.88486138e-01, -5.88871656e-01,\n",
       "        -7.55008269e-01],\n",
       "       [-7.32843803e-01, -9.85194318e-01, -9.43644357e-01,\n",
       "         1.57873451e+00, -6.81211723e-01, -7.26732423e-01,\n",
       "        -6.13967883e-01],\n",
       "       [-6.31119736e-01, -2.41555261e-01, -9.62407540e-01,\n",
       "        -1.32167543e-01, -5.88486138e-01, -5.30825017e-01,\n",
       "        -6.29639037e-01],\n",
       "       [-6.13833293e-01, -8.99389812e-01, -9.70307827e-01,\n",
       "        -5.14035180e-02, -6.81211723e-01, -6.25150805e-01,\n",
       "        -5.51283267e-01],\n",
       "       [-8.29913829e-01, -9.56592816e-01, -1.04042288e+00,\n",
       "        -1.39962938e+00, -6.81211723e-01, -8.06546551e-01,\n",
       "        -7.70679423e-01],\n",
       "       [-7.47470793e-01, -1.24260784e+00, -1.11053793e+00,\n",
       "        -8.83425356e-01, -6.81211723e-01, -6.97709104e-01,\n",
       "        -7.86350576e-01],\n",
       "       [-8.15951702e-01, -1.29981084e+00, -1.15201444e+00,\n",
       "        -1.23200593e+00, -6.81211723e-01, -7.99290721e-01,\n",
       "        -7.70679423e-01],\n",
       "       [-4.68228254e-01, -1.24260784e+00, -1.17966544e+00,\n",
       "        -6.17132652e-01, -6.81211723e-01, -4.29243399e-01,\n",
       "        -5.19940959e-01],\n",
       "       [-8.05313891e-01, -1.07099882e+00, -1.27051875e+00,\n",
       "        -1.00304754e+00, -6.81211723e-01, -7.77523232e-01,\n",
       "        -7.70679423e-01],\n",
       "       [-5.82584723e-01, -6.41976292e-01, -1.28631932e+00,\n",
       "        -6.54847928e-01, -6.81211723e-01, -5.67104166e-01,\n",
       "        -6.29639037e-01],\n",
       "       [-8.14621975e-01, -1.41421685e+00, -1.31989555e+00,\n",
       "        -1.22667246e+00, -6.81211723e-01, -7.84779062e-01,\n",
       "        -7.70679423e-01],\n",
       "       [-8.35897597e-01, -1.47141986e+00, -1.33668366e+00,\n",
       "        -1.17219484e+00, -6.81211723e-01, -7.99290721e-01,\n",
       "        -7.86350576e-01],\n",
       "       [-8.43875956e-01, -1.67163037e+00, -1.73169803e+00,\n",
       "        -2.07888530e+00, -6.81211723e-01, -8.13802381e-01,\n",
       "        -7.86350576e-01],\n",
       "       [-8.41216503e-01, -1.67163037e+00, -1.90254174e+00,\n",
       "        -1.84154574e+00, -6.81211723e-01, -8.06546551e-01,\n",
       "        -8.02021730e-01],\n",
       "       [-8.56508356e-01, -1.92904389e+00, -2.35680827e+00,\n",
       "        -4.86295838e+00, -6.81211723e-01, -8.21058211e-01,\n",
       "        -8.02021730e-01],\n",
       "       [-8.55843493e-01, -1.90044239e+00, -2.35680827e+00,\n",
       "        -1.05333458e+00, -6.81211723e-01, -8.21058211e-01,\n",
       "        -8.02021730e-01],\n",
       "       [-8.56508356e-01, -1.92904389e+00, -2.35680827e+00,\n",
       "        -4.86295838e+00, -6.81211723e-01, -8.21058211e-01,\n",
       "        -8.02021730e-01],\n",
       "       [-8.43211093e-01, -1.35701385e+00, -2.35680827e+00,\n",
       "         1.48654161e+00, -6.81211723e-01, -8.06546551e-01,\n",
       "        -7.86350576e-01]])"
      ]
     },
     "execution_count": 36,
     "metadata": {},
     "output_type": "execute_result"
    }
   ],
   "source": [
    "X_train_1  # scaled data"
   ]
  },
  {
   "cell_type": "code",
   "execution_count": 37,
   "id": "6eed5a23",
   "metadata": {},
   "outputs": [
    {
     "data": {
      "text/plain": [
       "array([[-0.1061882 , -1.35382895],\n",
       "       [ 3.11660874, -0.55874186],\n",
       "       [ 6.19381954,  1.15529372],\n",
       "       [ 0.78027967, -1.62741828],\n",
       "       [ 6.56284523,  0.19348987],\n",
       "       [ 4.03993207,  0.60676257],\n",
       "       [ 5.66496079,  0.42585061],\n",
       "       [ 1.30982137, -0.63539889],\n",
       "       [ 5.6631468 ,  1.60888434],\n",
       "       [ 1.56098426, -0.23093943],\n",
       "       [ 2.18794926, -1.06821892],\n",
       "       [ 1.43878102, -0.92662585],\n",
       "       [ 4.97568393,  1.84681614],\n",
       "       [ 0.94000334, -0.79810921],\n",
       "       [ 1.2831167 , -0.68646957],\n",
       "       [ 0.05135038, -0.50025731],\n",
       "       [ 5.1391996 ,  1.54489146],\n",
       "       [ 1.67726578,  0.02105299],\n",
       "       [-0.06174186, -1.92322651],\n",
       "       [-1.42364954, -1.01041933],\n",
       "       [ 3.25429139,  1.19386103],\n",
       "       [ 1.63069927, -0.24498343],\n",
       "       [-0.46204222, -0.62431477],\n",
       "       [ 1.59029653,  0.13949952],\n",
       "       [ 5.13760872,  1.7190414 ],\n",
       "       [-0.85032354, -0.87538774],\n",
       "       [ 1.11506593, -0.08597483],\n",
       "       [ 0.77650655, -1.357431  ],\n",
       "       [ 2.51113274, -0.08297515],\n",
       "       [ 1.38844316, -1.78296643],\n",
       "       [-0.5649536 , -0.57170163],\n",
       "       [ 2.43542432,  0.63577959],\n",
       "       [ 2.76417805,  0.80783067],\n",
       "       [ 0.59791039, -0.68571526],\n",
       "       [-0.17437383, -0.43008528],\n",
       "       [-0.31148041, -0.71226121],\n",
       "       [ 3.68755256,  1.44870928],\n",
       "       [ 1.78802023,  0.05772107],\n",
       "       [ 0.7625928 , -0.32489233],\n",
       "       [-0.04049407,  0.10569314],\n",
       "       [-1.32897081, -0.34669978],\n",
       "       [ 0.0452327 , -0.86390745],\n",
       "       [ 2.71629926,  0.95732732],\n",
       "       [-0.77183454, -0.92146312],\n",
       "       [ 1.1399388 , -0.23038345],\n",
       "       [-0.02736999, -0.08460937],\n",
       "       [ 0.14241722,  0.21411555],\n",
       "       [ 0.06780544, -0.60257016],\n",
       "       [-0.11893222, -0.83562246],\n",
       "       [ 0.41158458,  0.02068871],\n",
       "       [-0.38752773, -1.4235949 ],\n",
       "       [-0.04565332, -0.4982876 ],\n",
       "       [-1.02553037, -0.89121335],\n",
       "       [-1.39062893, -1.02325855],\n",
       "       [-0.34070149, -0.02545035],\n",
       "       [ 0.02866042,  0.01407358],\n",
       "       [-1.34902634, -1.63270527],\n",
       "       [ 0.71887595, -0.83531758],\n",
       "       [ 0.15482712,  0.20777007],\n",
       "       [-0.0133853 , -0.67382088],\n",
       "       [-1.17632366, -1.5362052 ],\n",
       "       [-0.79861184, -0.22542496],\n",
       "       [ 0.73462815, -0.18737814],\n",
       "       [-0.95861872, -0.848862  ],\n",
       "       [-0.80723198, -1.27402193],\n",
       "       [-1.48763113,  0.5500142 ],\n",
       "       [-1.44168946, -0.14305262],\n",
       "       [-1.98166851,  0.50447765],\n",
       "       [-2.06497428, -0.00722258],\n",
       "       [-1.07722563, -0.00729657],\n",
       "       [-1.50583766, -0.81791449],\n",
       "       [-1.24864544, -0.36431585],\n",
       "       [-1.82173346,  0.18041529],\n",
       "       [-1.78505359,  0.2162611 ],\n",
       "       [-1.60999508,  0.1361547 ],\n",
       "       [-1.76908443, -0.40352013],\n",
       "       [-1.79365718, -0.09776427],\n",
       "       [-1.90006468,  0.04319545],\n",
       "       [-1.06854743, -0.19541793],\n",
       "       [-2.03027003,  0.22487575],\n",
       "       [-1.71622221, -0.69800594],\n",
       "       [-2.02638622,  0.06574888],\n",
       "       [-1.73899373,  0.04399446],\n",
       "       [-1.77216922,  0.71559304],\n",
       "       [-1.56160813, -1.26562881],\n",
       "       [-1.44553971, -0.00929693],\n",
       "       [-1.72784525,  0.05127531],\n",
       "       [-2.28569149,  1.00949928],\n",
       "       [-2.25061169,  0.74919202],\n",
       "       [-2.41821911,  1.00670839],\n",
       "       [-1.88682418,  0.73845377],\n",
       "       [-2.31399934,  0.8265923 ],\n",
       "       [-1.84761335,  0.58721382],\n",
       "       [-2.51444211,  1.09509883],\n",
       "       [-2.55375368,  1.06164987],\n",
       "       [-2.9519877 ,  1.95068772],\n",
       "       [-2.96959839,  1.82964757],\n",
       "       [-3.81403458,  4.39227305],\n",
       "       [-3.08218082,  1.43091978],\n",
       "       [-3.81403458,  4.39227305],\n",
       "       [-2.37231273, -0.65879206]])"
      ]
     },
     "execution_count": 37,
     "metadata": {},
     "output_type": "execute_result"
    }
   ],
   "source": [
    "transformed_data=principalComponents.fit_transform(X_train_1)  ### only give data which is transformed ( principal component)\n",
    "transformed_data"
   ]
  },
  {
   "cell_type": "code",
   "execution_count": 38,
   "id": "b09c2d4a",
   "metadata": {},
   "outputs": [
    {
     "name": "stdout",
     "output_type": "stream",
     "text": [
      "original shape:    (101, 7)\n",
      "transformed shape: (101, 2)\n"
     ]
    }
   ],
   "source": [
    "print(\"original shape:   \", X_train_1.shape)\n",
    "print(\"transformed shape:\", transformed_data.shape)"
   ]
  },
  {
   "cell_type": "code",
   "execution_count": 39,
   "id": "a6857fcc",
   "metadata": {},
   "outputs": [
    {
     "data": {
      "text/html": [
       "<div>\n",
       "<style scoped>\n",
       "    .dataframe tbody tr th:only-of-type {\n",
       "        vertical-align: middle;\n",
       "    }\n",
       "\n",
       "    .dataframe tbody tr th {\n",
       "        vertical-align: top;\n",
       "    }\n",
       "\n",
       "    .dataframe thead th {\n",
       "        text-align: right;\n",
       "    }\n",
       "</style>\n",
       "<table border=\"1\" class=\"dataframe\">\n",
       "  <thead>\n",
       "    <tr style=\"text-align: right;\">\n",
       "      <th></th>\n",
       "      <th>Data PC1</th>\n",
       "      <th>Data PC2</th>\n",
       "    </tr>\n",
       "  </thead>\n",
       "  <tbody>\n",
       "    <tr>\n",
       "      <th>0</th>\n",
       "      <td>-0.106188</td>\n",
       "      <td>-1.353829</td>\n",
       "    </tr>\n",
       "    <tr>\n",
       "      <th>1</th>\n",
       "      <td>3.116609</td>\n",
       "      <td>-0.558742</td>\n",
       "    </tr>\n",
       "    <tr>\n",
       "      <th>2</th>\n",
       "      <td>6.193820</td>\n",
       "      <td>1.155294</td>\n",
       "    </tr>\n",
       "    <tr>\n",
       "      <th>3</th>\n",
       "      <td>0.780280</td>\n",
       "      <td>-1.627418</td>\n",
       "    </tr>\n",
       "    <tr>\n",
       "      <th>4</th>\n",
       "      <td>6.562845</td>\n",
       "      <td>0.193490</td>\n",
       "    </tr>\n",
       "  </tbody>\n",
       "</table>\n",
       "</div>"
      ],
      "text/plain": [
       "   Data PC1  Data PC2\n",
       "0 -0.106188 -1.353829\n",
       "1  3.116609 -0.558742\n",
       "2  6.193820  1.155294\n",
       "3  0.780280 -1.627418\n",
       "4  6.562845  0.193490"
      ]
     },
     "execution_count": 39,
     "metadata": {},
     "output_type": "execute_result"
    }
   ],
   "source": [
    "principalDf = pd.DataFrame(data = transformed_data\n",
    "             , columns = ['Data PC1', 'Data PC2'])\n",
    "principalDf.head()"
   ]
  },
  {
   "cell_type": "markdown",
   "id": "8e140399",
   "metadata": {},
   "source": [
    "# To check the Principal Component is uncorrelated / independent"
   ]
  },
  {
   "cell_type": "code",
   "execution_count": 40,
   "id": "2e6cd4f5",
   "metadata": {},
   "outputs": [
    {
     "data": {
      "text/html": [
       "<style type=\"text/css\">\n",
       "#T_188a3_row0_col0, #T_188a3_row1_col1 {\n",
       "  background-color: yellow;\n",
       "}\n",
       "</style>\n",
       "<table id=\"T_188a3\">\n",
       "  <thead>\n",
       "    <tr>\n",
       "      <th class=\"blank level0\" >&nbsp;</th>\n",
       "      <th id=\"T_188a3_level0_col0\" class=\"col_heading level0 col0\" >Data PC1</th>\n",
       "      <th id=\"T_188a3_level0_col1\" class=\"col_heading level0 col1\" >Data PC2</th>\n",
       "    </tr>\n",
       "  </thead>\n",
       "  <tbody>\n",
       "    <tr>\n",
       "      <th id=\"T_188a3_level0_row0\" class=\"row_heading level0 row0\" >Data PC1</th>\n",
       "      <td id=\"T_188a3_row0_col0\" class=\"data row0 col0\" >1.000000</td>\n",
       "      <td id=\"T_188a3_row0_col1\" class=\"data row0 col1\" >0.000000</td>\n",
       "    </tr>\n",
       "    <tr>\n",
       "      <th id=\"T_188a3_level0_row1\" class=\"row_heading level0 row1\" >Data PC2</th>\n",
       "      <td id=\"T_188a3_row1_col0\" class=\"data row1 col0\" >0.000000</td>\n",
       "      <td id=\"T_188a3_row1_col1\" class=\"data row1 col1\" >1.000000</td>\n",
       "    </tr>\n",
       "  </tbody>\n",
       "</table>\n"
      ],
      "text/plain": [
       "<pandas.io.formats.style.Styler at 0x1e9f4fbda60>"
      ]
     },
     "execution_count": 40,
     "metadata": {},
     "output_type": "execute_result"
    }
   ],
   "source": [
    "Correlation=round(principalDf.corr(),3)\n",
    "Correlation.style.applymap(lambda x: 'background-color : yellow' if x > 0.7 else '')"
   ]
  },
  {
   "cell_type": "markdown",
   "id": "58a0e70b",
   "metadata": {},
   "source": [
    "## Identify variable is combining together in Which PCA "
   ]
  },
  {
   "cell_type": "code",
   "execution_count": 41,
   "id": "c500c55d",
   "metadata": {},
   "outputs": [
    {
     "data": {
      "text/html": [
       "<div>\n",
       "<style scoped>\n",
       "    .dataframe tbody tr th:only-of-type {\n",
       "        vertical-align: middle;\n",
       "    }\n",
       "\n",
       "    .dataframe tbody tr th {\n",
       "        vertical-align: top;\n",
       "    }\n",
       "\n",
       "    .dataframe thead th {\n",
       "        text-align: right;\n",
       "    }\n",
       "</style>\n",
       "<table border=\"1\" class=\"dataframe\">\n",
       "  <thead>\n",
       "    <tr style=\"text-align: right;\">\n",
       "      <th></th>\n",
       "      <th>Runs</th>\n",
       "      <th>Highest</th>\n",
       "      <th>Average</th>\n",
       "      <th>Batting_strike_rate</th>\n",
       "      <th>Fifties</th>\n",
       "      <th>Fours</th>\n",
       "      <th>Sixes</th>\n",
       "    </tr>\n",
       "  </thead>\n",
       "  <tbody>\n",
       "    <tr>\n",
       "      <th>0</th>\n",
       "      <td>-0.720876</td>\n",
       "      <td>0.130264</td>\n",
       "      <td>2.679625</td>\n",
       "      <td>-0.264361</td>\n",
       "      <td>-0.403035</td>\n",
       "      <td>-0.704965</td>\n",
       "      <td>-0.707995</td>\n",
       "    </tr>\n",
       "    <tr>\n",
       "      <th>1</th>\n",
       "      <td>0.903385</td>\n",
       "      <td>1.846354</td>\n",
       "      <td>2.073278</td>\n",
       "      <td>0.310892</td>\n",
       "      <td>1.266026</td>\n",
       "      <td>0.876806</td>\n",
       "      <td>0.827778</td>\n",
       "    </tr>\n",
       "    <tr>\n",
       "      <th>2</th>\n",
       "      <td>2.636683</td>\n",
       "      <td>1.674745</td>\n",
       "      <td>1.861945</td>\n",
       "      <td>0.529183</td>\n",
       "      <td>3.769616</td>\n",
       "      <td>2.886671</td>\n",
       "      <td>2.238182</td>\n",
       "    </tr>\n",
       "    <tr>\n",
       "      <th>3</th>\n",
       "      <td>-0.331266</td>\n",
       "      <td>1.331527</td>\n",
       "      <td>1.749366</td>\n",
       "      <td>0.559660</td>\n",
       "      <td>-0.217584</td>\n",
       "      <td>-0.247848</td>\n",
       "      <td>-0.316216</td>\n",
       "    </tr>\n",
       "    <tr>\n",
       "      <th>4</th>\n",
       "      <td>2.316219</td>\n",
       "      <td>3.076219</td>\n",
       "      <td>1.705915</td>\n",
       "      <td>0.855668</td>\n",
       "      <td>2.193281</td>\n",
       "      <td>1.965180</td>\n",
       "      <td>4.667211</td>\n",
       "    </tr>\n",
       "  </tbody>\n",
       "</table>\n",
       "</div>"
      ],
      "text/plain": [
       "       Runs   Highest   Average  Batting_strike_rate   Fifties     Fours  \\\n",
       "0 -0.720876  0.130264  2.679625            -0.264361 -0.403035 -0.704965   \n",
       "1  0.903385  1.846354  2.073278             0.310892  1.266026  0.876806   \n",
       "2  2.636683  1.674745  1.861945             0.529183  3.769616  2.886671   \n",
       "3 -0.331266  1.331527  1.749366             0.559660 -0.217584 -0.247848   \n",
       "4  2.316219  3.076219  1.705915             0.855668  2.193281  1.965180   \n",
       "\n",
       "      Sixes  \n",
       "0 -0.707995  \n",
       "1  0.827778  \n",
       "2  2.238182  \n",
       "3 -0.316216  \n",
       "4  4.667211  "
      ]
     },
     "execution_count": 41,
     "metadata": {},
     "output_type": "execute_result"
    }
   ],
   "source": [
    "numeric_predictors_1=['Runs','Highest','Average','Batting_strike_rate','Fifties','Fours', 'Sixes']\n",
    "scaled_train=pd.DataFrame(X_train_1,columns=numeric_predictors_1)\n",
    "scaled_train.head()"
   ]
  },
  {
   "cell_type": "code",
   "execution_count": 42,
   "id": "1949b58b",
   "metadata": {},
   "outputs": [
    {
     "data": {
      "text/html": [
       "<div>\n",
       "<style scoped>\n",
       "    .dataframe tbody tr th:only-of-type {\n",
       "        vertical-align: middle;\n",
       "    }\n",
       "\n",
       "    .dataframe tbody tr th {\n",
       "        vertical-align: top;\n",
       "    }\n",
       "\n",
       "    .dataframe thead th {\n",
       "        text-align: right;\n",
       "    }\n",
       "</style>\n",
       "<table border=\"1\" class=\"dataframe\">\n",
       "  <thead>\n",
       "    <tr style=\"text-align: right;\">\n",
       "      <th></th>\n",
       "      <th>Runs</th>\n",
       "      <th>Highest</th>\n",
       "      <th>Average</th>\n",
       "      <th>Batting_strike_rate</th>\n",
       "      <th>Fifties</th>\n",
       "      <th>Fours</th>\n",
       "      <th>Sixes</th>\n",
       "      <th>Data PC1</th>\n",
       "      <th>Data PC2</th>\n",
       "    </tr>\n",
       "  </thead>\n",
       "  <tbody>\n",
       "    <tr>\n",
       "      <th>0</th>\n",
       "      <td>-0.720876</td>\n",
       "      <td>0.130264</td>\n",
       "      <td>2.679625</td>\n",
       "      <td>-0.264361</td>\n",
       "      <td>-0.403035</td>\n",
       "      <td>-0.704965</td>\n",
       "      <td>-0.707995</td>\n",
       "      <td>-0.106188</td>\n",
       "      <td>-1.353829</td>\n",
       "    </tr>\n",
       "    <tr>\n",
       "      <th>1</th>\n",
       "      <td>0.903385</td>\n",
       "      <td>1.846354</td>\n",
       "      <td>2.073278</td>\n",
       "      <td>0.310892</td>\n",
       "      <td>1.266026</td>\n",
       "      <td>0.876806</td>\n",
       "      <td>0.827778</td>\n",
       "      <td>3.116609</td>\n",
       "      <td>-0.558742</td>\n",
       "    </tr>\n",
       "    <tr>\n",
       "      <th>2</th>\n",
       "      <td>2.636683</td>\n",
       "      <td>1.674745</td>\n",
       "      <td>1.861945</td>\n",
       "      <td>0.529183</td>\n",
       "      <td>3.769616</td>\n",
       "      <td>2.886671</td>\n",
       "      <td>2.238182</td>\n",
       "      <td>6.193820</td>\n",
       "      <td>1.155294</td>\n",
       "    </tr>\n",
       "    <tr>\n",
       "      <th>3</th>\n",
       "      <td>-0.331266</td>\n",
       "      <td>1.331527</td>\n",
       "      <td>1.749366</td>\n",
       "      <td>0.559660</td>\n",
       "      <td>-0.217584</td>\n",
       "      <td>-0.247848</td>\n",
       "      <td>-0.316216</td>\n",
       "      <td>0.780280</td>\n",
       "      <td>-1.627418</td>\n",
       "    </tr>\n",
       "    <tr>\n",
       "      <th>4</th>\n",
       "      <td>2.316219</td>\n",
       "      <td>3.076219</td>\n",
       "      <td>1.705915</td>\n",
       "      <td>0.855668</td>\n",
       "      <td>2.193281</td>\n",
       "      <td>1.965180</td>\n",
       "      <td>4.667211</td>\n",
       "      <td>6.562845</td>\n",
       "      <td>0.193490</td>\n",
       "    </tr>\n",
       "  </tbody>\n",
       "</table>\n",
       "</div>"
      ],
      "text/plain": [
       "       Runs   Highest   Average  Batting_strike_rate   Fifties     Fours  \\\n",
       "0 -0.720876  0.130264  2.679625            -0.264361 -0.403035 -0.704965   \n",
       "1  0.903385  1.846354  2.073278             0.310892  1.266026  0.876806   \n",
       "2  2.636683  1.674745  1.861945             0.529183  3.769616  2.886671   \n",
       "3 -0.331266  1.331527  1.749366             0.559660 -0.217584 -0.247848   \n",
       "4  2.316219  3.076219  1.705915             0.855668  2.193281  1.965180   \n",
       "\n",
       "      Sixes  Data PC1  Data PC2  \n",
       "0 -0.707995 -0.106188 -1.353829  \n",
       "1  0.827778  3.116609 -0.558742  \n",
       "2  2.238182  6.193820  1.155294  \n",
       "3 -0.316216  0.780280 -1.627418  \n",
       "4  4.667211  6.562845  0.193490  "
      ]
     },
     "execution_count": 42,
     "metadata": {},
     "output_type": "execute_result"
    }
   ],
   "source": [
    "final_data=pd.concat([scaled_train,principalDf],axis=1)\n",
    "final_data.head()"
   ]
  },
  {
   "cell_type": "code",
   "execution_count": 43,
   "id": "d28b8195",
   "metadata": {},
   "outputs": [
    {
     "data": {
      "text/html": [
       "<style type=\"text/css\">\n",
       "#T_57258_row0_col0, #T_57258_row1_col0, #T_57258_row2_col0, #T_57258_row3_col1, #T_57258_row4_col0, #T_57258_row5_col0, #T_57258_row6_col0 {\n",
       "  background-color: yellow;\n",
       "}\n",
       "</style>\n",
       "<table id=\"T_57258\">\n",
       "  <thead>\n",
       "    <tr>\n",
       "      <th class=\"blank level0\" >&nbsp;</th>\n",
       "      <th id=\"T_57258_level0_col0\" class=\"col_heading level0 col0\" >Data PC1</th>\n",
       "      <th id=\"T_57258_level0_col1\" class=\"col_heading level0 col1\" >Data PC2</th>\n",
       "    </tr>\n",
       "  </thead>\n",
       "  <tbody>\n",
       "    <tr>\n",
       "      <th id=\"T_57258_level0_row0\" class=\"row_heading level0 row0\" >Runs</th>\n",
       "      <td id=\"T_57258_row0_col0\" class=\"data row0 col0\" >95.500000</td>\n",
       "      <td id=\"T_57258_row0_col1\" class=\"data row0 col1\" >25.600000</td>\n",
       "    </tr>\n",
       "    <tr>\n",
       "      <th id=\"T_57258_level0_row1\" class=\"row_heading level0 row1\" >Highest</th>\n",
       "      <td id=\"T_57258_row1_col0\" class=\"data row1 col0\" >87.900000</td>\n",
       "      <td id=\"T_57258_row1_col1\" class=\"data row1 col1\" >25.200000</td>\n",
       "    </tr>\n",
       "    <tr>\n",
       "      <th id=\"T_57258_level0_row2\" class=\"row_heading level0 row2\" >Average</th>\n",
       "      <td id=\"T_57258_row2_col0\" class=\"data row2 col0\" >79.500000</td>\n",
       "      <td id=\"T_57258_row2_col1\" class=\"data row2 col1\" >38.900000</td>\n",
       "    </tr>\n",
       "    <tr>\n",
       "      <th id=\"T_57258_level0_row3\" class=\"row_heading level0 row3\" >Batting_strike_rate</th>\n",
       "      <td id=\"T_57258_row3_col0\" class=\"data row3 col0\" >42.600000</td>\n",
       "      <td id=\"T_57258_row3_col1\" class=\"data row3 col1\" >82.600000</td>\n",
       "    </tr>\n",
       "    <tr>\n",
       "      <th id=\"T_57258_level0_row4\" class=\"row_heading level0 row4\" >Fifties</th>\n",
       "      <td id=\"T_57258_row4_col0\" class=\"data row4 col0\" >93.400000</td>\n",
       "      <td id=\"T_57258_row4_col1\" class=\"data row4 col1\" >27.500000</td>\n",
       "    </tr>\n",
       "    <tr>\n",
       "      <th id=\"T_57258_level0_row5\" class=\"row_heading level0 row5\" >Fours</th>\n",
       "      <td id=\"T_57258_row5_col0\" class=\"data row5 col0\" >93.500000</td>\n",
       "      <td id=\"T_57258_row5_col1\" class=\"data row5 col1\" >28.300000</td>\n",
       "    </tr>\n",
       "    <tr>\n",
       "      <th id=\"T_57258_level0_row6\" class=\"row_heading level0 row6\" >Sixes</th>\n",
       "      <td id=\"T_57258_row6_col0\" class=\"data row6 col0\" >91.600000</td>\n",
       "      <td id=\"T_57258_row6_col1\" class=\"data row6 col1\" >12.900000</td>\n",
       "    </tr>\n",
       "  </tbody>\n",
       "</table>\n"
      ],
      "text/plain": [
       "<pandas.io.formats.style.Styler at 0x1e9f5d228e0>"
      ]
     },
     "execution_count": 43,
     "metadata": {},
     "output_type": "execute_result"
    }
   ],
   "source": [
    "Correlation_Matrix=pd.DataFrame(round(final_data.corr(),3))*100\n",
    "Correlation_Matrix=abs(Correlation_Matrix.iloc[0:7,7:9])\n",
    "Correlation_Matrix.style.applymap(lambda x: 'background-color : yellow' if x > 50 else '')"
   ]
  },
  {
   "cell_type": "markdown",
   "id": "fc98f08c",
   "metadata": {},
   "source": [
    "* Data PC1 = Runs,Highest,Average,Fifties,Fours, Sixes\n",
    "* Data PC2 = Batting_strike_rate"
   ]
  },
  {
   "cell_type": "code",
   "execution_count": 44,
   "id": "82de3ef9",
   "metadata": {},
   "outputs": [],
   "source": [
    "a=final_data[\"Data PC1\"]"
   ]
  },
  {
   "cell_type": "code",
   "execution_count": 45,
   "id": "34de36ad",
   "metadata": {},
   "outputs": [],
   "source": [
    "b=final_data[\"Data PC2\"]"
   ]
  },
  {
   "cell_type": "code",
   "execution_count": 46,
   "id": "f698a04f",
   "metadata": {},
   "outputs": [],
   "source": [
    "c=a+b"
   ]
  },
  {
   "cell_type": "code",
   "execution_count": 47,
   "id": "20607fec",
   "metadata": {},
   "outputs": [
    {
     "data": {
      "text/plain": [
       "0   -1.460017\n",
       "1    2.557867\n",
       "2    7.349113\n",
       "3   -0.847139\n",
       "4    6.756335\n",
       "dtype: float64"
      ]
     },
     "execution_count": 47,
     "metadata": {},
     "output_type": "execute_result"
    }
   ],
   "source": [
    "c.head()"
   ]
  },
  {
   "cell_type": "code",
   "execution_count": 48,
   "id": "12fb1ee5",
   "metadata": {},
   "outputs": [],
   "source": [
    "d=pd.DataFrame(y_train)\n"
   ]
  },
  {
   "cell_type": "code",
   "execution_count": 49,
   "id": "92606f13",
   "metadata": {},
   "outputs": [],
   "source": [
    "Batter_ranking_final=pd.concat([c,d],axis=1)"
   ]
  },
  {
   "cell_type": "code",
   "execution_count": 50,
   "id": "fb7c49e2",
   "metadata": {},
   "outputs": [
    {
     "data": {
      "text/html": [
       "<div>\n",
       "<style scoped>\n",
       "    .dataframe tbody tr th:only-of-type {\n",
       "        vertical-align: middle;\n",
       "    }\n",
       "\n",
       "    .dataframe tbody tr th {\n",
       "        vertical-align: top;\n",
       "    }\n",
       "\n",
       "    .dataframe thead th {\n",
       "        text-align: right;\n",
       "    }\n",
       "</style>\n",
       "<table border=\"1\" class=\"dataframe\">\n",
       "  <thead>\n",
       "    <tr style=\"text-align: right;\">\n",
       "      <th></th>\n",
       "      <th>0</th>\n",
       "      <th>Name</th>\n",
       "    </tr>\n",
       "  </thead>\n",
       "  <tbody>\n",
       "    <tr>\n",
       "      <th>0</th>\n",
       "      <td>-1.460017</td>\n",
       "      <td>Ruturaj Gaikwad</td>\n",
       "    </tr>\n",
       "    <tr>\n",
       "      <th>1</th>\n",
       "      <td>2.557867</td>\n",
       "      <td>KL Rahul</td>\n",
       "    </tr>\n",
       "    <tr>\n",
       "      <th>2</th>\n",
       "      <td>7.349113</td>\n",
       "      <td>David Warner</td>\n",
       "    </tr>\n",
       "    <tr>\n",
       "      <th>3</th>\n",
       "      <td>-0.847139</td>\n",
       "      <td>Jonny Bairstow</td>\n",
       "    </tr>\n",
       "    <tr>\n",
       "      <th>4</th>\n",
       "      <td>6.756335</td>\n",
       "      <td>Chris Gayle</td>\n",
       "    </tr>\n",
       "  </tbody>\n",
       "</table>\n",
       "</div>"
      ],
      "text/plain": [
       "          0             Name\n",
       "0 -1.460017  Ruturaj Gaikwad\n",
       "1  2.557867         KL Rahul\n",
       "2  7.349113     David Warner\n",
       "3 -0.847139   Jonny Bairstow\n",
       "4  6.756335      Chris Gayle"
      ]
     },
     "execution_count": 50,
     "metadata": {},
     "output_type": "execute_result"
    }
   ],
   "source": [
    "Batter_ranking_final.head()"
   ]
  },
  {
   "cell_type": "code",
   "execution_count": 51,
   "id": "7f93ea02",
   "metadata": {},
   "outputs": [],
   "source": [
    "Batter_ranking_final1= Batter_ranking_final.sort_values([0],ascending=False,ignore_index= True)"
   ]
  },
  {
   "cell_type": "code",
   "execution_count": 52,
   "id": "cae88982",
   "metadata": {},
   "outputs": [
    {
     "data": {
      "text/html": [
       "<div>\n",
       "<style scoped>\n",
       "    .dataframe tbody tr th:only-of-type {\n",
       "        vertical-align: middle;\n",
       "    }\n",
       "\n",
       "    .dataframe tbody tr th {\n",
       "        vertical-align: top;\n",
       "    }\n",
       "\n",
       "    .dataframe thead th {\n",
       "        text-align: right;\n",
       "    }\n",
       "</style>\n",
       "<table border=\"1\" class=\"dataframe\">\n",
       "  <thead>\n",
       "    <tr style=\"text-align: right;\">\n",
       "      <th></th>\n",
       "      <th>0</th>\n",
       "      <th>Name</th>\n",
       "    </tr>\n",
       "  </thead>\n",
       "  <tbody>\n",
       "    <tr>\n",
       "      <th>0</th>\n",
       "      <td>7.349113</td>\n",
       "      <td>David Warner</td>\n",
       "    </tr>\n",
       "    <tr>\n",
       "      <th>1</th>\n",
       "      <td>7.272031</td>\n",
       "      <td>Virat Kohli</td>\n",
       "    </tr>\n",
       "    <tr>\n",
       "      <th>2</th>\n",
       "      <td>6.856650</td>\n",
       "      <td>Rohit Sharma</td>\n",
       "    </tr>\n",
       "    <tr>\n",
       "      <th>3</th>\n",
       "      <td>6.822500</td>\n",
       "      <td>Shikhar Dhawan</td>\n",
       "    </tr>\n",
       "    <tr>\n",
       "      <th>4</th>\n",
       "      <td>6.756335</td>\n",
       "      <td>Chris Gayle</td>\n",
       "    </tr>\n",
       "  </tbody>\n",
       "</table>\n",
       "</div>"
      ],
      "text/plain": [
       "          0            Name\n",
       "0  7.349113    David Warner\n",
       "1  7.272031     Virat Kohli\n",
       "2  6.856650    Rohit Sharma\n",
       "3  6.822500  Shikhar Dhawan\n",
       "4  6.756335     Chris Gayle"
      ]
     },
     "execution_count": 52,
     "metadata": {},
     "output_type": "execute_result"
    }
   ],
   "source": [
    "Batter_ranking_final1.head()"
   ]
  },
  {
   "cell_type": "code",
   "execution_count": 54,
   "id": "f4c8e64c",
   "metadata": {},
   "outputs": [],
   "source": [
    "Batter_ranking_final1.to_csv(\"ranking_batsman_ipl.csv\",index=False)"
   ]
  },
  {
   "cell_type": "code",
   "execution_count": null,
   "id": "6ce57f19",
   "metadata": {},
   "outputs": [],
   "source": []
  }
 ],
 "metadata": {
  "kernelspec": {
   "display_name": "Python 3 (ipykernel)",
   "language": "python",
   "name": "python3"
  },
  "language_info": {
   "codemirror_mode": {
    "name": "ipython",
    "version": 3
   },
   "file_extension": ".py",
   "mimetype": "text/x-python",
   "name": "python",
   "nbconvert_exporter": "python",
   "pygments_lexer": "ipython3",
   "version": "3.9.12"
  }
 },
 "nbformat": 4,
 "nbformat_minor": 5
}
