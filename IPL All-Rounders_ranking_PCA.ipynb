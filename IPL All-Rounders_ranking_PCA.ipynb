{
 "cells": [
  {
   "cell_type": "markdown",
   "id": "011f3669",
   "metadata": {},
   "source": [
    "# Import Library & Data"
   ]
  },
  {
   "cell_type": "code",
   "execution_count": 1,
   "id": "7c415041",
   "metadata": {},
   "outputs": [],
   "source": [
    "# importing required libraries \n",
    "import numpy as np \n",
    "import matplotlib.pyplot as plt \n",
    "import pandas as pd \n",
    "import seaborn as sns"
   ]
  },
  {
   "cell_type": "code",
   "execution_count": 2,
   "id": "0063ebb0",
   "metadata": {},
   "outputs": [],
   "source": [
    "import os \n",
    "os.chdir(r\"C:\\Users\\akash\\Downloads\\DATA SCIENCE PROJECTS\\IPL\\Final\\Dataset\") "
   ]
  },
  {
   "cell_type": "code",
   "execution_count": 3,
   "id": "a82b154e",
   "metadata": {},
   "outputs": [
    {
     "data": {
      "text/html": [
       "<div>\n",
       "<style scoped>\n",
       "    .dataframe tbody tr th:only-of-type {\n",
       "        vertical-align: middle;\n",
       "    }\n",
       "\n",
       "    .dataframe tbody tr th {\n",
       "        vertical-align: top;\n",
       "    }\n",
       "\n",
       "    .dataframe thead th {\n",
       "        text-align: right;\n",
       "    }\n",
       "</style>\n",
       "<table border=\"1\" class=\"dataframe\">\n",
       "  <thead>\n",
       "    <tr style=\"text-align: right;\">\n",
       "      <th></th>\n",
       "      <th>Name</th>\n",
       "      <th>Runs</th>\n",
       "      <th>Highest</th>\n",
       "      <th>Average</th>\n",
       "      <th>Batting_strike_rate</th>\n",
       "      <th>100</th>\n",
       "      <th>50</th>\n",
       "      <th>4</th>\n",
       "      <th>6</th>\n",
       "      <th>Wickets</th>\n",
       "      <th>Economy</th>\n",
       "      <th>B_Average</th>\n",
       "      <th>Bowling_strike_rate</th>\n",
       "    </tr>\n",
       "  </thead>\n",
       "  <tbody>\n",
       "    <tr>\n",
       "      <th>0</th>\n",
       "      <td>Mitchell Santner</td>\n",
       "      <td>32</td>\n",
       "      <td>22</td>\n",
       "      <td>32.00</td>\n",
       "      <td>139.13</td>\n",
       "      <td>0</td>\n",
       "      <td>0</td>\n",
       "      <td>0</td>\n",
       "      <td>3</td>\n",
       "      <td>6</td>\n",
       "      <td>7.00</td>\n",
       "      <td>24.50</td>\n",
       "      <td>21.00</td>\n",
       "    </tr>\n",
       "    <tr>\n",
       "      <th>1</th>\n",
       "      <td>Rahul Tewatia</td>\n",
       "      <td>366</td>\n",
       "      <td>53</td>\n",
       "      <td>30.50</td>\n",
       "      <td>134.56</td>\n",
       "      <td>0</td>\n",
       "      <td>1</td>\n",
       "      <td>24</td>\n",
       "      <td>20</td>\n",
       "      <td>24</td>\n",
       "      <td>7.13</td>\n",
       "      <td>28.33</td>\n",
       "      <td>23.83</td>\n",
       "    </tr>\n",
       "    <tr>\n",
       "      <th>2</th>\n",
       "      <td>Hardik Pandya</td>\n",
       "      <td>1349</td>\n",
       "      <td>91</td>\n",
       "      <td>29.98</td>\n",
       "      <td>159.27</td>\n",
       "      <td>0</td>\n",
       "      <td>4</td>\n",
       "      <td>86</td>\n",
       "      <td>93</td>\n",
       "      <td>42</td>\n",
       "      <td>9.07</td>\n",
       "      <td>31.26</td>\n",
       "      <td>20.69</td>\n",
       "    </tr>\n",
       "    <tr>\n",
       "      <th>3</th>\n",
       "      <td>Kieron Pollard</td>\n",
       "      <td>3023</td>\n",
       "      <td>83</td>\n",
       "      <td>29.93</td>\n",
       "      <td>149.88</td>\n",
       "      <td>0</td>\n",
       "      <td>15</td>\n",
       "      <td>196</td>\n",
       "      <td>198</td>\n",
       "      <td>60</td>\n",
       "      <td>8.88</td>\n",
       "      <td>32.67</td>\n",
       "      <td>22.08</td>\n",
       "    </tr>\n",
       "    <tr>\n",
       "      <th>4</th>\n",
       "      <td>Andre Russell</td>\n",
       "      <td>1517</td>\n",
       "      <td>88</td>\n",
       "      <td>29.75</td>\n",
       "      <td>182.33</td>\n",
       "      <td>0</td>\n",
       "      <td>8</td>\n",
       "      <td>105</td>\n",
       "      <td>129</td>\n",
       "      <td>61</td>\n",
       "      <td>8.96</td>\n",
       "      <td>28.08</td>\n",
       "      <td>18.80</td>\n",
       "    </tr>\n",
       "  </tbody>\n",
       "</table>\n",
       "</div>"
      ],
      "text/plain": [
       "               Name  Runs  Highest  Average  Batting_strike_rate  100  50  \\\n",
       "0  Mitchell Santner    32       22    32.00               139.13    0   0   \n",
       "1     Rahul Tewatia   366       53    30.50               134.56    0   1   \n",
       "2     Hardik Pandya  1349       91    29.98               159.27    0   4   \n",
       "3    Kieron Pollard  3023       83    29.93               149.88    0  15   \n",
       "4     Andre Russell  1517       88    29.75               182.33    0   8   \n",
       "\n",
       "     4    6  Wickets  Economy  B_Average  Bowling_strike_rate  \n",
       "0    0    3        6     7.00      24.50                21.00  \n",
       "1   24   20       24     7.13      28.33                23.83  \n",
       "2   86   93       42     9.07      31.26                20.69  \n",
       "3  196  198       60     8.88      32.67                22.08  \n",
       "4  105  129       61     8.96      28.08                18.80  "
      ]
     },
     "execution_count": 3,
     "metadata": {},
     "output_type": "execute_result"
    }
   ],
   "source": [
    "# importing or loading the dataset \n",
    "Data_for_PCA = pd.read_csv(r\"all_rounders.csv\")\n",
    "\n",
    "Data_for_PCA.head()"
   ]
  },
  {
   "cell_type": "markdown",
   "id": "c4814a73",
   "metadata": {},
   "source": [
    "# Data Pre-Processing"
   ]
  },
  {
   "cell_type": "markdown",
   "id": "d9f4f2e9",
   "metadata": {},
   "source": [
    "### Checking missing values"
   ]
  },
  {
   "cell_type": "code",
   "execution_count": 4,
   "id": "3a0f993c",
   "metadata": {},
   "outputs": [
    {
     "data": {
      "text/plain": [
       "Name                   0\n",
       "Runs                   0\n",
       "Highest                0\n",
       "Average                0\n",
       "Batting_strike_rate    0\n",
       "100                    0\n",
       "50                     0\n",
       "4                      0\n",
       "6                      0\n",
       "Wickets                0\n",
       "Economy                0\n",
       "B_Average              0\n",
       "Bowling_strike_rate    0\n",
       "dtype: int64"
      ]
     },
     "execution_count": 4,
     "metadata": {},
     "output_type": "execute_result"
    }
   ],
   "source": [
    "Data_for_PCA.isna().sum()"
   ]
  },
  {
   "cell_type": "code",
   "execution_count": 5,
   "id": "25de0daf",
   "metadata": {},
   "outputs": [
    {
     "data": {
      "text/plain": [
       "<AxesSubplot:xlabel='Runs', ylabel='Batting_strike_rate'>"
      ]
     },
     "execution_count": 5,
     "metadata": {},
     "output_type": "execute_result"
    },
    {
     "data": {
      "image/png": "[encoded data removed]",
      "text/plain": [
       "<Figure size 432x288 with 1 Axes>"
      ]
     },
     "metadata": {
      "needs_background": "light"
     },
     "output_type": "display_data"
    }
   ],
   "source": [
    "sns.scatterplot(data=Data_for_PCA, x= \"Runs\", y=\"Batting_strike_rate\")"
   ]
  },
  {
   "cell_type": "markdown",
   "id": "71da11ba",
   "metadata": {},
   "source": [
    "# Exploratory Data Analysis"
   ]
  },
  {
   "cell_type": "code",
   "execution_count": 6,
   "id": "9f5296ba",
   "metadata": {},
   "outputs": [
    {
     "data": {
      "text/plain": [
       "<AxesSubplot:xlabel='Runs', ylabel='Count'>"
      ]
     },
     "execution_count": 6,
     "metadata": {},
     "output_type": "execute_result"
    },
    {
     "data": {
      "image/png": "[encoded data removed]",
      "text/plain": [
       "<Figure size 432x288 with 1 Axes>"
      ]
     },
     "metadata": {
      "needs_background": "light"
     },
     "output_type": "display_data"
    }
   ],
   "source": [
    "sns.histplot(data = Data_for_PCA, x = \"Runs\")"
   ]
  },
  {
   "cell_type": "code",
   "execution_count": 7,
   "id": "062661dc",
   "metadata": {},
   "outputs": [
    {
     "data": {
      "text/plain": [
       "<AxesSubplot:xlabel='Highest', ylabel='Count'>"
      ]
     },
     "execution_count": 7,
     "metadata": {},
     "output_type": "execute_result"
    },
    {
     "data": {
      "image/png": "[encoded data removed]",
      "text/plain": [
       "<Figure size 432x288 with 1 Axes>"
      ]
     },
     "metadata": {
      "needs_background": "light"
     },
     "output_type": "display_data"
    }
   ],
   "source": [
    "sns.histplot(data = Data_for_PCA, x = \"Highest\")"
   ]
  },
  {
   "cell_type": "code",
   "execution_count": 8,
   "id": "f53dbc29",
   "metadata": {},
   "outputs": [
    {
     "data": {
      "text/plain": [
       "<AxesSubplot:xlabel='Average', ylabel='Count'>"
      ]
     },
     "execution_count": 8,
     "metadata": {},
     "output_type": "execute_result"
    },
    {
     "data": {
      "image/png": "[encoded data removed]",
      "text/plain": [
       "<Figure size 432x288 with 1 Axes>"
      ]
     },
     "metadata": {
      "needs_background": "light"
     },
     "output_type": "display_data"
    }
   ],
   "source": [
    "sns.histplot(data = Data_for_PCA, x = \"Average\")"
   ]
  },
  {
   "cell_type": "code",
   "execution_count": 9,
   "id": "d031e3e7",
   "metadata": {},
   "outputs": [
    {
     "data": {
      "text/plain": [
       "<AxesSubplot:xlabel='Batting_strike_rate', ylabel='Count'>"
      ]
     },
     "execution_count": 9,
     "metadata": {},
     "output_type": "execute_result"
    },
    {
     "data": {
      "image/png": "[encoded data removed]",
      "text/plain": [
       "<Figure size 432x288 with 1 Axes>"
      ]
     },
     "metadata": {
      "needs_background": "light"
     },
     "output_type": "display_data"
    }
   ],
   "source": [
    "sns.histplot(data = Data_for_PCA, x = \"Batting_strike_rate\")"
   ]
  },
  {
   "cell_type": "code",
   "execution_count": 10,
   "id": "2120b624",
   "metadata": {},
   "outputs": [
    {
     "name": "stdout",
     "output_type": "stream",
     "text": [
      "<class 'pandas.core.frame.DataFrame'>\n",
      "RangeIndex: 42 entries, 0 to 41\n",
      "Data columns (total 13 columns):\n",
      " #   Column               Non-Null Count  Dtype  \n",
      "---  ------               --------------  -----  \n",
      " 0   Name                 42 non-null     object \n",
      " 1   Runs                 42 non-null     int64  \n",
      " 2   Highest              42 non-null     int64  \n",
      " 3   Average              42 non-null     float64\n",
      " 4   Batting_strike_rate  42 non-null     float64\n",
      " 5   100                  42 non-null     int64  \n",
      " 6   50                   42 non-null     int64  \n",
      " 7   4                    42 non-null     int64  \n",
      " 8   6                    42 non-null     int64  \n",
      " 9   Wickets              42 non-null     int64  \n",
      " 10  Economy              42 non-null     float64\n",
      " 11  B_Average            42 non-null     float64\n",
      " 12  Bowling_strike_rate  42 non-null     float64\n",
      "dtypes: float64(5), int64(7), object(1)\n",
      "memory usage: 4.4+ KB\n"
     ]
    }
   ],
   "source": [
    "Data_for_PCA.info()"
   ]
  },
  {
   "cell_type": "code",
   "execution_count": 11,
   "id": "a887463a",
   "metadata": {},
   "outputs": [
    {
     "data": {
      "text/plain": [
       "<seaborn.axisgrid.PairGrid at 0x253f64787f0>"
      ]
     },
     "execution_count": 11,
     "metadata": {},
     "output_type": "execute_result"
    },
    {
     "data": {
      "image/png": "[encoded data removed]",
      "text/plain": [
       "<Figure size 2160x2160 with 156 Axes>"
      ]
     },
     "metadata": {
      "needs_background": "light"
     },
     "output_type": "display_data"
    }
   ],
   "source": [
    "sns.pairplot(data=Data_for_PCA)"
   ]
  },
  {
   "cell_type": "code",
   "execution_count": 12,
   "id": "8d1f538a",
   "metadata": {},
   "outputs": [
    {
     "data": {
      "text/html": [
       "<div>\n",
       "<style scoped>\n",
       "    .dataframe tbody tr th:only-of-type {\n",
       "        vertical-align: middle;\n",
       "    }\n",
       "\n",
       "    .dataframe tbody tr th {\n",
       "        vertical-align: top;\n",
       "    }\n",
       "\n",
       "    .dataframe thead th {\n",
       "        text-align: right;\n",
       "    }\n",
       "</style>\n",
       "<table border=\"1\" class=\"dataframe\">\n",
       "  <thead>\n",
       "    <tr style=\"text-align: right;\">\n",
       "      <th></th>\n",
       "      <th>Runs</th>\n",
       "      <th>Highest</th>\n",
       "      <th>Average</th>\n",
       "      <th>Batting_strike_rate</th>\n",
       "      <th>100</th>\n",
       "      <th>50</th>\n",
       "      <th>4</th>\n",
       "      <th>6</th>\n",
       "      <th>Wickets</th>\n",
       "      <th>Economy</th>\n",
       "      <th>B_Average</th>\n",
       "      <th>Bowling_strike_rate</th>\n",
       "    </tr>\n",
       "  </thead>\n",
       "  <tbody>\n",
       "    <tr>\n",
       "      <th>count</th>\n",
       "      <td>42.000000</td>\n",
       "      <td>42.000000</td>\n",
       "      <td>42.000000</td>\n",
       "      <td>42.000000</td>\n",
       "      <td>42.000000</td>\n",
       "      <td>42.000000</td>\n",
       "      <td>42.000000</td>\n",
       "      <td>42.000000</td>\n",
       "      <td>42.000000</td>\n",
       "      <td>42.000000</td>\n",
       "      <td>42.00000</td>\n",
       "      <td>42.000000</td>\n",
       "    </tr>\n",
       "    <tr>\n",
       "      <th>mean</th>\n",
       "      <td>573.904762</td>\n",
       "      <td>47.738095</td>\n",
       "      <td>18.587857</td>\n",
       "      <td>125.437619</td>\n",
       "      <td>0.047619</td>\n",
       "      <td>1.690476</td>\n",
       "      <td>42.428571</td>\n",
       "      <td>28.238095</td>\n",
       "      <td>34.571429</td>\n",
       "      <td>8.049524</td>\n",
       "      <td>28.44119</td>\n",
       "      <td>20.806429</td>\n",
       "    </tr>\n",
       "    <tr>\n",
       "      <th>std</th>\n",
       "      <td>649.893155</td>\n",
       "      <td>27.321089</td>\n",
       "      <td>8.893143</td>\n",
       "      <td>35.908788</td>\n",
       "      <td>0.308607</td>\n",
       "      <td>2.900699</td>\n",
       "      <td>47.123161</td>\n",
       "      <td>39.081409</td>\n",
       "      <td>41.039031</td>\n",
       "      <td>1.675008</td>\n",
       "      <td>13.72483</td>\n",
       "      <td>8.985328</td>\n",
       "    </tr>\n",
       "    <tr>\n",
       "      <th>min</th>\n",
       "      <td>0.000000</td>\n",
       "      <td>0.000000</td>\n",
       "      <td>0.000000</td>\n",
       "      <td>0.000000</td>\n",
       "      <td>0.000000</td>\n",
       "      <td>0.000000</td>\n",
       "      <td>0.000000</td>\n",
       "      <td>0.000000</td>\n",
       "      <td>0.000000</td>\n",
       "      <td>0.000000</td>\n",
       "      <td>0.00000</td>\n",
       "      <td>0.000000</td>\n",
       "    </tr>\n",
       "    <tr>\n",
       "      <th>25%</th>\n",
       "      <td>115.250000</td>\n",
       "      <td>26.250000</td>\n",
       "      <td>14.107500</td>\n",
       "      <td>115.102500</td>\n",
       "      <td>0.000000</td>\n",
       "      <td>0.000000</td>\n",
       "      <td>8.250000</td>\n",
       "      <td>3.500000</td>\n",
       "      <td>6.250000</td>\n",
       "      <td>7.362500</td>\n",
       "      <td>24.29750</td>\n",
       "      <td>18.452500</td>\n",
       "    </tr>\n",
       "    <tr>\n",
       "      <th>50%</th>\n",
       "      <td>337.000000</td>\n",
       "      <td>45.500000</td>\n",
       "      <td>18.070000</td>\n",
       "      <td>127.710000</td>\n",
       "      <td>0.000000</td>\n",
       "      <td>0.000000</td>\n",
       "      <td>23.000000</td>\n",
       "      <td>17.000000</td>\n",
       "      <td>21.500000</td>\n",
       "      <td>8.325000</td>\n",
       "      <td>29.13500</td>\n",
       "      <td>21.570000</td>\n",
       "    </tr>\n",
       "    <tr>\n",
       "      <th>75%</th>\n",
       "      <td>891.000000</td>\n",
       "      <td>66.000000</td>\n",
       "      <td>25.147500</td>\n",
       "      <td>145.282500</td>\n",
       "      <td>0.000000</td>\n",
       "      <td>2.000000</td>\n",
       "      <td>68.750000</td>\n",
       "      <td>31.500000</td>\n",
       "      <td>45.000000</td>\n",
       "      <td>8.952500</td>\n",
       "      <td>32.77000</td>\n",
       "      <td>24.975000</td>\n",
       "    </tr>\n",
       "    <tr>\n",
       "      <th>max</th>\n",
       "      <td>3023.000000</td>\n",
       "      <td>107.000000</td>\n",
       "      <td>32.000000</td>\n",
       "      <td>182.330000</td>\n",
       "      <td>2.000000</td>\n",
       "      <td>15.000000</td>\n",
       "      <td>196.000000</td>\n",
       "      <td>198.000000</td>\n",
       "      <td>156.000000</td>\n",
       "      <td>11.510000</td>\n",
       "      <td>79.67000</td>\n",
       "      <td>48.000000</td>\n",
       "    </tr>\n",
       "  </tbody>\n",
       "</table>\n",
       "</div>"
      ],
      "text/plain": [
       "              Runs     Highest    Average  Batting_strike_rate        100  \\\n",
       "count    42.000000   42.000000  42.000000            42.000000  42.000000   \n",
       "mean    573.904762   47.738095  18.587857           125.437619   0.047619   \n",
       "std     649.893155   27.321089   8.893143            35.908788   0.308607   \n",
       "min       0.000000    0.000000   0.000000             0.000000   0.000000   \n",
       "25%     115.250000   26.250000  14.107500           115.102500   0.000000   \n",
       "50%     337.000000   45.500000  18.070000           127.710000   0.000000   \n",
       "75%     891.000000   66.000000  25.147500           145.282500   0.000000   \n",
       "max    3023.000000  107.000000  32.000000           182.330000   2.000000   \n",
       "\n",
       "              50           4           6     Wickets    Economy  B_Average  \\\n",
       "count  42.000000   42.000000   42.000000   42.000000  42.000000   42.00000   \n",
       "mean    1.690476   42.428571   28.238095   34.571429   8.049524   28.44119   \n",
       "std     2.900699   47.123161   39.081409   41.039031   1.675008   13.72483   \n",
       "min     0.000000    0.000000    0.000000    0.000000   0.000000    0.00000   \n",
       "25%     0.000000    8.250000    3.500000    6.250000   7.362500   24.29750   \n",
       "50%     0.000000   23.000000   17.000000   21.500000   8.325000   29.13500   \n",
       "75%     2.000000   68.750000   31.500000   45.000000   8.952500   32.77000   \n",
       "max    15.000000  196.000000  198.000000  156.000000  11.510000   79.67000   \n",
       "\n",
       "       Bowling_strike_rate  \n",
       "count            42.000000  \n",
       "mean             20.806429  \n",
       "std               8.985328  \n",
       "min               0.000000  \n",
       "25%              18.452500  \n",
       "50%              21.570000  \n",
       "75%              24.975000  \n",
       "max              48.000000  "
      ]
     },
     "execution_count": 12,
     "metadata": {},
     "output_type": "execute_result"
    }
   ],
   "source": [
    "Data_for_PCA.describe() "
   ]
  },
  {
   "cell_type": "markdown",
   "id": "551aa22e",
   "metadata": {},
   "source": [
    "## Taking specific column for Analysis"
   ]
  },
  {
   "cell_type": "code",
   "execution_count": 13,
   "id": "55ddbfd0",
   "metadata": {},
   "outputs": [],
   "source": [
    "numeric_predictors=['Runs','Highest','Average','Batting_strike_rate','100','50', '4','6','Wickets','Economy','B_Average','Bowling_strike_rate']\n",
    "X_train = Data_for_PCA[numeric_predictors]\n",
    "y_train = Data_for_PCA['Name']"
   ]
  },
  {
   "cell_type": "code",
   "execution_count": 14,
   "id": "f7402b33",
   "metadata": {},
   "outputs": [
    {
     "data": {
      "text/html": [
       "<div>\n",
       "<style scoped>\n",
       "    .dataframe tbody tr th:only-of-type {\n",
       "        vertical-align: middle;\n",
       "    }\n",
       "\n",
       "    .dataframe tbody tr th {\n",
       "        vertical-align: top;\n",
       "    }\n",
       "\n",
       "    .dataframe thead th {\n",
       "        text-align: right;\n",
       "    }\n",
       "</style>\n",
       "<table border=\"1\" class=\"dataframe\">\n",
       "  <thead>\n",
       "    <tr style=\"text-align: right;\">\n",
       "      <th></th>\n",
       "      <th>Runs</th>\n",
       "      <th>Highest</th>\n",
       "      <th>Average</th>\n",
       "      <th>Batting_strike_rate</th>\n",
       "      <th>100</th>\n",
       "      <th>50</th>\n",
       "      <th>4</th>\n",
       "      <th>6</th>\n",
       "      <th>Wickets</th>\n",
       "      <th>Economy</th>\n",
       "      <th>B_Average</th>\n",
       "      <th>Bowling_strike_rate</th>\n",
       "    </tr>\n",
       "  </thead>\n",
       "  <tbody>\n",
       "    <tr>\n",
       "      <th>0</th>\n",
       "      <td>32</td>\n",
       "      <td>22</td>\n",
       "      <td>32.00</td>\n",
       "      <td>139.13</td>\n",
       "      <td>0</td>\n",
       "      <td>0</td>\n",
       "      <td>0</td>\n",
       "      <td>3</td>\n",
       "      <td>6</td>\n",
       "      <td>7.00</td>\n",
       "      <td>24.50</td>\n",
       "      <td>21.00</td>\n",
       "    </tr>\n",
       "    <tr>\n",
       "      <th>1</th>\n",
       "      <td>366</td>\n",
       "      <td>53</td>\n",
       "      <td>30.50</td>\n",
       "      <td>134.56</td>\n",
       "      <td>0</td>\n",
       "      <td>1</td>\n",
       "      <td>24</td>\n",
       "      <td>20</td>\n",
       "      <td>24</td>\n",
       "      <td>7.13</td>\n",
       "      <td>28.33</td>\n",
       "      <td>23.83</td>\n",
       "    </tr>\n",
       "    <tr>\n",
       "      <th>2</th>\n",
       "      <td>1349</td>\n",
       "      <td>91</td>\n",
       "      <td>29.98</td>\n",
       "      <td>159.27</td>\n",
       "      <td>0</td>\n",
       "      <td>4</td>\n",
       "      <td>86</td>\n",
       "      <td>93</td>\n",
       "      <td>42</td>\n",
       "      <td>9.07</td>\n",
       "      <td>31.26</td>\n",
       "      <td>20.69</td>\n",
       "    </tr>\n",
       "    <tr>\n",
       "      <th>3</th>\n",
       "      <td>3023</td>\n",
       "      <td>83</td>\n",
       "      <td>29.93</td>\n",
       "      <td>149.88</td>\n",
       "      <td>0</td>\n",
       "      <td>15</td>\n",
       "      <td>196</td>\n",
       "      <td>198</td>\n",
       "      <td>60</td>\n",
       "      <td>8.88</td>\n",
       "      <td>32.67</td>\n",
       "      <td>22.08</td>\n",
       "    </tr>\n",
       "    <tr>\n",
       "      <th>4</th>\n",
       "      <td>1517</td>\n",
       "      <td>88</td>\n",
       "      <td>29.75</td>\n",
       "      <td>182.33</td>\n",
       "      <td>0</td>\n",
       "      <td>8</td>\n",
       "      <td>105</td>\n",
       "      <td>129</td>\n",
       "      <td>61</td>\n",
       "      <td>8.96</td>\n",
       "      <td>28.08</td>\n",
       "      <td>18.80</td>\n",
       "    </tr>\n",
       "  </tbody>\n",
       "</table>\n",
       "</div>"
      ],
      "text/plain": [
       "   Runs  Highest  Average  Batting_strike_rate  100  50    4    6  Wickets  \\\n",
       "0    32       22    32.00               139.13    0   0    0    3        6   \n",
       "1   366       53    30.50               134.56    0   1   24   20       24   \n",
       "2  1349       91    29.98               159.27    0   4   86   93       42   \n",
       "3  3023       83    29.93               149.88    0  15  196  198       60   \n",
       "4  1517       88    29.75               182.33    0   8  105  129       61   \n",
       "\n",
       "   Economy  B_Average  Bowling_strike_rate  \n",
       "0     7.00      24.50                21.00  \n",
       "1     7.13      28.33                23.83  \n",
       "2     9.07      31.26                20.69  \n",
       "3     8.88      32.67                22.08  \n",
       "4     8.96      28.08                18.80  "
      ]
     },
     "execution_count": 14,
     "metadata": {},
     "output_type": "execute_result"
    }
   ],
   "source": [
    "X_train.head()"
   ]
  },
  {
   "cell_type": "code",
   "execution_count": 15,
   "id": "c782d61c",
   "metadata": {},
   "outputs": [
    {
     "data": {
      "text/html": [
       "<style type=\"text/css\">\n",
       "#T_1d703_row0_col0, #T_1d703_row0_col1, #T_1d703_row0_col2, #T_1d703_row0_col5, #T_1d703_row0_col6, #T_1d703_row0_col7, #T_1d703_row1_col0, #T_1d703_row1_col1, #T_1d703_row1_col2, #T_1d703_row1_col3, #T_1d703_row1_col5, #T_1d703_row1_col6, #T_1d703_row1_col7, #T_1d703_row2_col0, #T_1d703_row2_col1, #T_1d703_row2_col2, #T_1d703_row2_col3, #T_1d703_row2_col5, #T_1d703_row2_col6, #T_1d703_row2_col7, #T_1d703_row3_col1, #T_1d703_row3_col2, #T_1d703_row3_col3, #T_1d703_row4_col4, #T_1d703_row5_col0, #T_1d703_row5_col1, #T_1d703_row5_col2, #T_1d703_row5_col5, #T_1d703_row5_col6, #T_1d703_row5_col7, #T_1d703_row6_col0, #T_1d703_row6_col1, #T_1d703_row6_col2, #T_1d703_row6_col5, #T_1d703_row6_col6, #T_1d703_row6_col7, #T_1d703_row6_col8, #T_1d703_row7_col0, #T_1d703_row7_col1, #T_1d703_row7_col2, #T_1d703_row7_col5, #T_1d703_row7_col6, #T_1d703_row7_col7, #T_1d703_row8_col6, #T_1d703_row8_col8, #T_1d703_row9_col9, #T_1d703_row10_col10, #T_1d703_row10_col11, #T_1d703_row11_col10, #T_1d703_row11_col11 {\n",
       "  background-color: yellow;\n",
       "}\n",
       "</style>\n",
       "<table id=\"T_1d703\">\n",
       "  <thead>\n",
       "    <tr>\n",
       "      <th class=\"blank level0\" >&nbsp;</th>\n",
       "      <th id=\"T_1d703_level0_col0\" class=\"col_heading level0 col0\" >Runs</th>\n",
       "      <th id=\"T_1d703_level0_col1\" class=\"col_heading level0 col1\" >Highest</th>\n",
       "      <th id=\"T_1d703_level0_col2\" class=\"col_heading level0 col2\" >Average</th>\n",
       "      <th id=\"T_1d703_level0_col3\" class=\"col_heading level0 col3\" >Batting_strike_rate</th>\n",
       "      <th id=\"T_1d703_level0_col4\" class=\"col_heading level0 col4\" >100</th>\n",
       "      <th id=\"T_1d703_level0_col5\" class=\"col_heading level0 col5\" >50</th>\n",
       "      <th id=\"T_1d703_level0_col6\" class=\"col_heading level0 col6\" >4</th>\n",
       "      <th id=\"T_1d703_level0_col7\" class=\"col_heading level0 col7\" >6</th>\n",
       "      <th id=\"T_1d703_level0_col8\" class=\"col_heading level0 col8\" >Wickets</th>\n",
       "      <th id=\"T_1d703_level0_col9\" class=\"col_heading level0 col9\" >Economy</th>\n",
       "      <th id=\"T_1d703_level0_col10\" class=\"col_heading level0 col10\" >B_Average</th>\n",
       "      <th id=\"T_1d703_level0_col11\" class=\"col_heading level0 col11\" >Bowling_strike_rate</th>\n",
       "    </tr>\n",
       "  </thead>\n",
       "  <tbody>\n",
       "    <tr>\n",
       "      <th id=\"T_1d703_level0_row0\" class=\"row_heading level0 row0\" >Runs</th>\n",
       "      <td id=\"T_1d703_row0_col0\" class=\"data row0 col0\" >1.000000</td>\n",
       "      <td id=\"T_1d703_row0_col1\" class=\"data row0 col1\" >0.686107</td>\n",
       "      <td id=\"T_1d703_row0_col2\" class=\"data row0 col2\" >0.559952</td>\n",
       "      <td id=\"T_1d703_row0_col3\" class=\"data row0 col3\" >0.347294</td>\n",
       "      <td id=\"T_1d703_row0_col4\" class=\"data row0 col4\" >0.084177</td>\n",
       "      <td id=\"T_1d703_row0_col5\" class=\"data row0 col5\" >0.829137</td>\n",
       "      <td id=\"T_1d703_row0_col6\" class=\"data row0 col6\" >0.982848</td>\n",
       "      <td id=\"T_1d703_row0_col7\" class=\"data row0 col7\" >0.929581</td>\n",
       "      <td id=\"T_1d703_row0_col8\" class=\"data row0 col8\" >0.479640</td>\n",
       "      <td id=\"T_1d703_row0_col9\" class=\"data row0 col9\" >-0.079850</td>\n",
       "      <td id=\"T_1d703_row0_col10\" class=\"data row0 col10\" >0.105952</td>\n",
       "      <td id=\"T_1d703_row0_col11\" class=\"data row0 col11\" >0.102034</td>\n",
       "    </tr>\n",
       "    <tr>\n",
       "      <th id=\"T_1d703_level0_row1\" class=\"row_heading level0 row1\" >Highest</th>\n",
       "      <td id=\"T_1d703_row1_col0\" class=\"data row1 col0\" >0.686107</td>\n",
       "      <td id=\"T_1d703_row1_col1\" class=\"data row1 col1\" >1.000000</td>\n",
       "      <td id=\"T_1d703_row1_col2\" class=\"data row1 col2\" >0.778323</td>\n",
       "      <td id=\"T_1d703_row1_col3\" class=\"data row1 col3\" >0.604388</td>\n",
       "      <td id=\"T_1d703_row1_col4\" class=\"data row1 col4\" >0.342861</td>\n",
       "      <td id=\"T_1d703_row1_col5\" class=\"data row1 col5\" >0.653563</td>\n",
       "      <td id=\"T_1d703_row1_col6\" class=\"data row1 col6\" >0.714222</td>\n",
       "      <td id=\"T_1d703_row1_col7\" class=\"data row1 col7\" >0.642877</td>\n",
       "      <td id=\"T_1d703_row1_col8\" class=\"data row1 col8\" >0.240465</td>\n",
       "      <td id=\"T_1d703_row1_col9\" class=\"data row1 col9\" >-0.006025</td>\n",
       "      <td id=\"T_1d703_row1_col10\" class=\"data row1 col10\" >0.203657</td>\n",
       "      <td id=\"T_1d703_row1_col11\" class=\"data row1 col11\" >0.188256</td>\n",
       "    </tr>\n",
       "    <tr>\n",
       "      <th id=\"T_1d703_level0_row2\" class=\"row_heading level0 row2\" >Average</th>\n",
       "      <td id=\"T_1d703_row2_col0\" class=\"data row2 col0\" >0.559952</td>\n",
       "      <td id=\"T_1d703_row2_col1\" class=\"data row2 col1\" >0.778323</td>\n",
       "      <td id=\"T_1d703_row2_col2\" class=\"data row2 col2\" >1.000000</td>\n",
       "      <td id=\"T_1d703_row2_col3\" class=\"data row2 col3\" >0.612677</td>\n",
       "      <td id=\"T_1d703_row2_col4\" class=\"data row2 col4\" >0.136898</td>\n",
       "      <td id=\"T_1d703_row2_col5\" class=\"data row2 col5\" >0.531284</td>\n",
       "      <td id=\"T_1d703_row2_col6\" class=\"data row2 col6\" >0.558517</td>\n",
       "      <td id=\"T_1d703_row2_col7\" class=\"data row2 col7\" >0.524778</td>\n",
       "      <td id=\"T_1d703_row2_col8\" class=\"data row2 col8\" >0.156974</td>\n",
       "      <td id=\"T_1d703_row2_col9\" class=\"data row2 col9\" >0.004132</td>\n",
       "      <td id=\"T_1d703_row2_col10\" class=\"data row2 col10\" >0.280806</td>\n",
       "      <td id=\"T_1d703_row2_col11\" class=\"data row2 col11\" >0.272526</td>\n",
       "    </tr>\n",
       "    <tr>\n",
       "      <th id=\"T_1d703_level0_row3\" class=\"row_heading level0 row3\" >Batting_strike_rate</th>\n",
       "      <td id=\"T_1d703_row3_col0\" class=\"data row3 col0\" >0.347294</td>\n",
       "      <td id=\"T_1d703_row3_col1\" class=\"data row3 col1\" >0.604388</td>\n",
       "      <td id=\"T_1d703_row3_col2\" class=\"data row3 col2\" >0.612677</td>\n",
       "      <td id=\"T_1d703_row3_col3\" class=\"data row3 col3\" >1.000000</td>\n",
       "      <td id=\"T_1d703_row3_col4\" class=\"data row3 col4\" >0.042533</td>\n",
       "      <td id=\"T_1d703_row3_col5\" class=\"data row3 col5\" >0.341494</td>\n",
       "      <td id=\"T_1d703_row3_col6\" class=\"data row3 col6\" >0.337192</td>\n",
       "      <td id=\"T_1d703_row3_col7\" class=\"data row3 col7\" >0.399008</td>\n",
       "      <td id=\"T_1d703_row3_col8\" class=\"data row3 col8\" >0.111949</td>\n",
       "      <td id=\"T_1d703_row3_col9\" class=\"data row3 col9\" >0.093776</td>\n",
       "      <td id=\"T_1d703_row3_col10\" class=\"data row3 col10\" >0.289383</td>\n",
       "      <td id=\"T_1d703_row3_col11\" class=\"data row3 col11\" >0.301775</td>\n",
       "    </tr>\n",
       "    <tr>\n",
       "      <th id=\"T_1d703_level0_row4\" class=\"row_heading level0 row4\" >100</th>\n",
       "      <td id=\"T_1d703_row4_col0\" class=\"data row4 col0\" >0.084177</td>\n",
       "      <td id=\"T_1d703_row4_col1\" class=\"data row4 col1\" >0.342861</td>\n",
       "      <td id=\"T_1d703_row4_col2\" class=\"data row4 col2\" >0.136898</td>\n",
       "      <td id=\"T_1d703_row4_col3\" class=\"data row4 col3\" >0.042533</td>\n",
       "      <td id=\"T_1d703_row4_col4\" class=\"data row4 col4\" >1.000000</td>\n",
       "      <td id=\"T_1d703_row4_col5\" class=\"data row4 col5\" >0.016867</td>\n",
       "      <td id=\"T_1d703_row4_col6\" class=\"data row4 col6\" >0.122673</td>\n",
       "      <td id=\"T_1d703_row4_col7\" class=\"data row4 col7\" >0.015215</td>\n",
       "      <td id=\"T_1d703_row4_col8\" class=\"data row4 col8\" >-0.025311</td>\n",
       "      <td id=\"T_1d703_row4_col9\" class=\"data row4 col9\" >0.045341</td>\n",
       "      <td id=\"T_1d703_row4_col10\" class=\"data row4 col10\" >0.068166</td>\n",
       "      <td id=\"T_1d703_row4_col11\" class=\"data row4 col11\" >0.059347</td>\n",
       "    </tr>\n",
       "    <tr>\n",
       "      <th id=\"T_1d703_level0_row5\" class=\"row_heading level0 row5\" >50</th>\n",
       "      <td id=\"T_1d703_row5_col0\" class=\"data row5 col0\" >0.829137</td>\n",
       "      <td id=\"T_1d703_row5_col1\" class=\"data row5 col1\" >0.653563</td>\n",
       "      <td id=\"T_1d703_row5_col2\" class=\"data row5 col2\" >0.531284</td>\n",
       "      <td id=\"T_1d703_row5_col3\" class=\"data row5 col3\" >0.341494</td>\n",
       "      <td id=\"T_1d703_row5_col4\" class=\"data row5 col4\" >0.016867</td>\n",
       "      <td id=\"T_1d703_row5_col5\" class=\"data row5 col5\" >1.000000</td>\n",
       "      <td id=\"T_1d703_row5_col6\" class=\"data row5 col6\" >0.796634</td>\n",
       "      <td id=\"T_1d703_row5_col7\" class=\"data row5 col7\" >0.898921</td>\n",
       "      <td id=\"T_1d703_row5_col8\" class=\"data row5 col8\" >0.187970</td>\n",
       "      <td id=\"T_1d703_row5_col9\" class=\"data row5 col9\" >0.025771</td>\n",
       "      <td id=\"T_1d703_row5_col10\" class=\"data row5 col10\" >0.081852</td>\n",
       "      <td id=\"T_1d703_row5_col11\" class=\"data row5 col11\" >0.028713</td>\n",
       "    </tr>\n",
       "    <tr>\n",
       "      <th id=\"T_1d703_level0_row6\" class=\"row_heading level0 row6\" >4</th>\n",
       "      <td id=\"T_1d703_row6_col0\" class=\"data row6 col0\" >0.982848</td>\n",
       "      <td id=\"T_1d703_row6_col1\" class=\"data row6 col1\" >0.714222</td>\n",
       "      <td id=\"T_1d703_row6_col2\" class=\"data row6 col2\" >0.558517</td>\n",
       "      <td id=\"T_1d703_row6_col3\" class=\"data row6 col3\" >0.337192</td>\n",
       "      <td id=\"T_1d703_row6_col4\" class=\"data row6 col4\" >0.122673</td>\n",
       "      <td id=\"T_1d703_row6_col5\" class=\"data row6 col5\" >0.796634</td>\n",
       "      <td id=\"T_1d703_row6_col6\" class=\"data row6 col6\" >1.000000</td>\n",
       "      <td id=\"T_1d703_row6_col7\" class=\"data row6 col7\" >0.873131</td>\n",
       "      <td id=\"T_1d703_row6_col8\" class=\"data row6 col8\" >0.510228</td>\n",
       "      <td id=\"T_1d703_row6_col9\" class=\"data row6 col9\" >-0.131516</td>\n",
       "      <td id=\"T_1d703_row6_col10\" class=\"data row6 col10\" >0.083513</td>\n",
       "      <td id=\"T_1d703_row6_col11\" class=\"data row6 col11\" >0.084543</td>\n",
       "    </tr>\n",
       "    <tr>\n",
       "      <th id=\"T_1d703_level0_row7\" class=\"row_heading level0 row7\" >6</th>\n",
       "      <td id=\"T_1d703_row7_col0\" class=\"data row7 col0\" >0.929581</td>\n",
       "      <td id=\"T_1d703_row7_col1\" class=\"data row7 col1\" >0.642877</td>\n",
       "      <td id=\"T_1d703_row7_col2\" class=\"data row7 col2\" >0.524778</td>\n",
       "      <td id=\"T_1d703_row7_col3\" class=\"data row7 col3\" >0.399008</td>\n",
       "      <td id=\"T_1d703_row7_col4\" class=\"data row7 col4\" >0.015215</td>\n",
       "      <td id=\"T_1d703_row7_col5\" class=\"data row7 col5\" >0.898921</td>\n",
       "      <td id=\"T_1d703_row7_col6\" class=\"data row7 col6\" >0.873131</td>\n",
       "      <td id=\"T_1d703_row7_col7\" class=\"data row7 col7\" >1.000000</td>\n",
       "      <td id=\"T_1d703_row7_col8\" class=\"data row7 col8\" >0.337604</td>\n",
       "      <td id=\"T_1d703_row7_col9\" class=\"data row7 col9\" >0.037432</td>\n",
       "      <td id=\"T_1d703_row7_col10\" class=\"data row7 col10\" >0.121903</td>\n",
       "      <td id=\"T_1d703_row7_col11\" class=\"data row7 col11\" >0.098881</td>\n",
       "    </tr>\n",
       "    <tr>\n",
       "      <th id=\"T_1d703_level0_row8\" class=\"row_heading level0 row8\" >Wickets</th>\n",
       "      <td id=\"T_1d703_row8_col0\" class=\"data row8 col0\" >0.479640</td>\n",
       "      <td id=\"T_1d703_row8_col1\" class=\"data row8 col1\" >0.240465</td>\n",
       "      <td id=\"T_1d703_row8_col2\" class=\"data row8 col2\" >0.156974</td>\n",
       "      <td id=\"T_1d703_row8_col3\" class=\"data row8 col3\" >0.111949</td>\n",
       "      <td id=\"T_1d703_row8_col4\" class=\"data row8 col4\" >-0.025311</td>\n",
       "      <td id=\"T_1d703_row8_col5\" class=\"data row8 col5\" >0.187970</td>\n",
       "      <td id=\"T_1d703_row8_col6\" class=\"data row8 col6\" >0.510228</td>\n",
       "      <td id=\"T_1d703_row8_col7\" class=\"data row8 col7\" >0.337604</td>\n",
       "      <td id=\"T_1d703_row8_col8\" class=\"data row8 col8\" >1.000000</td>\n",
       "      <td id=\"T_1d703_row8_col9\" class=\"data row8 col9\" >-0.031582</td>\n",
       "      <td id=\"T_1d703_row8_col10\" class=\"data row8 col10\" >0.029343</td>\n",
       "      <td id=\"T_1d703_row8_col11\" class=\"data row8 col11\" >0.098082</td>\n",
       "    </tr>\n",
       "    <tr>\n",
       "      <th id=\"T_1d703_level0_row9\" class=\"row_heading level0 row9\" >Economy</th>\n",
       "      <td id=\"T_1d703_row9_col0\" class=\"data row9 col0\" >-0.079850</td>\n",
       "      <td id=\"T_1d703_row9_col1\" class=\"data row9 col1\" >-0.006025</td>\n",
       "      <td id=\"T_1d703_row9_col2\" class=\"data row9 col2\" >0.004132</td>\n",
       "      <td id=\"T_1d703_row9_col3\" class=\"data row9 col3\" >0.093776</td>\n",
       "      <td id=\"T_1d703_row9_col4\" class=\"data row9 col4\" >0.045341</td>\n",
       "      <td id=\"T_1d703_row9_col5\" class=\"data row9 col5\" >0.025771</td>\n",
       "      <td id=\"T_1d703_row9_col6\" class=\"data row9 col6\" >-0.131516</td>\n",
       "      <td id=\"T_1d703_row9_col7\" class=\"data row9 col7\" >0.037432</td>\n",
       "      <td id=\"T_1d703_row9_col8\" class=\"data row9 col8\" >-0.031582</td>\n",
       "      <td id=\"T_1d703_row9_col9\" class=\"data row9 col9\" >1.000000</td>\n",
       "      <td id=\"T_1d703_row9_col10\" class=\"data row9 col10\" >0.362549</td>\n",
       "      <td id=\"T_1d703_row9_col11\" class=\"data row9 col11\" >0.215906</td>\n",
       "    </tr>\n",
       "    <tr>\n",
       "      <th id=\"T_1d703_level0_row10\" class=\"row_heading level0 row10\" >B_Average</th>\n",
       "      <td id=\"T_1d703_row10_col0\" class=\"data row10 col0\" >0.105952</td>\n",
       "      <td id=\"T_1d703_row10_col1\" class=\"data row10 col1\" >0.203657</td>\n",
       "      <td id=\"T_1d703_row10_col2\" class=\"data row10 col2\" >0.280806</td>\n",
       "      <td id=\"T_1d703_row10_col3\" class=\"data row10 col3\" >0.289383</td>\n",
       "      <td id=\"T_1d703_row10_col4\" class=\"data row10 col4\" >0.068166</td>\n",
       "      <td id=\"T_1d703_row10_col5\" class=\"data row10 col5\" >0.081852</td>\n",
       "      <td id=\"T_1d703_row10_col6\" class=\"data row10 col6\" >0.083513</td>\n",
       "      <td id=\"T_1d703_row10_col7\" class=\"data row10 col7\" >0.121903</td>\n",
       "      <td id=\"T_1d703_row10_col8\" class=\"data row10 col8\" >0.029343</td>\n",
       "      <td id=\"T_1d703_row10_col9\" class=\"data row10 col9\" >0.362549</td>\n",
       "      <td id=\"T_1d703_row10_col10\" class=\"data row10 col10\" >1.000000</td>\n",
       "      <td id=\"T_1d703_row10_col11\" class=\"data row10 col11\" >0.957324</td>\n",
       "    </tr>\n",
       "    <tr>\n",
       "      <th id=\"T_1d703_level0_row11\" class=\"row_heading level0 row11\" >Bowling_strike_rate</th>\n",
       "      <td id=\"T_1d703_row11_col0\" class=\"data row11 col0\" >0.102034</td>\n",
       "      <td id=\"T_1d703_row11_col1\" class=\"data row11 col1\" >0.188256</td>\n",
       "      <td id=\"T_1d703_row11_col2\" class=\"data row11 col2\" >0.272526</td>\n",
       "      <td id=\"T_1d703_row11_col3\" class=\"data row11 col3\" >0.301775</td>\n",
       "      <td id=\"T_1d703_row11_col4\" class=\"data row11 col4\" >0.059347</td>\n",
       "      <td id=\"T_1d703_row11_col5\" class=\"data row11 col5\" >0.028713</td>\n",
       "      <td id=\"T_1d703_row11_col6\" class=\"data row11 col6\" >0.084543</td>\n",
       "      <td id=\"T_1d703_row11_col7\" class=\"data row11 col7\" >0.098881</td>\n",
       "      <td id=\"T_1d703_row11_col8\" class=\"data row11 col8\" >0.098082</td>\n",
       "      <td id=\"T_1d703_row11_col9\" class=\"data row11 col9\" >0.215906</td>\n",
       "      <td id=\"T_1d703_row11_col10\" class=\"data row11 col10\" >0.957324</td>\n",
       "      <td id=\"T_1d703_row11_col11\" class=\"data row11 col11\" >1.000000</td>\n",
       "    </tr>\n",
       "  </tbody>\n",
       "</table>\n"
      ],
      "text/plain": [
       "<pandas.io.formats.style.Styler at 0x253fdca3cd0>"
      ]
     },
     "execution_count": 15,
     "metadata": {},
     "output_type": "execute_result"
    }
   ],
   "source": [
    "Correlation=X_train.corr()\n",
    "Correlation.style.applymap(lambda x: 'background-color : yellow' if x > 0.5 else '')"
   ]
  },
  {
   "cell_type": "code",
   "execution_count": 16,
   "id": "61844b2f",
   "metadata": {},
   "outputs": [
    {
     "data": {
      "text/plain": [
       "<AxesSubplot:>"
      ]
     },
     "execution_count": 16,
     "metadata": {},
     "output_type": "execute_result"
    },
    {
     "data": {
      "image/png": "[encoded data removed]",
      "text/plain": [
       "<Figure size 432x288 with 2 Axes>"
      ]
     },
     "metadata": {
      "needs_background": "light"
     },
     "output_type": "display_data"
    }
   ],
   "source": [
    "sns.heatmap(X_train.corr(), annot=True)"
   ]
  },
  {
   "cell_type": "markdown",
   "id": "054f4393",
   "metadata": {},
   "source": [
    "### PCA is effected by scale so you need to scale the features in the data before applying PCA. \n",
    "\n",
    "* You can transform the data onto unit scale (mean = 0 and variance = 1)"
   ]
  },
  {
   "cell_type": "code",
   "execution_count": 17,
   "id": "efee17ce",
   "metadata": {},
   "outputs": [],
   "source": [
    "# performing preprocessing part \n",
    "from sklearn.preprocessing import StandardScaler \n",
    "\n",
    "sc = StandardScaler() # mean 0 & std=1\n",
    "  \n",
    "X_train_1 = sc.fit_transform(X_train)  # Fit to data, then transform it."
   ]
  },
  {
   "cell_type": "markdown",
   "id": "affdb253",
   "metadata": {},
   "source": [
    "### Mean"
   ]
  },
  {
   "cell_type": "code",
   "execution_count": 18,
   "id": "e50563f1",
   "metadata": {},
   "outputs": [
    {
     "data": {
      "text/plain": [
       "array([-5.02243749e-17, -9.51619735e-17,  6.34413157e-17, -1.37456184e-16,\n",
       "       -1.98254112e-17,  5.28677631e-18, -6.60847038e-17, -1.32169408e-17,\n",
       "        6.34413157e-17,  5.60398289e-16, -4.22942105e-16, -5.07530526e-16])"
      ]
     },
     "execution_count": 18,
     "metadata": {},
     "output_type": "execute_result"
    }
   ],
   "source": [
    "X_train_1.mean(axis=0)"
   ]
  },
  {
   "cell_type": "markdown",
   "id": "e8fe9cf1",
   "metadata": {},
   "source": [
    "### Standard Deviation"
   ]
  },
  {
   "cell_type": "code",
   "execution_count": 19,
   "id": "c3c2fbc7",
   "metadata": {},
   "outputs": [
    {
     "data": {
      "text/plain": [
       "array([1., 1., 1., 1., 1., 1., 1., 1., 1., 1., 1., 1.])"
      ]
     },
     "execution_count": 19,
     "metadata": {},
     "output_type": "execute_result"
    }
   ],
   "source": [
    "X_train_1.std(axis=0)"
   ]
  },
  {
   "cell_type": "code",
   "execution_count": 20,
   "id": "c4f62944",
   "metadata": {},
   "outputs": [
    {
     "data": {
      "text/html": [
       "<div>\n",
       "<style scoped>\n",
       "    .dataframe tbody tr th:only-of-type {\n",
       "        vertical-align: middle;\n",
       "    }\n",
       "\n",
       "    .dataframe tbody tr th {\n",
       "        vertical-align: top;\n",
       "    }\n",
       "\n",
       "    .dataframe thead th {\n",
       "        text-align: right;\n",
       "    }\n",
       "</style>\n",
       "<table border=\"1\" class=\"dataframe\">\n",
       "  <thead>\n",
       "    <tr style=\"text-align: right;\">\n",
       "      <th></th>\n",
       "      <th>Runs</th>\n",
       "      <th>Highest</th>\n",
       "      <th>Average</th>\n",
       "      <th>Batting_strike_rate</th>\n",
       "      <th>100</th>\n",
       "      <th>50</th>\n",
       "      <th>4</th>\n",
       "      <th>6</th>\n",
       "      <th>Wickets</th>\n",
       "      <th>Economy</th>\n",
       "      <th>B_Average</th>\n",
       "      <th>Bowling_strike_rate</th>\n",
       "    </tr>\n",
       "  </thead>\n",
       "  <tbody>\n",
       "    <tr>\n",
       "      <th>0</th>\n",
       "      <td>32</td>\n",
       "      <td>22</td>\n",
       "      <td>32.00</td>\n",
       "      <td>139.13</td>\n",
       "      <td>0</td>\n",
       "      <td>0</td>\n",
       "      <td>0</td>\n",
       "      <td>3</td>\n",
       "      <td>6</td>\n",
       "      <td>7.00</td>\n",
       "      <td>24.50</td>\n",
       "      <td>21.00</td>\n",
       "    </tr>\n",
       "    <tr>\n",
       "      <th>1</th>\n",
       "      <td>366</td>\n",
       "      <td>53</td>\n",
       "      <td>30.50</td>\n",
       "      <td>134.56</td>\n",
       "      <td>0</td>\n",
       "      <td>1</td>\n",
       "      <td>24</td>\n",
       "      <td>20</td>\n",
       "      <td>24</td>\n",
       "      <td>7.13</td>\n",
       "      <td>28.33</td>\n",
       "      <td>23.83</td>\n",
       "    </tr>\n",
       "    <tr>\n",
       "      <th>2</th>\n",
       "      <td>1349</td>\n",
       "      <td>91</td>\n",
       "      <td>29.98</td>\n",
       "      <td>159.27</td>\n",
       "      <td>0</td>\n",
       "      <td>4</td>\n",
       "      <td>86</td>\n",
       "      <td>93</td>\n",
       "      <td>42</td>\n",
       "      <td>9.07</td>\n",
       "      <td>31.26</td>\n",
       "      <td>20.69</td>\n",
       "    </tr>\n",
       "  </tbody>\n",
       "</table>\n",
       "</div>"
      ],
      "text/plain": [
       "   Runs  Highest  Average  Batting_strike_rate  100  50   4   6  Wickets  \\\n",
       "0    32       22    32.00               139.13    0   0   0   3        6   \n",
       "1   366       53    30.50               134.56    0   1  24  20       24   \n",
       "2  1349       91    29.98               159.27    0   4  86  93       42   \n",
       "\n",
       "   Economy  B_Average  Bowling_strike_rate  \n",
       "0     7.00      24.50                21.00  \n",
       "1     7.13      28.33                23.83  \n",
       "2     9.07      31.26                20.69  "
      ]
     },
     "execution_count": 20,
     "metadata": {},
     "output_type": "execute_result"
    }
   ],
   "source": [
    "X_train.head(3)"
   ]
  },
  {
   "cell_type": "code",
   "execution_count": 21,
   "id": "2806a295",
   "metadata": {},
   "outputs": [
    {
     "data": {
      "text/plain": [
       "array([[-8.43944178e-01, -9.53478945e-01,  1.52642554e+00,\n",
       "         3.85932134e-01, -1.56173762e-01, -5.89846684e-01,\n",
       "        -9.11290217e-01, -6.53610581e-01, -7.04640452e-01,\n",
       "        -6.34173369e-01, -2.90638525e-01,  2.18041950e-02],\n",
       "       [-3.23783856e-01,  1.94929553e-01,  1.35571171e+00,\n",
       "         2.57122553e-01, -1.56173762e-01, -2.40923294e-01,\n",
       "        -3.95812923e-01, -2.13348359e-01, -2.60716967e-01,\n",
       "        -5.55621042e-01, -8.19961283e-03,  3.40579917e-01],\n",
       "       [ 1.20710715e+00,  1.60265610e+00,  1.29653091e+00,\n",
       "         9.53596239e-01, -1.56173762e-01,  8.05846879e-01,\n",
       "         9.35836755e-01,  1.67718942e+00,  1.83206517e-01,\n",
       "         6.16621384e-01,  2.07869842e-01, -1.31147003e-02],\n",
       "       [ 3.81413823e+00,  1.30629262e+00,  1.29084045e+00,\n",
       "         6.88930601e-01, -1.56173762e-01,  4.64400418e+00,\n",
       "         3.29844102e+00,  4.39645608e+00,  6.27130002e-01,\n",
       "         5.01814136e-01,  3.11848658e-01,  1.43457121e-01],\n",
       "       [ 1.46874468e+00,  1.49151979e+00,  1.27035479e+00,\n",
       "         1.60356318e+00, -1.56173762e-01,  2.20154044e+00,\n",
       "         1.34392295e+00,  2.60950941e+00,  6.51792418e-01,\n",
       "         5.50154030e-01, -2.66355731e-02, -2.26007321e-01],\n",
       "       [ 1.24737619e-01,  5.65383907e-01,  1.26807861e+00,\n",
       "         6.46128293e-02, -1.56173762e-01,  4.56923488e-01,\n",
       "         3.37514895e-02, -8.38594708e-02, -7.04640452e-01,\n",
       "         2.29902233e-01,  7.17439785e-01,  7.16802855e-01],\n",
       "       [ 6.15307983e-01,  9.72883697e-01,  1.12809326e+00,\n",
       "         7.70146270e-02, -1.56173762e-01,  1.15477027e+00,\n",
       "         9.57314975e-01, -3.20639153e-02,  8.45568542e-02,\n",
       "         2.05732286e-01,  3.17010727e-01,  2.94396862e-01],\n",
       "       [ 3.91047245e-01,  6.39474778e-01,  1.12240280e+00,\n",
       "         3.33506353e-01, -1.56173762e-01,  8.05846879e-01,\n",
       "         4.84794122e-01,  1.49220529e-01, -1.62067304e-01,\n",
       "         8.03938473e-01,  1.46662454e-01, -1.51663866e-01],\n",
       "       [-7.28699077e-01,  2.31974989e-01,  9.00474820e-01,\n",
       "        -2.15836915e-01, -1.56173762e-01, -2.40923294e-01,\n",
       "        -7.39464452e-01, -6.53610581e-01, -6.30653204e-01,\n",
       "         2.09098815e+00,  5.73639295e-01, -2.15869577e-01],\n",
       "       [ 5.38997037e-01,  2.19538307e+00,  8.76574884e-01,\n",
       "         2.72342941e-01,  6.40312424e+00,  1.08000097e-01,\n",
       "         7.85489211e-01,  9.74249734e-02, -1.62067304e-01,\n",
       "         2.90327101e-01,  4.36475750e-01,  3.80004477e-01],\n",
       "       [ 2.46857380e+00,  8.37932468e-02,  7.75284677e-01,\n",
       "         3.13534626e-02, -1.56173762e-01, -2.40923294e-01,\n",
       "         2.46079042e+00,  1.23692719e+00,  1.95890046e+00,\n",
       "        -2.29326758e-01,  1.47399892e-01,  3.37200669e-01],\n",
       "       [ 6.63586336e-01,  1.41742892e+00,  6.60337363e-01,\n",
       "         4.79509335e-01, -1.56173762e-01, -2.40923294e-01,\n",
       "         1.12914074e+00,  3.04607195e-01,  2.81856181e-01,\n",
       "        -4.71026228e-01,  3.19960481e-01,  7.05538695e-01],\n",
       "       [-3.56711028e-02,  1.26924718e+00,  6.11399397e-01,\n",
       "         9.14417832e-01, -1.56173762e-01,  1.08000097e-01,\n",
       "        -7.36396135e-02,  4.56294179e-02,  1.12037832e+00,\n",
       "        -1.44731944e-01, -3.28247884e-01, -2.67684712e-01],\n",
       "       [-4.56159986e-01,  2.69020424e-01,  5.49942418e-01,\n",
       "         5.05440366e-01, -1.56173762e-01,  1.08000097e-01,\n",
       "        -3.74334702e-01, -3.42837248e-01, -2.85379383e-01,\n",
       "         5.07856623e-01,  4.12087608e-02, -1.39273290e-01],\n",
       "       [ 8.83174975e-01,  7.87656520e-01,  4.81656885e-01,\n",
       "        -3.60108477e-02, -1.56173762e-01,  8.05846879e-01,\n",
       "         1.21505362e+00,  2.52811640e-01, -8.52614947e-01,\n",
       "        -4.86391408e+00, -2.09736264e+00, -2.34366936e+00],\n",
       "       [ 1.42669579e+00,  8.24701955e-01,  4.54342671e-01,\n",
       "         7.87057812e-02, -1.56173762e-01,  1.15477027e+00,\n",
       "         1.60166159e+00,  8.48460528e-01,  2.92073467e+00,\n",
       "         2.17817260e-01, -2.67040496e-01, -3.47660246e-01],\n",
       "       [ 1.45005628e+00,  1.75083784e+00,  4.03128522e-01,\n",
       "         8.24222940e-01, -1.56173762e-01,  1.50369366e+00,\n",
       "         1.62313981e+00,  1.62539386e+00, -3.84029046e-01,\n",
       "         3.14497047e-01,  9.29822048e-01,  8.93650164e-01],\n",
       "       [-5.23126734e-01, -3.23706543e-01,  3.47362003e-01,\n",
       "         1.22192604e+00, -1.56173762e-01, -5.89846684e-01,\n",
       "        -5.89116908e-01, -2.39246137e-01, -6.05990789e-01,\n",
       "         6.71003765e-01,  1.06624815e+00,  8.21559541e-01],\n",
       "       [ 2.68015313e-01,  6.76520214e-01,  3.09804960e-01,\n",
       "         3.44539121e-02, -1.56173762e-01,  1.08000097e-01,\n",
       "         5.92185225e-01, -2.13348359e-01,  6.02467586e-01,\n",
       "        -3.56218980e-01, -3.25350804e-02,  1.91893008e-01],\n",
       "       [-4.12553731e-01,  6.76520214e-01,  2.29000412e-01,\n",
       "         9.30765656e-01, -1.56173762e-01,  4.56923488e-01,\n",
       "        -4.60247584e-01, -1.35655026e-01, -6.05990789e-01,\n",
       "        -5.49578555e-01,  1.73947675e-01,  5.73748025e-01],\n",
       "       [ 5.28095474e-01, -1.38479366e-01, -3.73131663e-02,\n",
       "         6.34853931e-02, -1.56173762e-01, -5.89846684e-01,\n",
       "         2.27055475e-01,  3.82300528e-01,  1.12037832e+00,\n",
       "        -4.52898767e-01,  1.66573291e-01,  4.99404571e-01],\n",
       "       [-6.71076526e-01, -6.43884949e-02, -8.05606705e-02,\n",
       "         5.77314421e-01, -1.56173762e-01, -5.89846684e-01,\n",
       "        -6.96508011e-01, -5.24121692e-01, -7.78627699e-01,\n",
       "         7.73726039e-01,  6.55494958e-01,  3.59728989e-01],\n",
       "       [-7.58289035e-01, -2.73430595e-02, -1.35189097e-01,\n",
       "        -3.91716955e-01, -1.56173762e-01, -5.89846684e-01,\n",
       "        -8.03899114e-01, -6.53610581e-01, -8.52614947e-01,\n",
       "         5.74323977e-01, -2.09736264e+00, -2.34366936e+00],\n",
       "       [-5.43372495e-01, -3.60751978e-01, -1.45431927e-01,\n",
       "        -3.16460592e-01, -1.56173762e-01, -5.89846684e-01,\n",
       "        -7.17986232e-01, -3.68735026e-01, -3.59366630e-01,\n",
       "        -9.03495635e-02, -5.48741969e-01, -5.47035875e-01],\n",
       "       [-1.99194557e-01, -3.23706543e-01, -1.63641402e-01,\n",
       "        -1.74403636e-01, -1.56173762e-01, -5.89846684e-01,\n",
       "        -4.38769364e-01, -2.39246137e-01, -1.40928090e-02,\n",
       "        -6.01371298e-02,  1.51824523e-01,  2.50466639e-01],\n",
       "       [-6.04109778e-01, -4.71888285e-01, -1.90955616e-01,\n",
       "         6.83172623e-03, -1.56173762e-01, -5.89846684e-01,\n",
       "        -5.89116908e-01, -5.75917248e-01, -2.60716967e-01,\n",
       "        -7.12725697e-01,  2.04182650e-01,  7.25814183e-01],\n",
       "       [-6.30585004e-01, -7.68251768e-01, -1.92093708e-01,\n",
       "        -8.39268844e-02, -1.56173762e-01, -5.89846684e-01,\n",
       "        -7.82420893e-01, -4.20530581e-01, -7.53965283e-01,\n",
       "        -2.77666652e-01, -6.04049850e-01, -5.41403795e-01],\n",
       "       [ 7.95739985e-02,  5.28338472e-01, -1.93231800e-01,\n",
       "         1.11683289e-01, -1.56173762e-01,  1.08000097e-01,\n",
       "        -2.23987158e-01,  1.97316402e-02, -6.79978036e-01,\n",
       "         2.35944720e-01,  1.29485406e+00,  1.34083731e+00],\n",
       "       [-6.66404427e-01, -6.20070026e-01, -2.69483978e-01,\n",
       "         6.21002572e-01, -1.56173762e-01, -5.89846684e-01,\n",
       "        -6.32073349e-01, -5.50019470e-01, -5.81328373e-01,\n",
       "        -9.06085272e-01,  6.11195980e-02,  6.77378295e-01],\n",
       "       [-7.31813809e-01, -8.05297204e-01, -4.24264520e-01,\n",
       "        -4.58759141e-02, -1.56173762e-01, -5.89846684e-01,\n",
       "        -7.17986232e-01, -6.01815025e-01, -3.84029046e-01,\n",
       "         2.23859746e-01, -5.24985918e-03, -6.71826674e-02],\n",
       "       [-6.04109778e-01, -5.45979156e-01, -4.86859592e-01,\n",
       "         1.23038182e+00, -1.56173762e-01, -5.89846684e-01,\n",
       "        -6.32073349e-01, -4.20530581e-01, -5.32003541e-01,\n",
       "         1.27179959e-01,  1.09058362e+00,  1.19102398e+00],\n",
       "       [-3.25341222e-01, -4.34842849e-01, -5.17588082e-01,\n",
       "         2.43069867e-02, -1.56173762e-01, -5.89846684e-01,\n",
       "        -3.31378261e-01, -3.16939470e-01, -1.40928090e-02,\n",
       "        -1.08477024e-01, -6.05577401e-02,  2.85626909e-02],\n",
       "       [-6.38371835e-01, -8.79388074e-01, -6.79197177e-01,\n",
       "        -5.91273155e-01, -1.56173762e-01, -5.89846684e-01,\n",
       "        -5.46160467e-01, -7.05406136e-01,  3.31181012e-01,\n",
       "        -1.20561997e-01, -3.10549362e-01, -2.57546968e-01],\n",
       "       [-7.98780557e-01, -9.53478945e-01, -7.26997050e-01,\n",
       "        -8.49174176e-01, -1.56173762e-01, -5.89846684e-01,\n",
       "        -8.46855555e-01, -6.79508359e-01, -7.78627699e-01,\n",
       "         1.15440270e+00,  3.77780920e+00,  3.06312734e+00],\n",
       "       [ 1.57219829e-02, -8.79388074e-01, -7.58863632e-01,\n",
       "        -3.94253686e-01, -1.56173762e-01, -5.89846684e-01,\n",
       "         2.48533696e-01, -2.65143915e-01,  2.99472192e+00,\n",
       "        -1.08477024e-01, -8.19434541e-02,  2.65512338e-03],\n",
       "       [-2.52145009e-01, -1.01433930e-01, -8.81777591e-01,\n",
       "        -4.22157731e-01, -1.56173762e-01, -5.89846684e-01,\n",
       "        -1.59552496e-01, -4.46428359e-01,  2.55079844e+00,\n",
       "        -7.12725697e-01, -1.20290252e-01,  2.93270446e-01],\n",
       "       [-7.95665825e-01, -1.10166069e+00, -9.20472726e-01,\n",
       "        -8.45228149e-01, -1.56173762e-01, -5.89846684e-01,\n",
       "        -8.03899114e-01, -6.79508359e-01, -2.36054551e-01,\n",
       "         7.19343658e-01, -3.98304533e-01, -6.58551057e-01],\n",
       "       [-8.57960474e-01, -1.43506961e+00, -1.59194713e+00,\n",
       "        -1.30014864e+00, -1.56173762e-01, -5.89846684e-01,\n",
       "        -8.68333776e-01, -7.31303914e-01, -5.07341125e-01,\n",
       "         5.32026570e-01,  4.41637819e-01,  2.62857215e-01],\n",
       "       [-8.93779897e-01, -1.76847852e+00, -2.11546955e+00,\n",
       "        -3.53557268e+00, -1.56173762e-01, -5.89846684e-01,\n",
       "        -9.11290217e-01, -7.31303914e-01, -8.27952531e-01,\n",
       "        -1.54054638e+00, -1.28618038e+00, -9.91970187e-01],\n",
       "       [-8.92222531e-01, -1.73143309e+00, -2.11546955e+00,\n",
       "        -7.16982286e-01, -1.56173762e-01, -5.89846684e-01,\n",
       "        -9.11290217e-01, -7.31303914e-01, -8.03290115e-01,\n",
       "        -4.34771307e-01, -4.74998128e-01, -3.16120599e-01],\n",
       "       [-8.93779897e-01, -1.76847852e+00, -2.11546955e+00,\n",
       "        -3.53557268e+00, -1.56173762e-01, -5.89846684e-01,\n",
       "        -9.11290217e-01, -7.31303914e-01, -8.52614947e-01,\n",
       "         8.76448313e-01, -2.09736264e+00, -2.34366936e+00],\n",
       "       [-8.62632573e-01, -1.02756982e+00, -2.11546955e+00,\n",
       "         1.16217193e+00, -1.56173762e-01, -5.89846684e-01,\n",
       "        -8.68333776e-01, -7.05406136e-01, -8.52614947e-01,\n",
       "         1.11210530e+00, -2.09736264e+00, -2.34366936e+00]])"
      ]
     },
     "execution_count": 21,
     "metadata": {},
     "output_type": "execute_result"
    }
   ],
   "source": [
    "X_train_1"
   ]
  },
  {
   "cell_type": "markdown",
   "id": "0a9b8776",
   "metadata": {},
   "source": [
    "# No. of variable in original dataset"
   ]
  },
  {
   "cell_type": "code",
   "execution_count": 22,
   "id": "eabeb5c1",
   "metadata": {},
   "outputs": [],
   "source": [
    "# Applying PCA function on training \n",
    "# and testing set of X component \n",
    "from sklearn.decomposition import PCA \n",
    "  \n",
    "model = PCA(n_components = 3) # we are specifying we want 2 PCA\n",
    "  \n",
    "principalComponents= model.fit(X_train_1) # Fit the model with X and apply the dimensionality reduction on X."
   ]
  },
  {
   "cell_type": "markdown",
   "id": "ade7a88c",
   "metadata": {},
   "source": [
    "# Explained Variance\n",
    "* The explained variance tells you how much information (variance) can be attributed to each of the principal components. \n",
    "\n",
    "* This is important as while you can convert high dimensional space to 2 dimensional space, you lose some of the variance (information) when you do this. By using the attribute explained_variance_ratio_, "
   ]
  },
  {
   "cell_type": "code",
   "execution_count": 23,
   "id": "feab67ac",
   "metadata": {},
   "outputs": [
    {
     "data": {
      "text/plain": [
       "[5.366, 2.2527, 1.2193]"
      ]
     },
     "execution_count": 23,
     "metadata": {},
     "output_type": "execute_result"
    }
   ],
   "source": [
    "import numpy as np\n",
    "list(np.round(principalComponents.explained_variance_,4))   # eigen values  >= 1 "
   ]
  },
  {
   "cell_type": "code",
   "execution_count": 24,
   "id": "0d940bc2",
   "metadata": {},
   "outputs": [
    {
     "data": {
      "text/plain": [
       "0.44716666666666666"
      ]
     },
     "execution_count": 24,
     "metadata": {},
     "output_type": "execute_result"
    }
   ],
   "source": [
    "5.366/12"
   ]
  },
  {
   "cell_type": "code",
   "execution_count": 25,
   "id": "b9219452",
   "metadata": {},
   "outputs": [
    {
     "data": {
      "text/plain": [
       "0.18775"
      ]
     },
     "execution_count": 25,
     "metadata": {},
     "output_type": "execute_result"
    }
   ],
   "source": [
    "2.253/12"
   ]
  },
  {
   "cell_type": "code",
   "execution_count": 26,
   "id": "2dad55b4",
   "metadata": {},
   "outputs": [
    {
     "data": {
      "text/plain": [
       "0.10160833333333334"
      ]
     },
     "execution_count": 26,
     "metadata": {},
     "output_type": "execute_result"
    }
   ],
   "source": [
    "1.2193/12"
   ]
  },
  {
   "cell_type": "code",
   "execution_count": 27,
   "id": "8143bd28",
   "metadata": {},
   "outputs": [
    {
     "data": {
      "text/plain": [
       "[0.44, 0.18, 0.1]"
      ]
     },
     "execution_count": 27,
     "metadata": {},
     "output_type": "execute_result"
    }
   ],
   "source": [
    "list(np.round(principalComponents.explained_variance_ratio_,2))    # >= 50%"
   ]
  },
  {
   "cell_type": "markdown",
   "id": "87fe345d",
   "metadata": {},
   "source": [
    "* You can see that the first principal component contains 44% of the variance \n",
    "* You can see that the second principal component contains 18% of the variance\n",
    "* You can see that the second principal component contains 10% of the variance"
   ]
  },
  {
   "cell_type": "code",
   "execution_count": 28,
   "id": "35a73b62",
   "metadata": {},
   "outputs": [
    {
     "data": {
      "text/plain": [
       "array([-5.02243749e-17, -9.51619735e-17,  6.34413157e-17, -1.37456184e-16,\n",
       "       -1.98254112e-17,  5.28677631e-18, -6.60847038e-17, -1.32169408e-17,\n",
       "        6.34413157e-17,  5.60398289e-16, -4.22942105e-16, -5.07530526e-16])"
      ]
     },
     "execution_count": 28,
     "metadata": {},
     "output_type": "execute_result"
    }
   ],
   "source": [
    "principalComponents.mean_"
   ]
  },
  {
   "cell_type": "code",
   "execution_count": 29,
   "id": "c1f280d5",
   "metadata": {},
   "outputs": [
    {
     "data": {
      "text/plain": [
       "array([[ 1.27202948e+00,  6.99400307e-01,  5.94028228e-01,\n",
       "         4.17059740e-01,  3.37105345e-02,  7.97870554e-01,\n",
       "         8.78632821e-01,  8.53616944e-01,  4.66185431e-01,\n",
       "        -7.07401995e-02,  9.01539857e-02,  8.88892231e-02],\n",
       "       [ 6.99400307e-01,  1.18124661e+00,  7.08534389e-01,\n",
       "         5.64495695e-01,  3.06052784e-01,  6.63584440e-01,\n",
       "         6.99987430e-01,  6.80320751e-01,  2.10110252e-01,\n",
       "        -7.18514027e-04,  2.16692616e-01,  2.02888290e-01],\n",
       "       [ 5.94028228e-01,  7.08534389e-01,  1.02967453e+00,\n",
       "         5.33921779e-01,  2.76760923e-01,  5.63848741e-01,\n",
       "         5.91653208e-01,  5.82850854e-01,  1.74071842e-01,\n",
       "         5.90037464e-02,  2.99826746e-01,  2.84169750e-01],\n",
       "       [ 4.17059740e-01,  5.64495695e-01,  5.33921779e-01,\n",
       "         8.50211615e-01,  2.49543828e-01,  4.00748576e-01,\n",
       "         4.13250062e-01,  4.15874982e-01,  9.68305752e-02,\n",
       "         1.15006327e-01,  3.58492260e-01,  3.41446963e-01],\n",
       "       [ 3.37105345e-02,  3.06052784e-01,  2.76760923e-01,\n",
       "         2.49543828e-01,  7.27515628e-01,  7.61190399e-02,\n",
       "         4.79091518e-02,  3.61159329e-02, -1.81587724e-01,\n",
       "        -1.29014401e-02,  3.44658862e-02,  2.30839693e-02],\n",
       "       [ 7.97870554e-01,  6.63584440e-01,  5.63848741e-01,\n",
       "         4.00748576e-01,  7.61190399e-02,  1.10696952e+00,\n",
       "         7.91675515e-01,  7.66733068e-01,  3.91452290e-01,\n",
       "        -7.21748711e-02,  7.13448652e-02,  6.90990774e-02],\n",
       "       [ 8.78632821e-01,  6.99987430e-01,  5.91653208e-01,\n",
       "         4.13250062e-01,  4.79091518e-02,  7.91675515e-01,\n",
       "         1.25442744e+00,  8.43553801e-01,  4.51533566e-01,\n",
       "        -8.33695270e-02,  6.58820255e-02,  6.48763412e-02],\n",
       "       [ 8.53616944e-01,  6.80320751e-01,  5.82850854e-01,\n",
       "         4.15874982e-01,  3.61159329e-02,  7.66733068e-01,\n",
       "         8.43553801e-01,  1.20569541e+00,  4.47452429e-01,\n",
       "        -5.06084732e-02,  1.20223563e-01,  1.17902861e-01],\n",
       "       [ 4.66185431e-01,  2.10110252e-01,  1.74071842e-01,\n",
       "         9.68305752e-02, -1.81587724e-01,  3.91452290e-01,\n",
       "         4.51533566e-01,  4.47452429e-01,  7.46281021e-01,\n",
       "        -1.16698730e-02,  6.63385557e-02,  7.11756782e-02],\n",
       "       [-7.07401995e-02, -7.18514027e-04,  5.90037464e-02,\n",
       "         1.15006327e-01, -1.29014401e-02, -7.21748711e-02,\n",
       "        -8.33695270e-02, -5.06084732e-02, -1.16698730e-02,\n",
       "         6.06793823e-01,  4.04336755e-01,  3.92589998e-01],\n",
       "       [ 9.01539857e-02,  2.16692616e-01,  2.99826746e-01,\n",
       "         3.58492260e-01,  3.44658862e-02,  7.13448652e-02,\n",
       "         6.58820255e-02,  1.20223563e-01,  6.63385557e-02,\n",
       "         4.04336755e-01,  1.17970445e+00,  7.71540332e-01],\n",
       "       [ 8.88892231e-02,  2.02888290e-01,  2.84169750e-01,\n",
       "         3.41446963e-01,  2.30839693e-02,  6.90990774e-02,\n",
       "         6.48763412e-02,  1.17902861e-01,  7.11756782e-02,\n",
       "         3.92589998e-01,  7.71540332e-01,  1.13213341e+00]])"
      ]
     },
     "execution_count": 29,
     "metadata": {},
     "output_type": "execute_result"
    }
   ],
   "source": [
    "principalComponents.get_covariance()"
   ]
  },
  {
   "cell_type": "code",
   "execution_count": 30,
   "id": "e3b90ddd",
   "metadata": {},
   "outputs": [
    {
     "data": {
      "text/plain": [
       "array([[-8.43944178e-01, -9.53478945e-01,  1.52642554e+00,\n",
       "         3.85932134e-01, -1.56173762e-01, -5.89846684e-01,\n",
       "        -9.11290217e-01, -6.53610581e-01, -7.04640452e-01,\n",
       "        -6.34173369e-01, -2.90638525e-01,  2.18041950e-02],\n",
       "       [-3.23783856e-01,  1.94929553e-01,  1.35571171e+00,\n",
       "         2.57122553e-01, -1.56173762e-01, -2.40923294e-01,\n",
       "        -3.95812923e-01, -2.13348359e-01, -2.60716967e-01,\n",
       "        -5.55621042e-01, -8.19961283e-03,  3.40579917e-01],\n",
       "       [ 1.20710715e+00,  1.60265610e+00,  1.29653091e+00,\n",
       "         9.53596239e-01, -1.56173762e-01,  8.05846879e-01,\n",
       "         9.35836755e-01,  1.67718942e+00,  1.83206517e-01,\n",
       "         6.16621384e-01,  2.07869842e-01, -1.31147003e-02],\n",
       "       [ 3.81413823e+00,  1.30629262e+00,  1.29084045e+00,\n",
       "         6.88930601e-01, -1.56173762e-01,  4.64400418e+00,\n",
       "         3.29844102e+00,  4.39645608e+00,  6.27130002e-01,\n",
       "         5.01814136e-01,  3.11848658e-01,  1.43457121e-01],\n",
       "       [ 1.46874468e+00,  1.49151979e+00,  1.27035479e+00,\n",
       "         1.60356318e+00, -1.56173762e-01,  2.20154044e+00,\n",
       "         1.34392295e+00,  2.60950941e+00,  6.51792418e-01,\n",
       "         5.50154030e-01, -2.66355731e-02, -2.26007321e-01],\n",
       "       [ 1.24737619e-01,  5.65383907e-01,  1.26807861e+00,\n",
       "         6.46128293e-02, -1.56173762e-01,  4.56923488e-01,\n",
       "         3.37514895e-02, -8.38594708e-02, -7.04640452e-01,\n",
       "         2.29902233e-01,  7.17439785e-01,  7.16802855e-01],\n",
       "       [ 6.15307983e-01,  9.72883697e-01,  1.12809326e+00,\n",
       "         7.70146270e-02, -1.56173762e-01,  1.15477027e+00,\n",
       "         9.57314975e-01, -3.20639153e-02,  8.45568542e-02,\n",
       "         2.05732286e-01,  3.17010727e-01,  2.94396862e-01],\n",
       "       [ 3.91047245e-01,  6.39474778e-01,  1.12240280e+00,\n",
       "         3.33506353e-01, -1.56173762e-01,  8.05846879e-01,\n",
       "         4.84794122e-01,  1.49220529e-01, -1.62067304e-01,\n",
       "         8.03938473e-01,  1.46662454e-01, -1.51663866e-01],\n",
       "       [-7.28699077e-01,  2.31974989e-01,  9.00474820e-01,\n",
       "        -2.15836915e-01, -1.56173762e-01, -2.40923294e-01,\n",
       "        -7.39464452e-01, -6.53610581e-01, -6.30653204e-01,\n",
       "         2.09098815e+00,  5.73639295e-01, -2.15869577e-01],\n",
       "       [ 5.38997037e-01,  2.19538307e+00,  8.76574884e-01,\n",
       "         2.72342941e-01,  6.40312424e+00,  1.08000097e-01,\n",
       "         7.85489211e-01,  9.74249734e-02, -1.62067304e-01,\n",
       "         2.90327101e-01,  4.36475750e-01,  3.80004477e-01],\n",
       "       [ 2.46857380e+00,  8.37932468e-02,  7.75284677e-01,\n",
       "         3.13534626e-02, -1.56173762e-01, -2.40923294e-01,\n",
       "         2.46079042e+00,  1.23692719e+00,  1.95890046e+00,\n",
       "        -2.29326758e-01,  1.47399892e-01,  3.37200669e-01],\n",
       "       [ 6.63586336e-01,  1.41742892e+00,  6.60337363e-01,\n",
       "         4.79509335e-01, -1.56173762e-01, -2.40923294e-01,\n",
       "         1.12914074e+00,  3.04607195e-01,  2.81856181e-01,\n",
       "        -4.71026228e-01,  3.19960481e-01,  7.05538695e-01],\n",
       "       [-3.56711028e-02,  1.26924718e+00,  6.11399397e-01,\n",
       "         9.14417832e-01, -1.56173762e-01,  1.08000097e-01,\n",
       "        -7.36396135e-02,  4.56294179e-02,  1.12037832e+00,\n",
       "        -1.44731944e-01, -3.28247884e-01, -2.67684712e-01],\n",
       "       [-4.56159986e-01,  2.69020424e-01,  5.49942418e-01,\n",
       "         5.05440366e-01, -1.56173762e-01,  1.08000097e-01,\n",
       "        -3.74334702e-01, -3.42837248e-01, -2.85379383e-01,\n",
       "         5.07856623e-01,  4.12087608e-02, -1.39273290e-01],\n",
       "       [ 8.83174975e-01,  7.87656520e-01,  4.81656885e-01,\n",
       "        -3.60108477e-02, -1.56173762e-01,  8.05846879e-01,\n",
       "         1.21505362e+00,  2.52811640e-01, -8.52614947e-01,\n",
       "        -4.86391408e+00, -2.09736264e+00, -2.34366936e+00],\n",
       "       [ 1.42669579e+00,  8.24701955e-01,  4.54342671e-01,\n",
       "         7.87057812e-02, -1.56173762e-01,  1.15477027e+00,\n",
       "         1.60166159e+00,  8.48460528e-01,  2.92073467e+00,\n",
       "         2.17817260e-01, -2.67040496e-01, -3.47660246e-01],\n",
       "       [ 1.45005628e+00,  1.75083784e+00,  4.03128522e-01,\n",
       "         8.24222940e-01, -1.56173762e-01,  1.50369366e+00,\n",
       "         1.62313981e+00,  1.62539386e+00, -3.84029046e-01,\n",
       "         3.14497047e-01,  9.29822048e-01,  8.93650164e-01],\n",
       "       [-5.23126734e-01, -3.23706543e-01,  3.47362003e-01,\n",
       "         1.22192604e+00, -1.56173762e-01, -5.89846684e-01,\n",
       "        -5.89116908e-01, -2.39246137e-01, -6.05990789e-01,\n",
       "         6.71003765e-01,  1.06624815e+00,  8.21559541e-01],\n",
       "       [ 2.68015313e-01,  6.76520214e-01,  3.09804960e-01,\n",
       "         3.44539121e-02, -1.56173762e-01,  1.08000097e-01,\n",
       "         5.92185225e-01, -2.13348359e-01,  6.02467586e-01,\n",
       "        -3.56218980e-01, -3.25350804e-02,  1.91893008e-01],\n",
       "       [-4.12553731e-01,  6.76520214e-01,  2.29000412e-01,\n",
       "         9.30765656e-01, -1.56173762e-01,  4.56923488e-01,\n",
       "        -4.60247584e-01, -1.35655026e-01, -6.05990789e-01,\n",
       "        -5.49578555e-01,  1.73947675e-01,  5.73748025e-01],\n",
       "       [ 5.28095474e-01, -1.38479366e-01, -3.73131663e-02,\n",
       "         6.34853931e-02, -1.56173762e-01, -5.89846684e-01,\n",
       "         2.27055475e-01,  3.82300528e-01,  1.12037832e+00,\n",
       "        -4.52898767e-01,  1.66573291e-01,  4.99404571e-01],\n",
       "       [-6.71076526e-01, -6.43884949e-02, -8.05606705e-02,\n",
       "         5.77314421e-01, -1.56173762e-01, -5.89846684e-01,\n",
       "        -6.96508011e-01, -5.24121692e-01, -7.78627699e-01,\n",
       "         7.73726039e-01,  6.55494958e-01,  3.59728989e-01],\n",
       "       [-7.58289035e-01, -2.73430595e-02, -1.35189097e-01,\n",
       "        -3.91716955e-01, -1.56173762e-01, -5.89846684e-01,\n",
       "        -8.03899114e-01, -6.53610581e-01, -8.52614947e-01,\n",
       "         5.74323977e-01, -2.09736264e+00, -2.34366936e+00],\n",
       "       [-5.43372495e-01, -3.60751978e-01, -1.45431927e-01,\n",
       "        -3.16460592e-01, -1.56173762e-01, -5.89846684e-01,\n",
       "        -7.17986232e-01, -3.68735026e-01, -3.59366630e-01,\n",
       "        -9.03495635e-02, -5.48741969e-01, -5.47035875e-01],\n",
       "       [-1.99194557e-01, -3.23706543e-01, -1.63641402e-01,\n",
       "        -1.74403636e-01, -1.56173762e-01, -5.89846684e-01,\n",
       "        -4.38769364e-01, -2.39246137e-01, -1.40928090e-02,\n",
       "        -6.01371298e-02,  1.51824523e-01,  2.50466639e-01],\n",
       "       [-6.04109778e-01, -4.71888285e-01, -1.90955616e-01,\n",
       "         6.83172623e-03, -1.56173762e-01, -5.89846684e-01,\n",
       "        -5.89116908e-01, -5.75917248e-01, -2.60716967e-01,\n",
       "        -7.12725697e-01,  2.04182650e-01,  7.25814183e-01],\n",
       "       [-6.30585004e-01, -7.68251768e-01, -1.92093708e-01,\n",
       "        -8.39268844e-02, -1.56173762e-01, -5.89846684e-01,\n",
       "        -7.82420893e-01, -4.20530581e-01, -7.53965283e-01,\n",
       "        -2.77666652e-01, -6.04049850e-01, -5.41403795e-01],\n",
       "       [ 7.95739985e-02,  5.28338472e-01, -1.93231800e-01,\n",
       "         1.11683289e-01, -1.56173762e-01,  1.08000097e-01,\n",
       "        -2.23987158e-01,  1.97316402e-02, -6.79978036e-01,\n",
       "         2.35944720e-01,  1.29485406e+00,  1.34083731e+00],\n",
       "       [-6.66404427e-01, -6.20070026e-01, -2.69483978e-01,\n",
       "         6.21002572e-01, -1.56173762e-01, -5.89846684e-01,\n",
       "        -6.32073349e-01, -5.50019470e-01, -5.81328373e-01,\n",
       "        -9.06085272e-01,  6.11195980e-02,  6.77378295e-01],\n",
       "       [-7.31813809e-01, -8.05297204e-01, -4.24264520e-01,\n",
       "        -4.58759141e-02, -1.56173762e-01, -5.89846684e-01,\n",
       "        -7.17986232e-01, -6.01815025e-01, -3.84029046e-01,\n",
       "         2.23859746e-01, -5.24985918e-03, -6.71826674e-02],\n",
       "       [-6.04109778e-01, -5.45979156e-01, -4.86859592e-01,\n",
       "         1.23038182e+00, -1.56173762e-01, -5.89846684e-01,\n",
       "        -6.32073349e-01, -4.20530581e-01, -5.32003541e-01,\n",
       "         1.27179959e-01,  1.09058362e+00,  1.19102398e+00],\n",
       "       [-3.25341222e-01, -4.34842849e-01, -5.17588082e-01,\n",
       "         2.43069867e-02, -1.56173762e-01, -5.89846684e-01,\n",
       "        -3.31378261e-01, -3.16939470e-01, -1.40928090e-02,\n",
       "        -1.08477024e-01, -6.05577401e-02,  2.85626909e-02],\n",
       "       [-6.38371835e-01, -8.79388074e-01, -6.79197177e-01,\n",
       "        -5.91273155e-01, -1.56173762e-01, -5.89846684e-01,\n",
       "        -5.46160467e-01, -7.05406136e-01,  3.31181012e-01,\n",
       "        -1.20561997e-01, -3.10549362e-01, -2.57546968e-01],\n",
       "       [-7.98780557e-01, -9.53478945e-01, -7.26997050e-01,\n",
       "        -8.49174176e-01, -1.56173762e-01, -5.89846684e-01,\n",
       "        -8.46855555e-01, -6.79508359e-01, -7.78627699e-01,\n",
       "         1.15440270e+00,  3.77780920e+00,  3.06312734e+00],\n",
       "       [ 1.57219829e-02, -8.79388074e-01, -7.58863632e-01,\n",
       "        -3.94253686e-01, -1.56173762e-01, -5.89846684e-01,\n",
       "         2.48533696e-01, -2.65143915e-01,  2.99472192e+00,\n",
       "        -1.08477024e-01, -8.19434541e-02,  2.65512338e-03],\n",
       "       [-2.52145009e-01, -1.01433930e-01, -8.81777591e-01,\n",
       "        -4.22157731e-01, -1.56173762e-01, -5.89846684e-01,\n",
       "        -1.59552496e-01, -4.46428359e-01,  2.55079844e+00,\n",
       "        -7.12725697e-01, -1.20290252e-01,  2.93270446e-01],\n",
       "       [-7.95665825e-01, -1.10166069e+00, -9.20472726e-01,\n",
       "        -8.45228149e-01, -1.56173762e-01, -5.89846684e-01,\n",
       "        -8.03899114e-01, -6.79508359e-01, -2.36054551e-01,\n",
       "         7.19343658e-01, -3.98304533e-01, -6.58551057e-01],\n",
       "       [-8.57960474e-01, -1.43506961e+00, -1.59194713e+00,\n",
       "        -1.30014864e+00, -1.56173762e-01, -5.89846684e-01,\n",
       "        -8.68333776e-01, -7.31303914e-01, -5.07341125e-01,\n",
       "         5.32026570e-01,  4.41637819e-01,  2.62857215e-01],\n",
       "       [-8.93779897e-01, -1.76847852e+00, -2.11546955e+00,\n",
       "        -3.53557268e+00, -1.56173762e-01, -5.89846684e-01,\n",
       "        -9.11290217e-01, -7.31303914e-01, -8.27952531e-01,\n",
       "        -1.54054638e+00, -1.28618038e+00, -9.91970187e-01],\n",
       "       [-8.92222531e-01, -1.73143309e+00, -2.11546955e+00,\n",
       "        -7.16982286e-01, -1.56173762e-01, -5.89846684e-01,\n",
       "        -9.11290217e-01, -7.31303914e-01, -8.03290115e-01,\n",
       "        -4.34771307e-01, -4.74998128e-01, -3.16120599e-01],\n",
       "       [-8.93779897e-01, -1.76847852e+00, -2.11546955e+00,\n",
       "        -3.53557268e+00, -1.56173762e-01, -5.89846684e-01,\n",
       "        -9.11290217e-01, -7.31303914e-01, -8.52614947e-01,\n",
       "         8.76448313e-01, -2.09736264e+00, -2.34366936e+00],\n",
       "       [-8.62632573e-01, -1.02756982e+00, -2.11546955e+00,\n",
       "         1.16217193e+00, -1.56173762e-01, -5.89846684e-01,\n",
       "        -8.68333776e-01, -7.05406136e-01, -8.52614947e-01,\n",
       "         1.11210530e+00, -2.09736264e+00, -2.34366936e+00]])"
      ]
     },
     "execution_count": 30,
     "metadata": {},
     "output_type": "execute_result"
    }
   ],
   "source": [
    "X_train_1 ### scaled dataset"
   ]
  },
  {
   "cell_type": "markdown",
   "id": "d8d4deb8",
   "metadata": {},
   "source": [
    "# Beta Values or Eigen Vector \n",
    "Z1 = Beta1*x1+Beta2*X2 + beta3*X3 + ..... + beta13*X13"
   ]
  },
  {
   "cell_type": "code",
   "execution_count": 31,
   "id": "a5267fbf",
   "metadata": {},
   "outputs": [
    {
     "data": {
      "text/plain": [
       "array([[ 0.40498322,  0.37442305,  0.33198688,  0.2558993 ,  0.06872843,\n",
       "         0.36957617,  0.4004517 ,  0.39310532,  0.18519564,  0.00713723,\n",
       "         0.12384089,  0.1191965 ],\n",
       "       [-0.16270229,  0.03414918,  0.12296618,  0.21218145,  0.07659921,\n",
       "        -0.14593368, -0.17680606, -0.12931811, -0.10439589,  0.33499631,\n",
       "         0.60774984,  0.58701926],\n",
       "       [-0.16069838,  0.34031215,  0.2862503 ,  0.2588313 ,  0.6083291 ,\n",
       "        -0.05812189, -0.12573492, -0.15736624, -0.45266743, -0.1245546 ,\n",
       "        -0.18681064, -0.20023757]])"
      ]
     },
     "execution_count": 31,
     "metadata": {},
     "output_type": "execute_result"
    }
   ],
   "source": [
    "principalComponents.components_   ##  BETA VALUES  Z1 , Z2 "
   ]
  },
  {
   "cell_type": "markdown",
   "id": "f0b70ca5",
   "metadata": {},
   "source": [
    "### Renaming the Columns  \n",
    "\n",
    "* Prediction for data to get data reduction "
   ]
  },
  {
   "cell_type": "code",
   "execution_count": 32,
   "id": "c5eeb984",
   "metadata": {},
   "outputs": [
    {
     "data": {
      "text/plain": [
       "array([[-8.43944178e-01, -9.53478945e-01,  1.52642554e+00,\n",
       "         3.85932134e-01, -1.56173762e-01, -5.89846684e-01,\n",
       "        -9.11290217e-01, -6.53610581e-01, -7.04640452e-01,\n",
       "        -6.34173369e-01, -2.90638525e-01,  2.18041950e-02],\n",
       "       [-3.23783856e-01,  1.94929553e-01,  1.35571171e+00,\n",
       "         2.57122553e-01, -1.56173762e-01, -2.40923294e-01,\n",
       "        -3.95812923e-01, -2.13348359e-01, -2.60716967e-01,\n",
       "        -5.55621042e-01, -8.19961283e-03,  3.40579917e-01],\n",
       "       [ 1.20710715e+00,  1.60265610e+00,  1.29653091e+00,\n",
       "         9.53596239e-01, -1.56173762e-01,  8.05846879e-01,\n",
       "         9.35836755e-01,  1.67718942e+00,  1.83206517e-01,\n",
       "         6.16621384e-01,  2.07869842e-01, -1.31147003e-02],\n",
       "       [ 3.81413823e+00,  1.30629262e+00,  1.29084045e+00,\n",
       "         6.88930601e-01, -1.56173762e-01,  4.64400418e+00,\n",
       "         3.29844102e+00,  4.39645608e+00,  6.27130002e-01,\n",
       "         5.01814136e-01,  3.11848658e-01,  1.43457121e-01],\n",
       "       [ 1.46874468e+00,  1.49151979e+00,  1.27035479e+00,\n",
       "         1.60356318e+00, -1.56173762e-01,  2.20154044e+00,\n",
       "         1.34392295e+00,  2.60950941e+00,  6.51792418e-01,\n",
       "         5.50154030e-01, -2.66355731e-02, -2.26007321e-01],\n",
       "       [ 1.24737619e-01,  5.65383907e-01,  1.26807861e+00,\n",
       "         6.46128293e-02, -1.56173762e-01,  4.56923488e-01,\n",
       "         3.37514895e-02, -8.38594708e-02, -7.04640452e-01,\n",
       "         2.29902233e-01,  7.17439785e-01,  7.16802855e-01],\n",
       "       [ 6.15307983e-01,  9.72883697e-01,  1.12809326e+00,\n",
       "         7.70146270e-02, -1.56173762e-01,  1.15477027e+00,\n",
       "         9.57314975e-01, -3.20639153e-02,  8.45568542e-02,\n",
       "         2.05732286e-01,  3.17010727e-01,  2.94396862e-01],\n",
       "       [ 3.91047245e-01,  6.39474778e-01,  1.12240280e+00,\n",
       "         3.33506353e-01, -1.56173762e-01,  8.05846879e-01,\n",
       "         4.84794122e-01,  1.49220529e-01, -1.62067304e-01,\n",
       "         8.03938473e-01,  1.46662454e-01, -1.51663866e-01],\n",
       "       [-7.28699077e-01,  2.31974989e-01,  9.00474820e-01,\n",
       "        -2.15836915e-01, -1.56173762e-01, -2.40923294e-01,\n",
       "        -7.39464452e-01, -6.53610581e-01, -6.30653204e-01,\n",
       "         2.09098815e+00,  5.73639295e-01, -2.15869577e-01],\n",
       "       [ 5.38997037e-01,  2.19538307e+00,  8.76574884e-01,\n",
       "         2.72342941e-01,  6.40312424e+00,  1.08000097e-01,\n",
       "         7.85489211e-01,  9.74249734e-02, -1.62067304e-01,\n",
       "         2.90327101e-01,  4.36475750e-01,  3.80004477e-01],\n",
       "       [ 2.46857380e+00,  8.37932468e-02,  7.75284677e-01,\n",
       "         3.13534626e-02, -1.56173762e-01, -2.40923294e-01,\n",
       "         2.46079042e+00,  1.23692719e+00,  1.95890046e+00,\n",
       "        -2.29326758e-01,  1.47399892e-01,  3.37200669e-01],\n",
       "       [ 6.63586336e-01,  1.41742892e+00,  6.60337363e-01,\n",
       "         4.79509335e-01, -1.56173762e-01, -2.40923294e-01,\n",
       "         1.12914074e+00,  3.04607195e-01,  2.81856181e-01,\n",
       "        -4.71026228e-01,  3.19960481e-01,  7.05538695e-01],\n",
       "       [-3.56711028e-02,  1.26924718e+00,  6.11399397e-01,\n",
       "         9.14417832e-01, -1.56173762e-01,  1.08000097e-01,\n",
       "        -7.36396135e-02,  4.56294179e-02,  1.12037832e+00,\n",
       "        -1.44731944e-01, -3.28247884e-01, -2.67684712e-01],\n",
       "       [-4.56159986e-01,  2.69020424e-01,  5.49942418e-01,\n",
       "         5.05440366e-01, -1.56173762e-01,  1.08000097e-01,\n",
       "        -3.74334702e-01, -3.42837248e-01, -2.85379383e-01,\n",
       "         5.07856623e-01,  4.12087608e-02, -1.39273290e-01],\n",
       "       [ 8.83174975e-01,  7.87656520e-01,  4.81656885e-01,\n",
       "        -3.60108477e-02, -1.56173762e-01,  8.05846879e-01,\n",
       "         1.21505362e+00,  2.52811640e-01, -8.52614947e-01,\n",
       "        -4.86391408e+00, -2.09736264e+00, -2.34366936e+00],\n",
       "       [ 1.42669579e+00,  8.24701955e-01,  4.54342671e-01,\n",
       "         7.87057812e-02, -1.56173762e-01,  1.15477027e+00,\n",
       "         1.60166159e+00,  8.48460528e-01,  2.92073467e+00,\n",
       "         2.17817260e-01, -2.67040496e-01, -3.47660246e-01],\n",
       "       [ 1.45005628e+00,  1.75083784e+00,  4.03128522e-01,\n",
       "         8.24222940e-01, -1.56173762e-01,  1.50369366e+00,\n",
       "         1.62313981e+00,  1.62539386e+00, -3.84029046e-01,\n",
       "         3.14497047e-01,  9.29822048e-01,  8.93650164e-01],\n",
       "       [-5.23126734e-01, -3.23706543e-01,  3.47362003e-01,\n",
       "         1.22192604e+00, -1.56173762e-01, -5.89846684e-01,\n",
       "        -5.89116908e-01, -2.39246137e-01, -6.05990789e-01,\n",
       "         6.71003765e-01,  1.06624815e+00,  8.21559541e-01],\n",
       "       [ 2.68015313e-01,  6.76520214e-01,  3.09804960e-01,\n",
       "         3.44539121e-02, -1.56173762e-01,  1.08000097e-01,\n",
       "         5.92185225e-01, -2.13348359e-01,  6.02467586e-01,\n",
       "        -3.56218980e-01, -3.25350804e-02,  1.91893008e-01],\n",
       "       [-4.12553731e-01,  6.76520214e-01,  2.29000412e-01,\n",
       "         9.30765656e-01, -1.56173762e-01,  4.56923488e-01,\n",
       "        -4.60247584e-01, -1.35655026e-01, -6.05990789e-01,\n",
       "        -5.49578555e-01,  1.73947675e-01,  5.73748025e-01],\n",
       "       [ 5.28095474e-01, -1.38479366e-01, -3.73131663e-02,\n",
       "         6.34853931e-02, -1.56173762e-01, -5.89846684e-01,\n",
       "         2.27055475e-01,  3.82300528e-01,  1.12037832e+00,\n",
       "        -4.52898767e-01,  1.66573291e-01,  4.99404571e-01],\n",
       "       [-6.71076526e-01, -6.43884949e-02, -8.05606705e-02,\n",
       "         5.77314421e-01, -1.56173762e-01, -5.89846684e-01,\n",
       "        -6.96508011e-01, -5.24121692e-01, -7.78627699e-01,\n",
       "         7.73726039e-01,  6.55494958e-01,  3.59728989e-01],\n",
       "       [-7.58289035e-01, -2.73430595e-02, -1.35189097e-01,\n",
       "        -3.91716955e-01, -1.56173762e-01, -5.89846684e-01,\n",
       "        -8.03899114e-01, -6.53610581e-01, -8.52614947e-01,\n",
       "         5.74323977e-01, -2.09736264e+00, -2.34366936e+00],\n",
       "       [-5.43372495e-01, -3.60751978e-01, -1.45431927e-01,\n",
       "        -3.16460592e-01, -1.56173762e-01, -5.89846684e-01,\n",
       "        -7.17986232e-01, -3.68735026e-01, -3.59366630e-01,\n",
       "        -9.03495635e-02, -5.48741969e-01, -5.47035875e-01],\n",
       "       [-1.99194557e-01, -3.23706543e-01, -1.63641402e-01,\n",
       "        -1.74403636e-01, -1.56173762e-01, -5.89846684e-01,\n",
       "        -4.38769364e-01, -2.39246137e-01, -1.40928090e-02,\n",
       "        -6.01371298e-02,  1.51824523e-01,  2.50466639e-01],\n",
       "       [-6.04109778e-01, -4.71888285e-01, -1.90955616e-01,\n",
       "         6.83172623e-03, -1.56173762e-01, -5.89846684e-01,\n",
       "        -5.89116908e-01, -5.75917248e-01, -2.60716967e-01,\n",
       "        -7.12725697e-01,  2.04182650e-01,  7.25814183e-01],\n",
       "       [-6.30585004e-01, -7.68251768e-01, -1.92093708e-01,\n",
       "        -8.39268844e-02, -1.56173762e-01, -5.89846684e-01,\n",
       "        -7.82420893e-01, -4.20530581e-01, -7.53965283e-01,\n",
       "        -2.77666652e-01, -6.04049850e-01, -5.41403795e-01],\n",
       "       [ 7.95739985e-02,  5.28338472e-01, -1.93231800e-01,\n",
       "         1.11683289e-01, -1.56173762e-01,  1.08000097e-01,\n",
       "        -2.23987158e-01,  1.97316402e-02, -6.79978036e-01,\n",
       "         2.35944720e-01,  1.29485406e+00,  1.34083731e+00],\n",
       "       [-6.66404427e-01, -6.20070026e-01, -2.69483978e-01,\n",
       "         6.21002572e-01, -1.56173762e-01, -5.89846684e-01,\n",
       "        -6.32073349e-01, -5.50019470e-01, -5.81328373e-01,\n",
       "        -9.06085272e-01,  6.11195980e-02,  6.77378295e-01],\n",
       "       [-7.31813809e-01, -8.05297204e-01, -4.24264520e-01,\n",
       "        -4.58759141e-02, -1.56173762e-01, -5.89846684e-01,\n",
       "        -7.17986232e-01, -6.01815025e-01, -3.84029046e-01,\n",
       "         2.23859746e-01, -5.24985918e-03, -6.71826674e-02],\n",
       "       [-6.04109778e-01, -5.45979156e-01, -4.86859592e-01,\n",
       "         1.23038182e+00, -1.56173762e-01, -5.89846684e-01,\n",
       "        -6.32073349e-01, -4.20530581e-01, -5.32003541e-01,\n",
       "         1.27179959e-01,  1.09058362e+00,  1.19102398e+00],\n",
       "       [-3.25341222e-01, -4.34842849e-01, -5.17588082e-01,\n",
       "         2.43069867e-02, -1.56173762e-01, -5.89846684e-01,\n",
       "        -3.31378261e-01, -3.16939470e-01, -1.40928090e-02,\n",
       "        -1.08477024e-01, -6.05577401e-02,  2.85626909e-02],\n",
       "       [-6.38371835e-01, -8.79388074e-01, -6.79197177e-01,\n",
       "        -5.91273155e-01, -1.56173762e-01, -5.89846684e-01,\n",
       "        -5.46160467e-01, -7.05406136e-01,  3.31181012e-01,\n",
       "        -1.20561997e-01, -3.10549362e-01, -2.57546968e-01],\n",
       "       [-7.98780557e-01, -9.53478945e-01, -7.26997050e-01,\n",
       "        -8.49174176e-01, -1.56173762e-01, -5.89846684e-01,\n",
       "        -8.46855555e-01, -6.79508359e-01, -7.78627699e-01,\n",
       "         1.15440270e+00,  3.77780920e+00,  3.06312734e+00],\n",
       "       [ 1.57219829e-02, -8.79388074e-01, -7.58863632e-01,\n",
       "        -3.94253686e-01, -1.56173762e-01, -5.89846684e-01,\n",
       "         2.48533696e-01, -2.65143915e-01,  2.99472192e+00,\n",
       "        -1.08477024e-01, -8.19434541e-02,  2.65512338e-03],\n",
       "       [-2.52145009e-01, -1.01433930e-01, -8.81777591e-01,\n",
       "        -4.22157731e-01, -1.56173762e-01, -5.89846684e-01,\n",
       "        -1.59552496e-01, -4.46428359e-01,  2.55079844e+00,\n",
       "        -7.12725697e-01, -1.20290252e-01,  2.93270446e-01],\n",
       "       [-7.95665825e-01, -1.10166069e+00, -9.20472726e-01,\n",
       "        -8.45228149e-01, -1.56173762e-01, -5.89846684e-01,\n",
       "        -8.03899114e-01, -6.79508359e-01, -2.36054551e-01,\n",
       "         7.19343658e-01, -3.98304533e-01, -6.58551057e-01],\n",
       "       [-8.57960474e-01, -1.43506961e+00, -1.59194713e+00,\n",
       "        -1.30014864e+00, -1.56173762e-01, -5.89846684e-01,\n",
       "        -8.68333776e-01, -7.31303914e-01, -5.07341125e-01,\n",
       "         5.32026570e-01,  4.41637819e-01,  2.62857215e-01],\n",
       "       [-8.93779897e-01, -1.76847852e+00, -2.11546955e+00,\n",
       "        -3.53557268e+00, -1.56173762e-01, -5.89846684e-01,\n",
       "        -9.11290217e-01, -7.31303914e-01, -8.27952531e-01,\n",
       "        -1.54054638e+00, -1.28618038e+00, -9.91970187e-01],\n",
       "       [-8.92222531e-01, -1.73143309e+00, -2.11546955e+00,\n",
       "        -7.16982286e-01, -1.56173762e-01, -5.89846684e-01,\n",
       "        -9.11290217e-01, -7.31303914e-01, -8.03290115e-01,\n",
       "        -4.34771307e-01, -4.74998128e-01, -3.16120599e-01],\n",
       "       [-8.93779897e-01, -1.76847852e+00, -2.11546955e+00,\n",
       "        -3.53557268e+00, -1.56173762e-01, -5.89846684e-01,\n",
       "        -9.11290217e-01, -7.31303914e-01, -8.52614947e-01,\n",
       "         8.76448313e-01, -2.09736264e+00, -2.34366936e+00],\n",
       "       [-8.62632573e-01, -1.02756982e+00, -2.11546955e+00,\n",
       "         1.16217193e+00, -1.56173762e-01, -5.89846684e-01,\n",
       "        -8.68333776e-01, -7.05406136e-01, -8.52614947e-01,\n",
       "         1.11210530e+00, -2.09736264e+00, -2.34366936e+00]])"
      ]
     },
     "execution_count": 32,
     "metadata": {},
     "output_type": "execute_result"
    }
   ],
   "source": [
    "X_train_1  # scaled data"
   ]
  },
  {
   "cell_type": "code",
   "execution_count": 33,
   "id": "6eed5a23",
   "metadata": {},
   "outputs": [
    {
     "data": {
      "text/plain": [
       "array([[-1.11228361e+00,  3.91378318e-01,  9.52571623e-01],\n",
       "       [ 1.02920896e-01,  4.37398795e-01,  6.95890010e-01],\n",
       "       [ 3.14705268e+00,  1.42537706e-02,  2.49992460e-01],\n",
       "       [ 7.56876578e+00, -1.73608322e+00, -1.52543138e+00],\n",
       "       [ 4.44665755e+00, -6.32492450e-01, -6.56787166e-02],\n",
       "       [ 8.83847237e-01,  1.10226546e+00,  4.52240346e-01],\n",
       "       [ 1.88595343e+00,  1.68146259e-01,  1.15540031e-01],\n",
       "       [ 1.37146169e+00,  2.18760310e-01,  3.12309236e-01],\n",
       "       [-6.73932743e-01,  1.41809615e+00,  4.73868364e-01],\n",
       "       [ 2.30523691e+00,  1.07860071e+00,  4.63631660e+00],\n",
       "       [ 3.08800037e+00, -8.62437669e-01, -1.67642205e+00],\n",
       "       [ 1.78608343e+00,  3.28949106e-01,  1.47989392e-01],\n",
       "       [ 1.04929201e+00, -2.24329194e-01,  3.75951059e-01],\n",
       "       [-8.83115068e-02,  4.84281604e-01,  5.38951378e-01],\n",
       "       [ 9.44604623e-01, -4.63312968e+00,  1.77315112e+00],\n",
       "       [ 2.91646781e+00, -1.30310436e+00, -1.52496162e+00],\n",
       "       [ 3.57428388e+00,  5.54877491e-01, -1.68707588e-01],\n",
       "       [-3.41205341e-01,  2.00358759e+00,  2.67651431e-01],\n",
       "       [ 7.83844023e-01, -1.69289336e-01, -1.18103841e-01],\n",
       "       [ 2.94716922e-01,  6.57824437e-01,  7.56025543e-01],\n",
       "       [ 4.62773195e-01,  2.84760930e-02, -8.57536595e-01],\n",
       "       [-9.03194373e-01,  1.43464273e+00,  3.83231220e-01],\n",
       "       [-1.96293867e+00, -2.04556846e+00,  1.29119313e+00],\n",
       "       [-1.34595093e+00, -4.07566373e-01,  3.14566299e-01],\n",
       "       [-7.53694238e-01,  3.67484763e-01, -2.02684244e-01],\n",
       "       [-1.11559241e+00,  6.51511795e-01,  1.08903563e-02],\n",
       "       [-1.61659074e+00, -3.97463690e-01,  4.64144200e-01],\n",
       "       [ 3.37652773e-01,  1.73843079e+00, -1.67579849e-01],\n",
       "       [-1.15647561e+00,  6.34808654e-01,  3.13925069e-01],\n",
       "       [-1.58148721e+00,  3.81004075e-01, -5.12392479e-03],\n",
       "       [-7.63605443e-01,  1.98119442e+00, -4.19378271e-02],\n",
       "       [-9.53682769e-01,  9.83820307e-02, -1.81265304e-01],\n",
       "       [-1.69800523e+00, -2.88122435e-01, -4.50498809e-01],\n",
       "       [-1.27712160e+00,  4.70162936e+00, -1.58173964e+00],\n",
       "       [-3.65144870e-01, -5.42313493e-01, -1.99863528e+00],\n",
       "       [-5.21605610e-01, -4.06389687e-01, -1.42822697e+00],\n",
       "       [-2.24077011e+00, -2.59601297e-01, -3.58484747e-01],\n",
       "       [-2.61406315e+00,  5.95074659e-01, -9.50918974e-01],\n",
       "       [-3.95416725e+00, -2.38910205e+00, -8.04363747e-01],\n",
       "       [-3.02491458e+00, -5.32449244e-01, -4.98228782e-01],\n",
       "       [-4.20305933e+00, -2.86331244e+00, -6.72049259e-01],\n",
       "       [-2.68181786e+00, -1.77830428e+00,  7.52180278e-01]])"
      ]
     },
     "execution_count": 33,
     "metadata": {},
     "output_type": "execute_result"
    }
   ],
   "source": [
    "transformed_data=principalComponents.fit_transform(X_train_1)  ### only give data which is transformed ( principal component)\n",
    "transformed_data"
   ]
  },
  {
   "cell_type": "code",
   "execution_count": 34,
   "id": "b09c2d4a",
   "metadata": {},
   "outputs": [
    {
     "name": "stdout",
     "output_type": "stream",
     "text": [
      "original shape:    (42, 12)\n",
      "transformed shape: (42, 3)\n"
     ]
    }
   ],
   "source": [
    "print(\"original shape:   \", X_train_1.shape)\n",
    "print(\"transformed shape:\", transformed_data.shape)"
   ]
  },
  {
   "cell_type": "code",
   "execution_count": 35,
   "id": "a6857fcc",
   "metadata": {},
   "outputs": [
    {
     "data": {
      "text/html": [
       "<div>\n",
       "<style scoped>\n",
       "    .dataframe tbody tr th:only-of-type {\n",
       "        vertical-align: middle;\n",
       "    }\n",
       "\n",
       "    .dataframe tbody tr th {\n",
       "        vertical-align: top;\n",
       "    }\n",
       "\n",
       "    .dataframe thead th {\n",
       "        text-align: right;\n",
       "    }\n",
       "</style>\n",
       "<table border=\"1\" class=\"dataframe\">\n",
       "  <thead>\n",
       "    <tr style=\"text-align: right;\">\n",
       "      <th></th>\n",
       "      <th>Data PC1</th>\n",
       "      <th>Data PC2</th>\n",
       "      <th>Data PC3</th>\n",
       "    </tr>\n",
       "  </thead>\n",
       "  <tbody>\n",
       "    <tr>\n",
       "      <th>0</th>\n",
       "      <td>-1.112284</td>\n",
       "      <td>0.391378</td>\n",
       "      <td>0.952572</td>\n",
       "    </tr>\n",
       "    <tr>\n",
       "      <th>1</th>\n",
       "      <td>0.102921</td>\n",
       "      <td>0.437399</td>\n",
       "      <td>0.695890</td>\n",
       "    </tr>\n",
       "    <tr>\n",
       "      <th>2</th>\n",
       "      <td>3.147053</td>\n",
       "      <td>0.014254</td>\n",
       "      <td>0.249992</td>\n",
       "    </tr>\n",
       "    <tr>\n",
       "      <th>3</th>\n",
       "      <td>7.568766</td>\n",
       "      <td>-1.736083</td>\n",
       "      <td>-1.525431</td>\n",
       "    </tr>\n",
       "    <tr>\n",
       "      <th>4</th>\n",
       "      <td>4.446658</td>\n",
       "      <td>-0.632492</td>\n",
       "      <td>-0.065679</td>\n",
       "    </tr>\n",
       "  </tbody>\n",
       "</table>\n",
       "</div>"
      ],
      "text/plain": [
       "   Data PC1  Data PC2  Data PC3\n",
       "0 -1.112284  0.391378  0.952572\n",
       "1  0.102921  0.437399  0.695890\n",
       "2  3.147053  0.014254  0.249992\n",
       "3  7.568766 -1.736083 -1.525431\n",
       "4  4.446658 -0.632492 -0.065679"
      ]
     },
     "execution_count": 35,
     "metadata": {},
     "output_type": "execute_result"
    }
   ],
   "source": [
    "principalDf = pd.DataFrame(data = transformed_data\n",
    "             , columns = ['Data PC1', 'Data PC2','Data PC3'])\n",
    "principalDf.head()"
   ]
  },
  {
   "cell_type": "markdown",
   "id": "8e140399",
   "metadata": {},
   "source": [
    "# To check the Principal Component is uncorrelated / independent"
   ]
  },
  {
   "cell_type": "code",
   "execution_count": 36,
   "id": "2e6cd4f5",
   "metadata": {},
   "outputs": [
    {
     "data": {
      "text/html": [
       "<style type=\"text/css\">\n",
       "#T_e123d_row0_col0, #T_e123d_row1_col1, #T_e123d_row2_col2 {\n",
       "  background-color: yellow;\n",
       "}\n",
       "</style>\n",
       "<table id=\"T_e123d\">\n",
       "  <thead>\n",
       "    <tr>\n",
       "      <th class=\"blank level0\" >&nbsp;</th>\n",
       "      <th id=\"T_e123d_level0_col0\" class=\"col_heading level0 col0\" >Data PC1</th>\n",
       "      <th id=\"T_e123d_level0_col1\" class=\"col_heading level0 col1\" >Data PC2</th>\n",
       "      <th id=\"T_e123d_level0_col2\" class=\"col_heading level0 col2\" >Data PC3</th>\n",
       "    </tr>\n",
       "  </thead>\n",
       "  <tbody>\n",
       "    <tr>\n",
       "      <th id=\"T_e123d_level0_row0\" class=\"row_heading level0 row0\" >Data PC1</th>\n",
       "      <td id=\"T_e123d_row0_col0\" class=\"data row0 col0\" >1.000000</td>\n",
       "      <td id=\"T_e123d_row0_col1\" class=\"data row0 col1\" >-0.000000</td>\n",
       "      <td id=\"T_e123d_row0_col2\" class=\"data row0 col2\" >-0.000000</td>\n",
       "    </tr>\n",
       "    <tr>\n",
       "      <th id=\"T_e123d_level0_row1\" class=\"row_heading level0 row1\" >Data PC2</th>\n",
       "      <td id=\"T_e123d_row1_col0\" class=\"data row1 col0\" >-0.000000</td>\n",
       "      <td id=\"T_e123d_row1_col1\" class=\"data row1 col1\" >1.000000</td>\n",
       "      <td id=\"T_e123d_row1_col2\" class=\"data row1 col2\" >-0.000000</td>\n",
       "    </tr>\n",
       "    <tr>\n",
       "      <th id=\"T_e123d_level0_row2\" class=\"row_heading level0 row2\" >Data PC3</th>\n",
       "      <td id=\"T_e123d_row2_col0\" class=\"data row2 col0\" >-0.000000</td>\n",
       "      <td id=\"T_e123d_row2_col1\" class=\"data row2 col1\" >-0.000000</td>\n",
       "      <td id=\"T_e123d_row2_col2\" class=\"data row2 col2\" >1.000000</td>\n",
       "    </tr>\n",
       "  </tbody>\n",
       "</table>\n"
      ],
      "text/plain": [
       "<pandas.io.formats.style.Styler at 0x253ff624c70>"
      ]
     },
     "execution_count": 36,
     "metadata": {},
     "output_type": "execute_result"
    }
   ],
   "source": [
    "Correlation=round(principalDf.corr(),3)\n",
    "Correlation.style.applymap(lambda x: 'background-color : yellow' if x > 0.5 else '')"
   ]
  },
  {
   "cell_type": "markdown",
   "id": "58a0e70b",
   "metadata": {},
   "source": [
    "## Identify variable is combining together in Which PCA "
   ]
  },
  {
   "cell_type": "code",
   "execution_count": 37,
   "id": "c500c55d",
   "metadata": {},
   "outputs": [
    {
     "data": {
      "text/html": [
       "<div>\n",
       "<style scoped>\n",
       "    .dataframe tbody tr th:only-of-type {\n",
       "        vertical-align: middle;\n",
       "    }\n",
       "\n",
       "    .dataframe tbody tr th {\n",
       "        vertical-align: top;\n",
       "    }\n",
       "\n",
       "    .dataframe thead th {\n",
       "        text-align: right;\n",
       "    }\n",
       "</style>\n",
       "<table border=\"1\" class=\"dataframe\">\n",
       "  <thead>\n",
       "    <tr style=\"text-align: right;\">\n",
       "      <th></th>\n",
       "      <th>Runs</th>\n",
       "      <th>Highest</th>\n",
       "      <th>Average</th>\n",
       "      <th>Batting_strike_rate</th>\n",
       "      <th>100</th>\n",
       "      <th>50</th>\n",
       "      <th>4</th>\n",
       "      <th>6</th>\n",
       "      <th>Wickets</th>\n",
       "      <th>Economy</th>\n",
       "      <th>B_Average</th>\n",
       "      <th>Bowling_strike_rate</th>\n",
       "    </tr>\n",
       "  </thead>\n",
       "  <tbody>\n",
       "    <tr>\n",
       "      <th>0</th>\n",
       "      <td>-0.843944</td>\n",
       "      <td>-0.953479</td>\n",
       "      <td>1.526426</td>\n",
       "      <td>0.385932</td>\n",
       "      <td>-0.156174</td>\n",
       "      <td>-0.589847</td>\n",
       "      <td>-0.911290</td>\n",
       "      <td>-0.653611</td>\n",
       "      <td>-0.704640</td>\n",
       "      <td>-0.634173</td>\n",
       "      <td>-0.290639</td>\n",
       "      <td>0.021804</td>\n",
       "    </tr>\n",
       "    <tr>\n",
       "      <th>1</th>\n",
       "      <td>-0.323784</td>\n",
       "      <td>0.194930</td>\n",
       "      <td>1.355712</td>\n",
       "      <td>0.257123</td>\n",
       "      <td>-0.156174</td>\n",
       "      <td>-0.240923</td>\n",
       "      <td>-0.395813</td>\n",
       "      <td>-0.213348</td>\n",
       "      <td>-0.260717</td>\n",
       "      <td>-0.555621</td>\n",
       "      <td>-0.008200</td>\n",
       "      <td>0.340580</td>\n",
       "    </tr>\n",
       "    <tr>\n",
       "      <th>2</th>\n",
       "      <td>1.207107</td>\n",
       "      <td>1.602656</td>\n",
       "      <td>1.296531</td>\n",
       "      <td>0.953596</td>\n",
       "      <td>-0.156174</td>\n",
       "      <td>0.805847</td>\n",
       "      <td>0.935837</td>\n",
       "      <td>1.677189</td>\n",
       "      <td>0.183207</td>\n",
       "      <td>0.616621</td>\n",
       "      <td>0.207870</td>\n",
       "      <td>-0.013115</td>\n",
       "    </tr>\n",
       "    <tr>\n",
       "      <th>3</th>\n",
       "      <td>3.814138</td>\n",
       "      <td>1.306293</td>\n",
       "      <td>1.290840</td>\n",
       "      <td>0.688931</td>\n",
       "      <td>-0.156174</td>\n",
       "      <td>4.644004</td>\n",
       "      <td>3.298441</td>\n",
       "      <td>4.396456</td>\n",
       "      <td>0.627130</td>\n",
       "      <td>0.501814</td>\n",
       "      <td>0.311849</td>\n",
       "      <td>0.143457</td>\n",
       "    </tr>\n",
       "    <tr>\n",
       "      <th>4</th>\n",
       "      <td>1.468745</td>\n",
       "      <td>1.491520</td>\n",
       "      <td>1.270355</td>\n",
       "      <td>1.603563</td>\n",
       "      <td>-0.156174</td>\n",
       "      <td>2.201540</td>\n",
       "      <td>1.343923</td>\n",
       "      <td>2.609509</td>\n",
       "      <td>0.651792</td>\n",
       "      <td>0.550154</td>\n",
       "      <td>-0.026636</td>\n",
       "      <td>-0.226007</td>\n",
       "    </tr>\n",
       "  </tbody>\n",
       "</table>\n",
       "</div>"
      ],
      "text/plain": [
       "       Runs   Highest   Average  Batting_strike_rate       100        50  \\\n",
       "0 -0.843944 -0.953479  1.526426             0.385932 -0.156174 -0.589847   \n",
       "1 -0.323784  0.194930  1.355712             0.257123 -0.156174 -0.240923   \n",
       "2  1.207107  1.602656  1.296531             0.953596 -0.156174  0.805847   \n",
       "3  3.814138  1.306293  1.290840             0.688931 -0.156174  4.644004   \n",
       "4  1.468745  1.491520  1.270355             1.603563 -0.156174  2.201540   \n",
       "\n",
       "          4         6   Wickets   Economy  B_Average  Bowling_strike_rate  \n",
       "0 -0.911290 -0.653611 -0.704640 -0.634173  -0.290639             0.021804  \n",
       "1 -0.395813 -0.213348 -0.260717 -0.555621  -0.008200             0.340580  \n",
       "2  0.935837  1.677189  0.183207  0.616621   0.207870            -0.013115  \n",
       "3  3.298441  4.396456  0.627130  0.501814   0.311849             0.143457  \n",
       "4  1.343923  2.609509  0.651792  0.550154  -0.026636            -0.226007  "
      ]
     },
     "execution_count": 37,
     "metadata": {},
     "output_type": "execute_result"
    }
   ],
   "source": [
    "numeric_predictors_1=['Runs','Highest','Average','Batting_strike_rate','100','50', '4','6','Wickets','Economy','B_Average','Bowling_strike_rate']\n",
    "scaled_train=pd.DataFrame(X_train_1,columns=numeric_predictors_1)\n",
    "scaled_train.head()"
   ]
  },
  {
   "cell_type": "code",
   "execution_count": 38,
   "id": "1949b58b",
   "metadata": {},
   "outputs": [
    {
     "data": {
      "text/html": [
       "<div>\n",
       "<style scoped>\n",
       "    .dataframe tbody tr th:only-of-type {\n",
       "        vertical-align: middle;\n",
       "    }\n",
       "\n",
       "    .dataframe tbody tr th {\n",
       "        vertical-align: top;\n",
       "    }\n",
       "\n",
       "    .dataframe thead th {\n",
       "        text-align: right;\n",
       "    }\n",
       "</style>\n",
       "<table border=\"1\" class=\"dataframe\">\n",
       "  <thead>\n",
       "    <tr style=\"text-align: right;\">\n",
       "      <th></th>\n",
       "      <th>Runs</th>\n",
       "      <th>Highest</th>\n",
       "      <th>Average</th>\n",
       "      <th>Batting_strike_rate</th>\n",
       "      <th>100</th>\n",
       "      <th>50</th>\n",
       "      <th>4</th>\n",
       "      <th>6</th>\n",
       "      <th>Wickets</th>\n",
       "      <th>Economy</th>\n",
       "      <th>B_Average</th>\n",
       "      <th>Bowling_strike_rate</th>\n",
       "      <th>Data PC1</th>\n",
       "      <th>Data PC2</th>\n",
       "      <th>Data PC3</th>\n",
       "    </tr>\n",
       "  </thead>\n",
       "  <tbody>\n",
       "    <tr>\n",
       "      <th>0</th>\n",
       "      <td>-0.843944</td>\n",
       "      <td>-0.953479</td>\n",
       "      <td>1.526426</td>\n",
       "      <td>0.385932</td>\n",
       "      <td>-0.156174</td>\n",
       "      <td>-0.589847</td>\n",
       "      <td>-0.911290</td>\n",
       "      <td>-0.653611</td>\n",
       "      <td>-0.704640</td>\n",
       "      <td>-0.634173</td>\n",
       "      <td>-0.290639</td>\n",
       "      <td>0.021804</td>\n",
       "      <td>-1.112284</td>\n",
       "      <td>0.391378</td>\n",
       "      <td>0.952572</td>\n",
       "    </tr>\n",
       "    <tr>\n",
       "      <th>1</th>\n",
       "      <td>-0.323784</td>\n",
       "      <td>0.194930</td>\n",
       "      <td>1.355712</td>\n",
       "      <td>0.257123</td>\n",
       "      <td>-0.156174</td>\n",
       "      <td>-0.240923</td>\n",
       "      <td>-0.395813</td>\n",
       "      <td>-0.213348</td>\n",
       "      <td>-0.260717</td>\n",
       "      <td>-0.555621</td>\n",
       "      <td>-0.008200</td>\n",
       "      <td>0.340580</td>\n",
       "      <td>0.102921</td>\n",
       "      <td>0.437399</td>\n",
       "      <td>0.695890</td>\n",
       "    </tr>\n",
       "    <tr>\n",
       "      <th>2</th>\n",
       "      <td>1.207107</td>\n",
       "      <td>1.602656</td>\n",
       "      <td>1.296531</td>\n",
       "      <td>0.953596</td>\n",
       "      <td>-0.156174</td>\n",
       "      <td>0.805847</td>\n",
       "      <td>0.935837</td>\n",
       "      <td>1.677189</td>\n",
       "      <td>0.183207</td>\n",
       "      <td>0.616621</td>\n",
       "      <td>0.207870</td>\n",
       "      <td>-0.013115</td>\n",
       "      <td>3.147053</td>\n",
       "      <td>0.014254</td>\n",
       "      <td>0.249992</td>\n",
       "    </tr>\n",
       "    <tr>\n",
       "      <th>3</th>\n",
       "      <td>3.814138</td>\n",
       "      <td>1.306293</td>\n",
       "      <td>1.290840</td>\n",
       "      <td>0.688931</td>\n",
       "      <td>-0.156174</td>\n",
       "      <td>4.644004</td>\n",
       "      <td>3.298441</td>\n",
       "      <td>4.396456</td>\n",
       "      <td>0.627130</td>\n",
       "      <td>0.501814</td>\n",
       "      <td>0.311849</td>\n",
       "      <td>0.143457</td>\n",
       "      <td>7.568766</td>\n",
       "      <td>-1.736083</td>\n",
       "      <td>-1.525431</td>\n",
       "    </tr>\n",
       "    <tr>\n",
       "      <th>4</th>\n",
       "      <td>1.468745</td>\n",
       "      <td>1.491520</td>\n",
       "      <td>1.270355</td>\n",
       "      <td>1.603563</td>\n",
       "      <td>-0.156174</td>\n",
       "      <td>2.201540</td>\n",
       "      <td>1.343923</td>\n",
       "      <td>2.609509</td>\n",
       "      <td>0.651792</td>\n",
       "      <td>0.550154</td>\n",
       "      <td>-0.026636</td>\n",
       "      <td>-0.226007</td>\n",
       "      <td>4.446658</td>\n",
       "      <td>-0.632492</td>\n",
       "      <td>-0.065679</td>\n",
       "    </tr>\n",
       "  </tbody>\n",
       "</table>\n",
       "</div>"
      ],
      "text/plain": [
       "       Runs   Highest   Average  Batting_strike_rate       100        50  \\\n",
       "0 -0.843944 -0.953479  1.526426             0.385932 -0.156174 -0.589847   \n",
       "1 -0.323784  0.194930  1.355712             0.257123 -0.156174 -0.240923   \n",
       "2  1.207107  1.602656  1.296531             0.953596 -0.156174  0.805847   \n",
       "3  3.814138  1.306293  1.290840             0.688931 -0.156174  4.644004   \n",
       "4  1.468745  1.491520  1.270355             1.603563 -0.156174  2.201540   \n",
       "\n",
       "          4         6   Wickets   Economy  B_Average  Bowling_strike_rate  \\\n",
       "0 -0.911290 -0.653611 -0.704640 -0.634173  -0.290639             0.021804   \n",
       "1 -0.395813 -0.213348 -0.260717 -0.555621  -0.008200             0.340580   \n",
       "2  0.935837  1.677189  0.183207  0.616621   0.207870            -0.013115   \n",
       "3  3.298441  4.396456  0.627130  0.501814   0.311849             0.143457   \n",
       "4  1.343923  2.609509  0.651792  0.550154  -0.026636            -0.226007   \n",
       "\n",
       "   Data PC1  Data PC2  Data PC3  \n",
       "0 -1.112284  0.391378  0.952572  \n",
       "1  0.102921  0.437399  0.695890  \n",
       "2  3.147053  0.014254  0.249992  \n",
       "3  7.568766 -1.736083 -1.525431  \n",
       "4  4.446658 -0.632492 -0.065679  "
      ]
     },
     "execution_count": 38,
     "metadata": {},
     "output_type": "execute_result"
    }
   ],
   "source": [
    "final_data=pd.concat([scaled_train,principalDf],axis=1)\n",
    "final_data.head()"
   ]
  },
  {
   "cell_type": "code",
   "execution_count": 39,
   "id": "d28b8195",
   "metadata": {},
   "outputs": [
    {
     "data": {
      "text/html": [
       "<style type=\"text/css\">\n",
       "#T_b88ff_row0_col0, #T_b88ff_row1_col0, #T_b88ff_row2_col0, #T_b88ff_row3_col0, #T_b88ff_row4_col2, #T_b88ff_row5_col0, #T_b88ff_row6_col0, #T_b88ff_row7_col0, #T_b88ff_row10_col1, #T_b88ff_row11_col1 {\n",
       "  background-color: yellow;\n",
       "}\n",
       "</style>\n",
       "<table id=\"T_b88ff\">\n",
       "  <thead>\n",
       "    <tr>\n",
       "      <th class=\"blank level0\" >&nbsp;</th>\n",
       "      <th id=\"T_b88ff_level0_col0\" class=\"col_heading level0 col0\" >Data PC1</th>\n",
       "      <th id=\"T_b88ff_level0_col1\" class=\"col_heading level0 col1\" >Data PC2</th>\n",
       "      <th id=\"T_b88ff_level0_col2\" class=\"col_heading level0 col2\" >Data PC3</th>\n",
       "    </tr>\n",
       "  </thead>\n",
       "  <tbody>\n",
       "    <tr>\n",
       "      <th id=\"T_b88ff_level0_row0\" class=\"row_heading level0 row0\" >Runs</th>\n",
       "      <td id=\"T_b88ff_row0_col0\" class=\"data row0 col0\" >92.700000</td>\n",
       "      <td id=\"T_b88ff_row0_col1\" class=\"data row0 col1\" >24.100000</td>\n",
       "      <td id=\"T_b88ff_row0_col2\" class=\"data row0 col2\" >17.500000</td>\n",
       "    </tr>\n",
       "    <tr>\n",
       "      <th id=\"T_b88ff_level0_row1\" class=\"row_heading level0 row1\" >Highest</th>\n",
       "      <td id=\"T_b88ff_row1_col0\" class=\"data row1 col0\" >85.700000</td>\n",
       "      <td id=\"T_b88ff_row1_col1\" class=\"data row1 col1\" >5.100000</td>\n",
       "      <td id=\"T_b88ff_row1_col2\" class=\"data row1 col2\" >37.100000</td>\n",
       "    </tr>\n",
       "    <tr>\n",
       "      <th id=\"T_b88ff_level0_row2\" class=\"row_heading level0 row2\" >Average</th>\n",
       "      <td id=\"T_b88ff_row2_col0\" class=\"data row2 col0\" >76.000000</td>\n",
       "      <td id=\"T_b88ff_row2_col1\" class=\"data row2 col1\" >18.200000</td>\n",
       "      <td id=\"T_b88ff_row2_col2\" class=\"data row2 col2\" >31.200000</td>\n",
       "    </tr>\n",
       "    <tr>\n",
       "      <th id=\"T_b88ff_level0_row3\" class=\"row_heading level0 row3\" >Batting_strike_rate</th>\n",
       "      <td id=\"T_b88ff_row3_col0\" class=\"data row3 col0\" >58.600000</td>\n",
       "      <td id=\"T_b88ff_row3_col1\" class=\"data row3 col1\" >31.500000</td>\n",
       "      <td id=\"T_b88ff_row3_col2\" class=\"data row3 col2\" >28.200000</td>\n",
       "    </tr>\n",
       "    <tr>\n",
       "      <th id=\"T_b88ff_level0_row4\" class=\"row_heading level0 row4\" >100</th>\n",
       "      <td id=\"T_b88ff_row4_col0\" class=\"data row4 col0\" >15.700000</td>\n",
       "      <td id=\"T_b88ff_row4_col1\" class=\"data row4 col1\" >11.400000</td>\n",
       "      <td id=\"T_b88ff_row4_col2\" class=\"data row4 col2\" >66.400000</td>\n",
       "    </tr>\n",
       "    <tr>\n",
       "      <th id=\"T_b88ff_level0_row5\" class=\"row_heading level0 row5\" >50</th>\n",
       "      <td id=\"T_b88ff_row5_col0\" class=\"data row5 col0\" >84.600000</td>\n",
       "      <td id=\"T_b88ff_row5_col1\" class=\"data row5 col1\" >21.600000</td>\n",
       "      <td id=\"T_b88ff_row5_col2\" class=\"data row5 col2\" >6.300000</td>\n",
       "    </tr>\n",
       "    <tr>\n",
       "      <th id=\"T_b88ff_level0_row6\" class=\"row_heading level0 row6\" >4</th>\n",
       "      <td id=\"T_b88ff_row6_col0\" class=\"data row6 col0\" >91.700000</td>\n",
       "      <td id=\"T_b88ff_row6_col1\" class=\"data row6 col1\" >26.200000</td>\n",
       "      <td id=\"T_b88ff_row6_col2\" class=\"data row6 col2\" >13.700000</td>\n",
       "    </tr>\n",
       "    <tr>\n",
       "      <th id=\"T_b88ff_level0_row7\" class=\"row_heading level0 row7\" >6</th>\n",
       "      <td id=\"T_b88ff_row7_col0\" class=\"data row7 col0\" >90.000000</td>\n",
       "      <td id=\"T_b88ff_row7_col1\" class=\"data row7 col1\" >19.200000</td>\n",
       "      <td id=\"T_b88ff_row7_col2\" class=\"data row7 col2\" >17.200000</td>\n",
       "    </tr>\n",
       "    <tr>\n",
       "      <th id=\"T_b88ff_level0_row8\" class=\"row_heading level0 row8\" >Wickets</th>\n",
       "      <td id=\"T_b88ff_row8_col0\" class=\"data row8 col0\" >42.400000</td>\n",
       "      <td id=\"T_b88ff_row8_col1\" class=\"data row8 col1\" >15.500000</td>\n",
       "      <td id=\"T_b88ff_row8_col2\" class=\"data row8 col2\" >49.400000</td>\n",
       "    </tr>\n",
       "    <tr>\n",
       "      <th id=\"T_b88ff_level0_row9\" class=\"row_heading level0 row9\" >Economy</th>\n",
       "      <td id=\"T_b88ff_row9_col0\" class=\"data row9 col0\" >1.600000</td>\n",
       "      <td id=\"T_b88ff_row9_col1\" class=\"data row9 col1\" >49.700000</td>\n",
       "      <td id=\"T_b88ff_row9_col2\" class=\"data row9 col2\" >13.600000</td>\n",
       "    </tr>\n",
       "    <tr>\n",
       "      <th id=\"T_b88ff_level0_row10\" class=\"row_heading level0 row10\" >B_Average</th>\n",
       "      <td id=\"T_b88ff_row10_col0\" class=\"data row10 col0\" >28.300000</td>\n",
       "      <td id=\"T_b88ff_row10_col1\" class=\"data row10 col1\" >90.100000</td>\n",
       "      <td id=\"T_b88ff_row10_col2\" class=\"data row10 col2\" >20.400000</td>\n",
       "    </tr>\n",
       "    <tr>\n",
       "      <th id=\"T_b88ff_level0_row11\" class=\"row_heading level0 row11\" >Bowling_strike_rate</th>\n",
       "      <td id=\"T_b88ff_row11_col0\" class=\"data row11 col0\" >27.300000</td>\n",
       "      <td id=\"T_b88ff_row11_col1\" class=\"data row11 col1\" >87.100000</td>\n",
       "      <td id=\"T_b88ff_row11_col2\" class=\"data row11 col2\" >21.800000</td>\n",
       "    </tr>\n",
       "  </tbody>\n",
       "</table>\n"
      ],
      "text/plain": [
       "<pandas.io.formats.style.Styler at 0x253ff656e20>"
      ]
     },
     "execution_count": 39,
     "metadata": {},
     "output_type": "execute_result"
    }
   ],
   "source": [
    "Correlation_Matrix=pd.DataFrame(round(final_data.corr(),3))*100\n",
    "Correlation_Matrix=abs(Correlation_Matrix.iloc[0:12,12:15])\n",
    "Correlation_Matrix.style.applymap(lambda x: 'background-color : yellow' if x > 50 else '')"
   ]
  },
  {
   "cell_type": "code",
   "execution_count": 40,
   "id": "82de3ef9",
   "metadata": {},
   "outputs": [],
   "source": [
    "a=final_data[\"Data PC1\"]"
   ]
  },
  {
   "cell_type": "code",
   "execution_count": 41,
   "id": "34de36ad",
   "metadata": {},
   "outputs": [],
   "source": [
    "b=final_data[\"Data PC2\"]"
   ]
  },
  {
   "cell_type": "code",
   "execution_count": 42,
   "id": "5df1cfa1",
   "metadata": {},
   "outputs": [],
   "source": [
    "x=final_data[\"Data PC3\"]"
   ]
  },
  {
   "cell_type": "code",
   "execution_count": 43,
   "id": "f698a04f",
   "metadata": {},
   "outputs": [],
   "source": [
    "c=a+b+x"
   ]
  },
  {
   "cell_type": "code",
   "execution_count": 44,
   "id": "20607fec",
   "metadata": {},
   "outputs": [
    {
     "data": {
      "text/plain": [
       "0    0.231666\n",
       "1    1.236210\n",
       "2    3.411299\n",
       "3    4.307251\n",
       "4    3.748486\n",
       "dtype: float64"
      ]
     },
     "execution_count": 44,
     "metadata": {},
     "output_type": "execute_result"
    }
   ],
   "source": [
    "c.head()"
   ]
  },
  {
   "cell_type": "code",
   "execution_count": 45,
   "id": "12fb1ee5",
   "metadata": {},
   "outputs": [],
   "source": [
    "d=pd.DataFrame(y_train)\n"
   ]
  },
  {
   "cell_type": "code",
   "execution_count": 46,
   "id": "92606f13",
   "metadata": {},
   "outputs": [],
   "source": [
    "all_rounders_ranking_final=pd.concat([c,d],axis=1)"
   ]
  },
  {
   "cell_type": "code",
   "execution_count": 47,
   "id": "fb7c49e2",
   "metadata": {},
   "outputs": [
    {
     "data": {
      "text/html": [
       "<div>\n",
       "<style scoped>\n",
       "    .dataframe tbody tr th:only-of-type {\n",
       "        vertical-align: middle;\n",
       "    }\n",
       "\n",
       "    .dataframe tbody tr th {\n",
       "        vertical-align: top;\n",
       "    }\n",
       "\n",
       "    .dataframe thead th {\n",
       "        text-align: right;\n",
       "    }\n",
       "</style>\n",
       "<table border=\"1\" class=\"dataframe\">\n",
       "  <thead>\n",
       "    <tr style=\"text-align: right;\">\n",
       "      <th></th>\n",
       "      <th>0</th>\n",
       "      <th>Name</th>\n",
       "    </tr>\n",
       "  </thead>\n",
       "  <tbody>\n",
       "    <tr>\n",
       "      <th>0</th>\n",
       "      <td>0.231666</td>\n",
       "      <td>Mitchell Santner</td>\n",
       "    </tr>\n",
       "    <tr>\n",
       "      <th>1</th>\n",
       "      <td>1.236210</td>\n",
       "      <td>Rahul Tewatia</td>\n",
       "    </tr>\n",
       "    <tr>\n",
       "      <th>2</th>\n",
       "      <td>3.411299</td>\n",
       "      <td>Hardik Pandya</td>\n",
       "    </tr>\n",
       "    <tr>\n",
       "      <th>3</th>\n",
       "      <td>4.307251</td>\n",
       "      <td>Kieron Pollard</td>\n",
       "    </tr>\n",
       "    <tr>\n",
       "      <th>4</th>\n",
       "      <td>3.748486</td>\n",
       "      <td>Andre Russell</td>\n",
       "    </tr>\n",
       "  </tbody>\n",
       "</table>\n",
       "</div>"
      ],
      "text/plain": [
       "          0              Name\n",
       "0  0.231666  Mitchell Santner\n",
       "1  1.236210     Rahul Tewatia\n",
       "2  3.411299     Hardik Pandya\n",
       "3  4.307251    Kieron Pollard\n",
       "4  3.748486     Andre Russell"
      ]
     },
     "execution_count": 47,
     "metadata": {},
     "output_type": "execute_result"
    }
   ],
   "source": [
    "all_rounders_ranking_final.head()"
   ]
  },
  {
   "cell_type": "code",
   "execution_count": 48,
   "id": "7f93ea02",
   "metadata": {},
   "outputs": [],
   "source": [
    "all_rounders_ranking_final1= all_rounders_ranking_final.sort_values([0],ascending=False,ignore_index= True)"
   ]
  },
  {
   "cell_type": "code",
   "execution_count": 49,
   "id": "cae88982",
   "metadata": {},
   "outputs": [
    {
     "data": {
      "text/html": [
       "<div>\n",
       "<style scoped>\n",
       "    .dataframe tbody tr th:only-of-type {\n",
       "        vertical-align: middle;\n",
       "    }\n",
       "\n",
       "    .dataframe tbody tr th {\n",
       "        vertical-align: top;\n",
       "    }\n",
       "\n",
       "    .dataframe thead th {\n",
       "        text-align: right;\n",
       "    }\n",
       "</style>\n",
       "<table border=\"1\" class=\"dataframe\">\n",
       "  <thead>\n",
       "    <tr style=\"text-align: right;\">\n",
       "      <th></th>\n",
       "      <th>0</th>\n",
       "      <th>Name</th>\n",
       "    </tr>\n",
       "  </thead>\n",
       "  <tbody>\n",
       "    <tr>\n",
       "      <th>0</th>\n",
       "      <td>8.020154</td>\n",
       "      <td>Ben Stokes</td>\n",
       "    </tr>\n",
       "    <tr>\n",
       "      <th>1</th>\n",
       "      <td>4.307251</td>\n",
       "      <td>Kieron Pollard</td>\n",
       "    </tr>\n",
       "    <tr>\n",
       "      <th>2</th>\n",
       "      <td>3.960454</td>\n",
       "      <td>Glenn Maxwell</td>\n",
       "    </tr>\n",
       "    <tr>\n",
       "      <th>3</th>\n",
       "      <td>3.748486</td>\n",
       "      <td>Andre Russell</td>\n",
       "    </tr>\n",
       "    <tr>\n",
       "      <th>4</th>\n",
       "      <td>3.411299</td>\n",
       "      <td>Hardik Pandya</td>\n",
       "    </tr>\n",
       "  </tbody>\n",
       "</table>\n",
       "</div>"
      ],
      "text/plain": [
       "          0            Name\n",
       "0  8.020154      Ben Stokes\n",
       "1  4.307251  Kieron Pollard\n",
       "2  3.960454   Glenn Maxwell\n",
       "3  3.748486   Andre Russell\n",
       "4  3.411299   Hardik Pandya"
      ]
     },
     "execution_count": 49,
     "metadata": {},
     "output_type": "execute_result"
    }
   ],
   "source": [
    "all_rounders_ranking_final1.head()"
   ]
  },
  {
   "cell_type": "code",
   "execution_count": 51,
   "id": "f4c8e64c",
   "metadata": {},
   "outputs": [],
   "source": [
    "all_rounders_ranking_final1.to_csv(\"ranking_all_rounder_ipl.csv\",index=False)"
   ]
  },
  {
   "cell_type": "code",
   "execution_count": null,
   "id": "f447d22a",
   "metadata": {},
   "outputs": [],
   "source": []
  }
 ],
 "metadata": {
  "kernelspec": {
   "display_name": "Python 3 (ipykernel)",
   "language": "python",
   "name": "python3"
  },
  "language_info": {
   "codemirror_mode": {
    "name": "ipython",
    "version": 3
   },
   "file_extension": ".py",
   "mimetype": "text/x-python",
   "name": "python",
   "nbconvert_exporter": "python",
   "pygments_lexer": "ipython3",
   "version": "3.9.12"
  }
 },
 "nbformat": 4,
 "nbformat_minor": 5
}
